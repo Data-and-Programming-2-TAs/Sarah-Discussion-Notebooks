{
 "cells": [
  {
   "cell_type": "code",
   "execution_count": 17,
   "metadata": {},
   "outputs": [
    {
     "data": {
      "text/plain": [
       "['2008-12-16.txt',\n",
       " 'Chicago_Death.csv',\n",
       " 'College_Graduation_or_More.xlsx',\n",
       " 'Chicago_SES.csv',\n",
       " '2019-09-18.txt']"
      ]
     },
     "execution_count": 17,
     "metadata": {},
     "output_type": "execute_result"
    }
   ],
   "source": []
  },
  {
   "cell_type": "code",
   "execution_count": 84,
   "metadata": {},
   "outputs": [],
   "source": [
    "import pandas as pd\n",
    "import requests\n",
    "import os\n",
    "import matplotlib.pyplot as plt\n",
    "import geopandas\n",
    "from bokeh.plotting import figure, show #need?\n",
    "from bokeh.models import HoverTool\n",
    "from mpl_toolkits.axes_grid1 import make_axes_locatable"
   ]
  },
  {
   "cell_type": "code",
   "execution_count": 96,
   "metadata": {},
   "outputs": [],
   "source": [
    "path = '/Users/Sarah/Documents/GitHub/Sarah-Discussion-Notebooks/Data'\n",
    "filename = 'College_Graduation_or_More.xlsx'\n",
    "chi_comm_area_boundries = os.path.join('Boundaries - Community Areas (current)','geo_export_8d7b31fe-6ff9-40e2-b9c6-91236f0af785.shp')\n",
    "year = '2012-2016'\n",
    "os.chdir(path)\n",
    "        \n",
    "def read_data(path, filename):\n",
    "    if filename.endswith('.csv'):\n",
    "        df = pd.read_csv(os.path.join(path, filename))\n",
    "    elif filename.endswith('.xls') or filename.endswith('.xlsx'):\n",
    "        df = pd.read_excel(os.path.join(path, filename))\n",
    "    else:\n",
    "        print('unexpected file type in read_data')\n",
    "    \n",
    "    return df\n",
    "\n",
    "\n",
    "def parse_chi_health_atlas_df(df, date_range):\n",
    "    df = df[df['Year'] == date_range]\n",
    "    df = df[['Geo_Group', 'Geo_ID', 'Percent']]\n",
    "    \n",
    "    return df\n",
    "\n",
    "  \n",
    "df = read_data(path, filename)\n",
    "df = parse_chi_health_atlas_df(df, year)"
   ]
  },
  {
   "cell_type": "code",
   "execution_count": 97,
   "metadata": {},
   "outputs": [
    {
     "data": {
      "text/html": [
       "<div>\n",
       "<style scoped>\n",
       "    .dataframe tbody tr th:only-of-type {\n",
       "        vertical-align: middle;\n",
       "    }\n",
       "\n",
       "    .dataframe tbody tr th {\n",
       "        vertical-align: top;\n",
       "    }\n",
       "\n",
       "    .dataframe thead th {\n",
       "        text-align: right;\n",
       "    }\n",
       "</style>\n",
       "<table border=\"1\" class=\"dataframe\">\n",
       "  <thead>\n",
       "    <tr style=\"text-align: right;\">\n",
       "      <th></th>\n",
       "      <th>Geo_Group</th>\n",
       "      <th>Geo_ID</th>\n",
       "      <th>Percent</th>\n",
       "    </tr>\n",
       "  </thead>\n",
       "  <tbody>\n",
       "    <tr>\n",
       "      <th>56</th>\n",
       "      <td>1-Rogers Park</td>\n",
       "      <td>1</td>\n",
       "      <td>42.931552</td>\n",
       "    </tr>\n",
       "    <tr>\n",
       "      <th>57</th>\n",
       "      <td>2-West Ridge</td>\n",
       "      <td>2</td>\n",
       "      <td>39.500142</td>\n",
       "    </tr>\n",
       "    <tr>\n",
       "      <th>58</th>\n",
       "      <td>3-Uptown</td>\n",
       "      <td>3</td>\n",
       "      <td>54.078343</td>\n",
       "    </tr>\n",
       "    <tr>\n",
       "      <th>59</th>\n",
       "      <td>4-Lincoln Square</td>\n",
       "      <td>4</td>\n",
       "      <td>60.731151</td>\n",
       "    </tr>\n",
       "    <tr>\n",
       "      <th>60</th>\n",
       "      <td>5-North Center</td>\n",
       "      <td>5</td>\n",
       "      <td>69.316564</td>\n",
       "    </tr>\n",
       "  </tbody>\n",
       "</table>\n",
       "</div>"
      ],
      "text/plain": [
       "           Geo_Group  Geo_ID    Percent\n",
       "56     1-Rogers Park       1  42.931552\n",
       "57      2-West Ridge       2  39.500142\n",
       "58          3-Uptown       3  54.078343\n",
       "59  4-Lincoln Square       4  60.731151\n",
       "60    5-North Center       5  69.316564"
      ]
     },
     "execution_count": 97,
     "metadata": {},
     "output_type": "execute_result"
    }
   ],
   "source": [
    "df.head()"
   ]
  },
  {
   "cell_type": "code",
   "execution_count": 78,
   "metadata": {},
   "outputs": [
    {
     "data": {
      "image/png": "[encoded data removed]",
      "text/plain": [
       "<Figure size 432x288 with 1 Axes>"
      ]
     },
     "metadata": {
      "needs_background": "light"
     },
     "output_type": "display_data"
    }
   ],
   "source": [
    "df_shp = geopandas.read_file(chi_comm_area_boundries)\n",
    "df_shp.plot();\n",
    "# Cite: https://geopandas.org/mapping.html"
   ]
  },
  {
   "cell_type": "code",
   "execution_count": 81,
   "metadata": {},
   "outputs": [
    {
     "data": {
      "text/html": [
       "<div>\n",
       "<style scoped>\n",
       "    .dataframe tbody tr th:only-of-type {\n",
       "        vertical-align: middle;\n",
       "    }\n",
       "\n",
       "    .dataframe tbody tr th {\n",
       "        vertical-align: top;\n",
       "    }\n",
       "\n",
       "    .dataframe thead th {\n",
       "        text-align: right;\n",
       "    }\n",
       "</style>\n",
       "<table border=\"1\" class=\"dataframe\">\n",
       "  <thead>\n",
       "    <tr style=\"text-align: right;\">\n",
       "      <th></th>\n",
       "      <th>area</th>\n",
       "      <th>area_num_1</th>\n",
       "      <th>area_numbe</th>\n",
       "      <th>comarea</th>\n",
       "      <th>comarea_id</th>\n",
       "      <th>community</th>\n",
       "      <th>perimeter</th>\n",
       "      <th>shape_area</th>\n",
       "      <th>shape_len</th>\n",
       "      <th>geometry</th>\n",
       "    </tr>\n",
       "  </thead>\n",
       "  <tbody>\n",
       "    <tr>\n",
       "      <th>0</th>\n",
       "      <td>0.0</td>\n",
       "      <td>35</td>\n",
       "      <td>35</td>\n",
       "      <td>0.0</td>\n",
       "      <td>0.0</td>\n",
       "      <td>DOUGLAS</td>\n",
       "      <td>0.0</td>\n",
       "      <td>4.600462e+07</td>\n",
       "      <td>31027.054510</td>\n",
       "      <td>POLYGON ((-87.60914 41.84469, -87.60915 41.844...</td>\n",
       "    </tr>\n",
       "    <tr>\n",
       "      <th>1</th>\n",
       "      <td>0.0</td>\n",
       "      <td>36</td>\n",
       "      <td>36</td>\n",
       "      <td>0.0</td>\n",
       "      <td>0.0</td>\n",
       "      <td>OAKLAND</td>\n",
       "      <td>0.0</td>\n",
       "      <td>1.691396e+07</td>\n",
       "      <td>19565.506153</td>\n",
       "      <td>POLYGON ((-87.59215 41.81693, -87.59231 41.816...</td>\n",
       "    </tr>\n",
       "    <tr>\n",
       "      <th>2</th>\n",
       "      <td>0.0</td>\n",
       "      <td>37</td>\n",
       "      <td>37</td>\n",
       "      <td>0.0</td>\n",
       "      <td>0.0</td>\n",
       "      <td>FULLER PARK</td>\n",
       "      <td>0.0</td>\n",
       "      <td>1.991670e+07</td>\n",
       "      <td>25339.089750</td>\n",
       "      <td>POLYGON ((-87.62880 41.80189, -87.62879 41.801...</td>\n",
       "    </tr>\n",
       "  </tbody>\n",
       "</table>\n",
       "</div>"
      ],
      "text/plain": [
       "   area area_num_1 area_numbe  comarea  comarea_id    community  perimeter  \\\n",
       "0   0.0         35         35      0.0         0.0      DOUGLAS        0.0   \n",
       "1   0.0         36         36      0.0         0.0      OAKLAND        0.0   \n",
       "2   0.0         37         37      0.0         0.0  FULLER PARK        0.0   \n",
       "\n",
       "     shape_area     shape_len  \\\n",
       "0  4.600462e+07  31027.054510   \n",
       "1  1.691396e+07  19565.506153   \n",
       "2  1.991670e+07  25339.089750   \n",
       "\n",
       "                                            geometry  \n",
       "0  POLYGON ((-87.60914 41.84469, -87.60915 41.844...  \n",
       "1  POLYGON ((-87.59215 41.81693, -87.59231 41.816...  \n",
       "2  POLYGON ((-87.62880 41.80189, -87.62879 41.801...  "
      ]
     },
     "execution_count": 81,
     "metadata": {},
     "output_type": "execute_result"
    }
   ],
   "source": [
    "df_shp.head(3)"
   ]
  },
  {
   "cell_type": "code",
   "execution_count": 79,
   "metadata": {},
   "outputs": [
    {
     "ename": "ValueError",
     "evalue": "You are trying to merge on int64 and object columns. If you wish to proceed you should use pd.concat",
     "output_type": "error",
     "traceback": [
      "\u001b[0;31m---------------------------------------------------------------------------\u001b[0m",
      "\u001b[0;31mValueError\u001b[0m                                Traceback (most recent call last)",
      "\u001b[0;32m<ipython-input-79-d85c912cbe9b>\u001b[0m in \u001b[0;36m<module>\u001b[0;34m\u001b[0m\n\u001b[0;32m----> 1\u001b[0;31m \u001b[0muse_df\u001b[0m \u001b[0;34m=\u001b[0m \u001b[0mdf\u001b[0m\u001b[0;34m.\u001b[0m\u001b[0mmerge\u001b[0m\u001b[0;34m(\u001b[0m\u001b[0mdf_shp\u001b[0m\u001b[0;34m,\u001b[0m \u001b[0mleft_on\u001b[0m \u001b[0;34m=\u001b[0m \u001b[0;34m'Geo_ID'\u001b[0m\u001b[0;34m,\u001b[0m \u001b[0mright_on\u001b[0m \u001b[0;34m=\u001b[0m \u001b[0;34m'area_numbe'\u001b[0m\u001b[0;34m,\u001b[0m \u001b[0mhow\u001b[0m \u001b[0;34m=\u001b[0m \u001b[0;34m'inner'\u001b[0m\u001b[0;34m)\u001b[0m\u001b[0;34m\u001b[0m\u001b[0;34m\u001b[0m\u001b[0m\n\u001b[0m",
      "\u001b[0;32m~/anaconda3/lib/python3.7/site-packages/pandas/core/frame.py\u001b[0m in \u001b[0;36mmerge\u001b[0;34m(self, right, how, on, left_on, right_on, left_index, right_index, sort, suffixes, copy, indicator, validate)\u001b[0m\n\u001b[1;32m   7957\u001b[0m             \u001b[0mcopy\u001b[0m\u001b[0;34m=\u001b[0m\u001b[0mcopy\u001b[0m\u001b[0;34m,\u001b[0m\u001b[0;34m\u001b[0m\u001b[0;34m\u001b[0m\u001b[0m\n\u001b[1;32m   7958\u001b[0m             \u001b[0mindicator\u001b[0m\u001b[0;34m=\u001b[0m\u001b[0mindicator\u001b[0m\u001b[0;34m,\u001b[0m\u001b[0;34m\u001b[0m\u001b[0;34m\u001b[0m\u001b[0m\n\u001b[0;32m-> 7959\u001b[0;31m             \u001b[0mvalidate\u001b[0m\u001b[0;34m=\u001b[0m\u001b[0mvalidate\u001b[0m\u001b[0;34m,\u001b[0m\u001b[0;34m\u001b[0m\u001b[0;34m\u001b[0m\u001b[0m\n\u001b[0m\u001b[1;32m   7960\u001b[0m         )\n\u001b[1;32m   7961\u001b[0m \u001b[0;34m\u001b[0m\u001b[0m\n",
      "\u001b[0;32m~/anaconda3/lib/python3.7/site-packages/pandas/core/reshape/merge.py\u001b[0m in \u001b[0;36mmerge\u001b[0;34m(left, right, how, on, left_on, right_on, left_index, right_index, sort, suffixes, copy, indicator, validate)\u001b[0m\n\u001b[1;32m     85\u001b[0m         \u001b[0mcopy\u001b[0m\u001b[0;34m=\u001b[0m\u001b[0mcopy\u001b[0m\u001b[0;34m,\u001b[0m\u001b[0;34m\u001b[0m\u001b[0;34m\u001b[0m\u001b[0m\n\u001b[1;32m     86\u001b[0m         \u001b[0mindicator\u001b[0m\u001b[0;34m=\u001b[0m\u001b[0mindicator\u001b[0m\u001b[0;34m,\u001b[0m\u001b[0;34m\u001b[0m\u001b[0;34m\u001b[0m\u001b[0m\n\u001b[0;32m---> 87\u001b[0;31m         \u001b[0mvalidate\u001b[0m\u001b[0;34m=\u001b[0m\u001b[0mvalidate\u001b[0m\u001b[0;34m,\u001b[0m\u001b[0;34m\u001b[0m\u001b[0;34m\u001b[0m\u001b[0m\n\u001b[0m\u001b[1;32m     88\u001b[0m     )\n\u001b[1;32m     89\u001b[0m     \u001b[0;32mreturn\u001b[0m \u001b[0mop\u001b[0m\u001b[0;34m.\u001b[0m\u001b[0mget_result\u001b[0m\u001b[0;34m(\u001b[0m\u001b[0;34m)\u001b[0m\u001b[0;34m\u001b[0m\u001b[0;34m\u001b[0m\u001b[0m\n",
      "\u001b[0;32m~/anaconda3/lib/python3.7/site-packages/pandas/core/reshape/merge.py\u001b[0m in \u001b[0;36m__init__\u001b[0;34m(self, left, right, how, on, left_on, right_on, axis, left_index, right_index, sort, suffixes, copy, indicator, validate)\u001b[0m\n\u001b[1;32m    654\u001b[0m         \u001b[0;31m# validate the merge keys dtypes. We may need to coerce\u001b[0m\u001b[0;34m\u001b[0m\u001b[0;34m\u001b[0m\u001b[0;34m\u001b[0m\u001b[0m\n\u001b[1;32m    655\u001b[0m         \u001b[0;31m# to avoid incompatible dtypes\u001b[0m\u001b[0;34m\u001b[0m\u001b[0;34m\u001b[0m\u001b[0;34m\u001b[0m\u001b[0m\n\u001b[0;32m--> 656\u001b[0;31m         \u001b[0mself\u001b[0m\u001b[0;34m.\u001b[0m\u001b[0m_maybe_coerce_merge_keys\u001b[0m\u001b[0;34m(\u001b[0m\u001b[0;34m)\u001b[0m\u001b[0;34m\u001b[0m\u001b[0;34m\u001b[0m\u001b[0m\n\u001b[0m\u001b[1;32m    657\u001b[0m \u001b[0;34m\u001b[0m\u001b[0m\n\u001b[1;32m    658\u001b[0m         \u001b[0;31m# If argument passed to validate,\u001b[0m\u001b[0;34m\u001b[0m\u001b[0;34m\u001b[0m\u001b[0;34m\u001b[0m\u001b[0m\n",
      "\u001b[0;32m~/anaconda3/lib/python3.7/site-packages/pandas/core/reshape/merge.py\u001b[0m in \u001b[0;36m_maybe_coerce_merge_keys\u001b[0;34m(self)\u001b[0m\n\u001b[1;32m   1163\u001b[0m                     \u001b[0minferred_right\u001b[0m \u001b[0;32min\u001b[0m \u001b[0mstring_types\u001b[0m \u001b[0;32mand\u001b[0m \u001b[0minferred_left\u001b[0m \u001b[0;32mnot\u001b[0m \u001b[0;32min\u001b[0m \u001b[0mstring_types\u001b[0m\u001b[0;34m\u001b[0m\u001b[0;34m\u001b[0m\u001b[0m\n\u001b[1;32m   1164\u001b[0m                 ):\n\u001b[0;32m-> 1165\u001b[0;31m                     \u001b[0;32mraise\u001b[0m \u001b[0mValueError\u001b[0m\u001b[0;34m(\u001b[0m\u001b[0mmsg\u001b[0m\u001b[0;34m)\u001b[0m\u001b[0;34m\u001b[0m\u001b[0;34m\u001b[0m\u001b[0m\n\u001b[0m\u001b[1;32m   1166\u001b[0m \u001b[0;34m\u001b[0m\u001b[0m\n\u001b[1;32m   1167\u001b[0m             \u001b[0;31m# datetimelikes must match exactly\u001b[0m\u001b[0;34m\u001b[0m\u001b[0;34m\u001b[0m\u001b[0;34m\u001b[0m\u001b[0m\n",
      "\u001b[0;31mValueError\u001b[0m: You are trying to merge on int64 and object columns. If you wish to proceed you should use pd.concat"
     ]
    }
   ],
   "source": [
    "use_df = df.merge(df_shp, left_on = 'Geo_ID', right_on = 'area_numbe', how = 'inner')"
   ]
  },
  {
   "cell_type": "code",
   "execution_count": 39,
   "metadata": {},
   "outputs": [
    {
     "data": {
      "text/plain": [
       "area           float64\n",
       "area_num_1      object\n",
       "area_numbe      object\n",
       "comarea        float64\n",
       "comarea_id     float64\n",
       "community       object\n",
       "perimeter      float64\n",
       "shape_area     float64\n",
       "shape_len      float64\n",
       "geometry      geometry\n",
       "dtype: object"
      ]
     },
     "execution_count": 39,
     "metadata": {},
     "output_type": "execute_result"
    }
   ],
   "source": [
    "df_shp.dtypes"
   ]
  },
  {
   "cell_type": "code",
   "execution_count": 98,
   "metadata": {},
   "outputs": [
    {
     "data": {
      "text/plain": [
       "Geo_Group     object\n",
       "Geo_ID         int64\n",
       "Percent      float64\n",
       "dtype: object"
      ]
     },
     "execution_count": 98,
     "metadata": {},
     "output_type": "execute_result"
    }
   ],
   "source": [
    "df.dtypes"
   ]
  },
  {
   "cell_type": "code",
   "execution_count": 45,
   "metadata": {},
   "outputs": [],
   "source": [
    "df_shp['area_num_1'] = df_shp['area_num_1'].astype(int)\n",
    "#Cite: https://datatofish.com/string-to-integer-dataframe/\n",
    "df_shp.dtypes"
   ]
  },
  {
   "cell_type": "code",
   "execution_count": 82,
   "metadata": {},
   "outputs": [
    {
     "data": {
      "text/html": [
       "<div>\n",
       "<style scoped>\n",
       "    .dataframe tbody tr th:only-of-type {\n",
       "        vertical-align: middle;\n",
       "    }\n",
       "\n",
       "    .dataframe tbody tr th {\n",
       "        vertical-align: top;\n",
       "    }\n",
       "\n",
       "    .dataframe thead th {\n",
       "        text-align: right;\n",
       "    }\n",
       "</style>\n",
       "<table border=\"1\" class=\"dataframe\">\n",
       "  <thead>\n",
       "    <tr style=\"text-align: right;\">\n",
       "      <th></th>\n",
       "      <th>area</th>\n",
       "      <th>area_num_1</th>\n",
       "      <th>area_numbe</th>\n",
       "      <th>comarea</th>\n",
       "      <th>comarea_id</th>\n",
       "      <th>community</th>\n",
       "      <th>perimeter</th>\n",
       "      <th>shape_area</th>\n",
       "      <th>shape_len</th>\n",
       "      <th>geometry</th>\n",
       "    </tr>\n",
       "  </thead>\n",
       "  <tbody>\n",
       "    <tr>\n",
       "      <th>0</th>\n",
       "      <td>0.0</td>\n",
       "      <td>35</td>\n",
       "      <td>35</td>\n",
       "      <td>0.0</td>\n",
       "      <td>0.0</td>\n",
       "      <td>DOUGLAS</td>\n",
       "      <td>0.0</td>\n",
       "      <td>4.600462e+07</td>\n",
       "      <td>31027.054510</td>\n",
       "      <td>POLYGON ((-87.60914 41.84469, -87.60915 41.844...</td>\n",
       "    </tr>\n",
       "    <tr>\n",
       "      <th>1</th>\n",
       "      <td>0.0</td>\n",
       "      <td>36</td>\n",
       "      <td>36</td>\n",
       "      <td>0.0</td>\n",
       "      <td>0.0</td>\n",
       "      <td>OAKLAND</td>\n",
       "      <td>0.0</td>\n",
       "      <td>1.691396e+07</td>\n",
       "      <td>19565.506153</td>\n",
       "      <td>POLYGON ((-87.59215 41.81693, -87.59231 41.816...</td>\n",
       "    </tr>\n",
       "    <tr>\n",
       "      <th>2</th>\n",
       "      <td>0.0</td>\n",
       "      <td>37</td>\n",
       "      <td>37</td>\n",
       "      <td>0.0</td>\n",
       "      <td>0.0</td>\n",
       "      <td>FULLER PARK</td>\n",
       "      <td>0.0</td>\n",
       "      <td>1.991670e+07</td>\n",
       "      <td>25339.089750</td>\n",
       "      <td>POLYGON ((-87.62880 41.80189, -87.62879 41.801...</td>\n",
       "    </tr>\n",
       "  </tbody>\n",
       "</table>\n",
       "</div>"
      ],
      "text/plain": [
       "   area area_num_1 area_numbe  comarea  comarea_id    community  perimeter  \\\n",
       "0   0.0         35         35      0.0         0.0      DOUGLAS        0.0   \n",
       "1   0.0         36         36      0.0         0.0      OAKLAND        0.0   \n",
       "2   0.0         37         37      0.0         0.0  FULLER PARK        0.0   \n",
       "\n",
       "     shape_area     shape_len  \\\n",
       "0  4.600462e+07  31027.054510   \n",
       "1  1.691396e+07  19565.506153   \n",
       "2  1.991670e+07  25339.089750   \n",
       "\n",
       "                                            geometry  \n",
       "0  POLYGON ((-87.60914 41.84469, -87.60915 41.844...  \n",
       "1  POLYGON ((-87.59215 41.81693, -87.59231 41.816...  \n",
       "2  POLYGON ((-87.62880 41.80189, -87.62879 41.801...  "
      ]
     },
     "execution_count": 82,
     "metadata": {},
     "output_type": "execute_result"
    }
   ],
   "source": [
    "df_shp.head(3)"
   ]
  },
  {
   "cell_type": "code",
   "execution_count": 49,
   "metadata": {},
   "outputs": [],
   "source": [
    "use_df = df.merge(df_shp, left_on = 'Geo_ID', right_on = 'area_num_1', how = 'inner')"
   ]
  },
  {
   "cell_type": "code",
   "execution_count": 83,
   "metadata": {},
   "outputs": [
    {
     "data": {
      "text/html": [
       "<div>\n",
       "<style scoped>\n",
       "    .dataframe tbody tr th:only-of-type {\n",
       "        vertical-align: middle;\n",
       "    }\n",
       "\n",
       "    .dataframe tbody tr th {\n",
       "        vertical-align: top;\n",
       "    }\n",
       "\n",
       "    .dataframe thead th {\n",
       "        text-align: right;\n",
       "    }\n",
       "</style>\n",
       "<table border=\"1\" class=\"dataframe\">\n",
       "  <thead>\n",
       "    <tr style=\"text-align: right;\">\n",
       "      <th></th>\n",
       "      <th>Category</th>\n",
       "      <th>SubCategory</th>\n",
       "      <th>Indicator</th>\n",
       "      <th>Year</th>\n",
       "      <th>Geography</th>\n",
       "      <th>Geo_Group</th>\n",
       "      <th>Geo_ID</th>\n",
       "      <th>Demography</th>\n",
       "      <th>Demo_Group</th>\n",
       "      <th>Number</th>\n",
       "      <th>...</th>\n",
       "      <th>area</th>\n",
       "      <th>area_num_1</th>\n",
       "      <th>area_numbe</th>\n",
       "      <th>comarea</th>\n",
       "      <th>comarea_id</th>\n",
       "      <th>community</th>\n",
       "      <th>perimeter</th>\n",
       "      <th>shape_area</th>\n",
       "      <th>shape_len</th>\n",
       "      <th>geometry</th>\n",
       "    </tr>\n",
       "  </thead>\n",
       "  <tbody>\n",
       "    <tr>\n",
       "      <th>0</th>\n",
       "      <td>Social and Economic Factors</td>\n",
       "      <td>Education</td>\n",
       "      <td>College graduation or more</td>\n",
       "      <td>2012-2016</td>\n",
       "      <td>Community Area</td>\n",
       "      <td>1-Rogers Park</td>\n",
       "      <td>1</td>\n",
       "      <td>NaN</td>\n",
       "      <td>NaN</td>\n",
       "      <td>16320</td>\n",
       "      <td>...</td>\n",
       "      <td>0.0</td>\n",
       "      <td>1</td>\n",
       "      <td>1</td>\n",
       "      <td>0.0</td>\n",
       "      <td>0.0</td>\n",
       "      <td>ROGERS PARK</td>\n",
       "      <td>0.0</td>\n",
       "      <td>5.125990e+07</td>\n",
       "      <td>34052.397576</td>\n",
       "      <td>POLYGON ((-87.65456 41.99817, -87.65574 41.998...</td>\n",
       "    </tr>\n",
       "    <tr>\n",
       "      <th>1</th>\n",
       "      <td>Social and Economic Factors</td>\n",
       "      <td>Education</td>\n",
       "      <td>College graduation or more</td>\n",
       "      <td>2012-2016</td>\n",
       "      <td>Community Area</td>\n",
       "      <td>2-West Ridge</td>\n",
       "      <td>2</td>\n",
       "      <td>NaN</td>\n",
       "      <td>NaN</td>\n",
       "      <td>19408</td>\n",
       "      <td>...</td>\n",
       "      <td>0.0</td>\n",
       "      <td>2</td>\n",
       "      <td>2</td>\n",
       "      <td>0.0</td>\n",
       "      <td>0.0</td>\n",
       "      <td>WEST RIDGE</td>\n",
       "      <td>0.0</td>\n",
       "      <td>9.842909e+07</td>\n",
       "      <td>43020.689458</td>\n",
       "      <td>POLYGON ((-87.68465 42.01948, -87.68464 42.019...</td>\n",
       "    </tr>\n",
       "    <tr>\n",
       "      <th>2</th>\n",
       "      <td>Social and Economic Factors</td>\n",
       "      <td>Education</td>\n",
       "      <td>College graduation or more</td>\n",
       "      <td>2012-2016</td>\n",
       "      <td>Community Area</td>\n",
       "      <td>3-Uptown</td>\n",
       "      <td>3</td>\n",
       "      <td>NaN</td>\n",
       "      <td>NaN</td>\n",
       "      <td>24491</td>\n",
       "      <td>...</td>\n",
       "      <td>0.0</td>\n",
       "      <td>3</td>\n",
       "      <td>3</td>\n",
       "      <td>0.0</td>\n",
       "      <td>0.0</td>\n",
       "      <td>UPTOWN</td>\n",
       "      <td>0.0</td>\n",
       "      <td>6.509564e+07</td>\n",
       "      <td>46972.794555</td>\n",
       "      <td>POLYGON ((-87.64102 41.95480, -87.64400 41.954...</td>\n",
       "    </tr>\n",
       "  </tbody>\n",
       "</table>\n",
       "<p>3 rows × 37 columns</p>\n",
       "</div>"
      ],
      "text/plain": [
       "                      Category SubCategory                   Indicator  \\\n",
       "0  Social and Economic Factors   Education  College graduation or more   \n",
       "1  Social and Economic Factors   Education  College graduation or more   \n",
       "2  Social and Economic Factors   Education  College graduation or more   \n",
       "\n",
       "        Year       Geography      Geo_Group  Geo_ID Demography Demo_Group  \\\n",
       "0  2012-2016  Community Area  1-Rogers Park       1        NaN        NaN   \n",
       "1  2012-2016  Community Area   2-West Ridge       2        NaN        NaN   \n",
       "2  2012-2016  Community Area       3-Uptown       3        NaN        NaN   \n",
       "\n",
       "   Number  ...  area  area_num_1  area_numbe  comarea  comarea_id  \\\n",
       "0   16320  ...   0.0           1           1      0.0         0.0   \n",
       "1   19408  ...   0.0           2           2      0.0         0.0   \n",
       "2   24491  ...   0.0           3           3      0.0         0.0   \n",
       "\n",
       "     community  perimeter    shape_area     shape_len  \\\n",
       "0  ROGERS PARK        0.0  5.125990e+07  34052.397576   \n",
       "1   WEST RIDGE        0.0  9.842909e+07  43020.689458   \n",
       "2       UPTOWN        0.0  6.509564e+07  46972.794555   \n",
       "\n",
       "                                            geometry  \n",
       "0  POLYGON ((-87.65456 41.99817, -87.65574 41.998...  \n",
       "1  POLYGON ((-87.68465 42.01948, -87.68464 42.019...  \n",
       "2  POLYGON ((-87.64102 41.95480, -87.64400 41.954...  \n",
       "\n",
       "[3 rows x 37 columns]"
      ]
     },
     "execution_count": 83,
     "metadata": {},
     "output_type": "execute_result"
    }
   ],
   "source": [
    "use_df.head(3)"
   ]
  },
  {
   "cell_type": "code",
   "execution_count": 66,
   "metadata": {},
   "outputs": [
    {
     "data": {
      "image/png": "[encoded data removed]",
      "text/plain": [
       "<Figure size 432x288 with 1 Axes>"
      ]
     },
     "metadata": {
      "needs_background": "light"
     },
     "output_type": "display_data"
    }
   ],
   "source": [
    "use_df.plot();"
   ]
  },
  {
   "cell_type": "code",
   "execution_count": 67,
   "metadata": {},
   "outputs": [],
   "source": [
    "use_gdf = geopandas.GeoDataFrame(use_df)"
   ]
  },
  {
   "cell_type": "code",
   "execution_count": 69,
   "metadata": {},
   "outputs": [
    {
     "data": {
      "text/plain": [
       "<AxesSubplot:>"
      ]
     },
     "execution_count": 69,
     "metadata": {},
     "output_type": "execute_result"
    },
    {
     "data": {
      "image/png": "[encoded data removed]",
      "text/plain": [
       "<Figure size 432x288 with 1 Axes>"
      ]
     },
     "metadata": {
      "needs_background": "light"
     },
     "output_type": "display_data"
    }
   ],
   "source": [
    "use_gdf.plot();"
   ]
  },
  {
   "cell_type": "code",
   "execution_count": 70,
   "metadata": {},
   "outputs": [
    {
     "data": {
      "image/png": "[encoded data removed]",
      "text/plain": [
       "<Figure size 432x288 with 1 Axes>"
      ]
     },
     "metadata": {
      "needs_background": "light"
     },
     "output_type": "display_data"
    }
   ],
   "source": [
    "use_gdf.plot(column = 'Percent');"
   ]
  },
  {
   "cell_type": "code",
   "execution_count": 75,
   "metadata": {},
   "outputs": [
    {
     "data": {
      "image/png": "[encoded data removed]",
      "text/plain": [
       "<Figure size 576x576 with 2 Axes>"
      ]
     },
     "metadata": {
      "needs_background": "light"
     },
     "output_type": "display_data"
    }
   ],
   "source": [
    "fig, ax = plt.subplots(figsize=(8,8))\n",
    "\n",
    "divider = make_axes_locatable(ax)\n",
    "cax = divider.append_axes(\"right\", size=\"5%\", pad=0.1)\n",
    "\n",
    "ax = use_gdf.plot(ax=ax, column='Percent', legend=True, cax=cax)\n",
    "\n",
    "ax.axis('off')\n",
    "ax.set_title('Percent of Community Area Residents with a College Degree');"
   ]
  },
  {
   "cell_type": "code",
   "execution_count": 116,
   "metadata": {},
   "outputs": [],
   "source": [
    "from bokeh.models import GeoJSONDataSource\n"
   ]
  },
  {
   "cell_type": "code",
   "execution_count": 142,
   "metadata": {},
   "outputs": [],
   "source": [
    "test = GeoJSONDataSource(geojson=use_gdf.to_json())"
   ]
  },
  {
   "cell_type": "code",
   "execution_count": 143,
   "metadata": {},
   "outputs": [],
   "source": [
    "p = figure(title=\"A test map\")\n",
    "\n",
    "# Add the lines to the map from our GeoJSONDataSource -object (it is important to specify the columns as 'xs' and 'ys')\n",
    "p.multi_line('xs', 'ys', source=test, color='gray', line_width=3)\n",
    "\n",
    "show(p)\n",
    "#https://automating-gis-processes.github.io/2017/lessons/L5/advanced-bokeh.html"
   ]
  },
  {
   "cell_type": "code",
   "execution_count": 148,
   "metadata": {},
   "outputs": [
    {
     "name": "stdout",
     "output_type": "stream",
     "text": [
      "7\n"
     ]
    },
    {
     "ename": "IndexError",
     "evalue": "list index out of range",
     "output_type": "error",
     "traceback": [
      "\u001b[0;31m---------------------------------------------------------------------------\u001b[0m",
      "\u001b[0;31mIndexError\u001b[0m                                Traceback (most recent call last)",
      "\u001b[0;32m<ipython-input-148-ba2dad64c9f2>\u001b[0m in \u001b[0;36m<module>\u001b[0;34m\u001b[0m\n\u001b[1;32m      8\u001b[0m         \u001b[0midx\u001b[0m \u001b[0;34m=\u001b[0m \u001b[0mint\u001b[0m\u001b[0;34m(\u001b[0m\u001b[0mrate\u001b[0m\u001b[0;34m/\u001b[0m\u001b[0;36m6\u001b[0m\u001b[0;34m)\u001b[0m\u001b[0;34m\u001b[0m\u001b[0;34m\u001b[0m\u001b[0m\n\u001b[1;32m      9\u001b[0m         \u001b[0mprint\u001b[0m\u001b[0;34m(\u001b[0m\u001b[0midx\u001b[0m\u001b[0;34m)\u001b[0m\u001b[0;34m\u001b[0m\u001b[0;34m\u001b[0m\u001b[0m\n\u001b[0;32m---> 10\u001b[0;31m         \u001b[0mcounty_colors\u001b[0m\u001b[0;34m.\u001b[0m\u001b[0mappend\u001b[0m\u001b[0;34m(\u001b[0m\u001b[0mcolors\u001b[0m\u001b[0;34m[\u001b[0m\u001b[0midx\u001b[0m\u001b[0;34m]\u001b[0m\u001b[0;34m)\u001b[0m\u001b[0;34m\u001b[0m\u001b[0;34m\u001b[0m\u001b[0m\n\u001b[0m\u001b[1;32m     11\u001b[0m     \u001b[0;32mexcept\u001b[0m \u001b[0mKeyError\u001b[0m\u001b[0;34m:\u001b[0m\u001b[0;34m\u001b[0m\u001b[0;34m\u001b[0m\u001b[0m\n\u001b[1;32m     12\u001b[0m         \u001b[0mcounty_colors\u001b[0m\u001b[0;34m.\u001b[0m\u001b[0mappend\u001b[0m\u001b[0;34m(\u001b[0m\u001b[0;34m\"black\"\u001b[0m\u001b[0;34m)\u001b[0m\u001b[0;34m\u001b[0m\u001b[0;34m\u001b[0m\u001b[0m\n",
      "\u001b[0;31mIndexError\u001b[0m: list index out of range"
     ]
    }
   ],
   "source": [
    "colors = [\"#F1EEF6\", \"#D4B9DA\", \"#C994C7\", \"#DF65B0\", \"#DD1C77\", \"#980043\"]\n",
    "# use https://colorbrewer2.org/#type=sequential&scheme=BuGn&n=3\n",
    "\n",
    "county_colors = []\n",
    "for i in range(len(use_gdf)-1):\n",
    "    try:\n",
    "        rate = use_gdf['Percent'][i]\n",
    "        idx = int(rate/6)\n",
    "        print(idx)\n",
    "        county_colors.append(colors[idx])\n",
    "    except KeyError:\n",
    "        county_colors.append(\"black\")\n",
    "\n",
    "county_colors"
   ]
  },
  {
   "cell_type": "code",
   "execution_count": 134,
   "metadata": {},
   "outputs": [
    {
     "data": {
      "text/plain": [
       "range(0, 76)"
      ]
     },
     "execution_count": 134,
     "metadata": {},
     "output_type": "execute_result"
    }
   ],
   "source": [
    "range(len(use_gdf)-1)"
   ]
  },
  {
   "cell_type": "code",
   "execution_count": null,
   "metadata": {},
   "outputs": [],
   "source": []
  },
  {
   "cell_type": "code",
   "execution_count": 104,
   "metadata": {},
   "outputs": [],
   "source": [
    "def getXYCoords(geometry, coord_type):\n",
    "    \"\"\" Returns either x or y coordinates from  geometry coordinate sequence. Used with LineString and Polygon geometries.\"\"\"\n",
    "    if coord_type == 'x':\n",
    "        return geometry.coords.xy[0]\n",
    "    elif coord_type == 'y':\n",
    "        return geometry.coords.xy[1]\n",
    "    \n",
    "def getPolyCoords(geometry, coord_type):\n",
    "    \"\"\" Returns Coordinates of Polygon using the Exterior of the Polygon.\"\"\"\n",
    "    ext = geometry.exterior\n",
    "    return getXYCoords(ext, coord_type)\n",
    "\n",
    "def getCoords(row, geom_col, coord_type):\n",
    "    \"\"\"\n",
    "    Returns coordinates ('x' or 'y') of a geometry (Point, LineString or Polygon) as a list (if geometry is LineString or Polygon).\n",
    "    Can handle also MultiGeometries.\n",
    "    \"\"\"\n",
    "    # Get geometry\n",
    "    geom = row[geom_col]\n",
    "\n",
    "    # Check the geometry type\n",
    "    gtype = geom.geom_type\n",
    "    print('gtype')\n",
    "    print(gtype)\n",
    "\n",
    "    # \"Normal\" geometries\n",
    "    # -------------------\n",
    "\n",
    "    if gtype == \"Point\":\n",
    "        return getPointCoords(geom, coord_type)\n",
    "    elif gtype == \"LineString\":\n",
    "        return list( getLineCoords(geom, coord_type) )\n",
    "    elif gtype == \"Polygon\":\n",
    "        return list( getPolyCoords(geom, coord_type) )\n",
    "\n",
    "    # Multi geometries\n",
    "    # ----------------\n",
    "\n",
    "    else:\n",
    "        print('whoops!')\n",
    "\n",
    "# Cite: https://automating-gis-processes.github.io/2017/lessons/L5/advanced-bokeh.html"
   ]
  },
  {
   "cell_type": "code",
   "execution_count": 106,
   "metadata": {},
   "outputs": [
    {
     "name": "stdout",
     "output_type": "stream",
     "text": [
      "gtype\n",
      "Polygon\n",
      "gtype\n",
      "Polygon\n",
      "gtype\n",
      "Polygon\n",
      "gtype\n",
      "Polygon\n",
      "gtype\n",
      "Polygon\n",
      "gtype\n",
      "Polygon\n",
      "gtype\n",
      "Polygon\n",
      "gtype\n",
      "Polygon\n",
      "gtype\n",
      "Polygon\n",
      "gtype\n",
      "Polygon\n",
      "gtype\n",
      "Polygon\n",
      "gtype\n",
      "Polygon\n",
      "gtype\n",
      "Polygon\n",
      "gtype\n",
      "Polygon\n",
      "gtype\n",
      "Polygon\n",
      "gtype\n",
      "Polygon\n",
      "gtype\n",
      "Polygon\n",
      "gtype\n",
      "Polygon\n",
      "gtype\n",
      "Polygon\n",
      "gtype\n",
      "Polygon\n",
      "gtype\n",
      "Polygon\n",
      "gtype\n",
      "Polygon\n",
      "gtype\n",
      "Polygon\n",
      "gtype\n",
      "Polygon\n",
      "gtype\n",
      "Polygon\n",
      "gtype\n",
      "Polygon\n",
      "gtype\n",
      "Polygon\n",
      "gtype\n",
      "Polygon\n",
      "gtype\n",
      "Polygon\n",
      "gtype\n",
      "Polygon\n",
      "gtype\n",
      "Polygon\n",
      "gtype\n",
      "Polygon\n",
      "gtype\n",
      "Polygon\n",
      "gtype\n",
      "Polygon\n",
      "gtype\n",
      "Polygon\n",
      "gtype\n",
      "Polygon\n",
      "gtype\n",
      "Polygon\n",
      "gtype\n",
      "Polygon\n",
      "gtype\n",
      "Polygon\n",
      "gtype\n",
      "Polygon\n",
      "gtype\n",
      "Polygon\n",
      "gtype\n",
      "Polygon\n",
      "gtype\n",
      "Polygon\n",
      "gtype\n",
      "Polygon\n",
      "gtype\n",
      "Polygon\n",
      "gtype\n",
      "Polygon\n",
      "gtype\n",
      "Polygon\n",
      "gtype\n",
      "Polygon\n",
      "gtype\n",
      "Polygon\n",
      "gtype\n",
      "Polygon\n",
      "gtype\n",
      "Polygon\n",
      "gtype\n",
      "Polygon\n",
      "gtype\n",
      "Polygon\n",
      "gtype\n",
      "Polygon\n",
      "gtype\n",
      "Polygon\n",
      "gtype\n",
      "Polygon\n",
      "gtype\n",
      "Polygon\n",
      "gtype\n",
      "Polygon\n",
      "gtype\n",
      "Polygon\n",
      "gtype\n",
      "Polygon\n",
      "gtype\n",
      "Polygon\n",
      "gtype\n",
      "Polygon\n",
      "gtype\n",
      "Polygon\n",
      "gtype\n",
      "Polygon\n",
      "gtype\n",
      "Polygon\n",
      "gtype\n",
      "Polygon\n",
      "gtype\n",
      "Polygon\n",
      "gtype\n",
      "Polygon\n",
      "gtype\n",
      "Polygon\n",
      "gtype\n",
      "Polygon\n",
      "gtype\n",
      "Polygon\n",
      "gtype\n",
      "Polygon\n",
      "gtype\n",
      "Polygon\n",
      "gtype\n",
      "Polygon\n",
      "gtype\n",
      "Polygon\n",
      "gtype\n",
      "MultiPolygon\n",
      "whoops!\n",
      "gtype\n",
      "Polygon\n",
      "gtype\n",
      "Polygon\n",
      "gtype\n",
      "Polygon\n",
      "gtype\n",
      "Polygon\n",
      "gtype\n",
      "Polygon\n",
      "gtype\n",
      "Polygon\n",
      "gtype\n",
      "Polygon\n",
      "gtype\n",
      "Polygon\n",
      "gtype\n",
      "Polygon\n",
      "gtype\n",
      "Polygon\n",
      "gtype\n",
      "Polygon\n",
      "gtype\n",
      "Polygon\n",
      "gtype\n",
      "Polygon\n",
      "gtype\n",
      "Polygon\n",
      "gtype\n",
      "Polygon\n",
      "gtype\n",
      "Polygon\n",
      "gtype\n",
      "Polygon\n",
      "gtype\n",
      "Polygon\n",
      "gtype\n",
      "Polygon\n",
      "gtype\n",
      "Polygon\n",
      "gtype\n",
      "Polygon\n",
      "gtype\n",
      "Polygon\n",
      "gtype\n",
      "Polygon\n",
      "gtype\n",
      "Polygon\n",
      "gtype\n",
      "Polygon\n",
      "gtype\n",
      "Polygon\n",
      "gtype\n",
      "Polygon\n",
      "gtype\n",
      "Polygon\n",
      "gtype\n",
      "Polygon\n",
      "gtype\n",
      "Polygon\n",
      "gtype\n",
      "Polygon\n",
      "gtype\n",
      "Polygon\n",
      "gtype\n",
      "Polygon\n",
      "gtype\n",
      "Polygon\n",
      "gtype\n",
      "Polygon\n",
      "gtype\n",
      "Polygon\n",
      "gtype\n",
      "Polygon\n",
      "gtype\n",
      "Polygon\n",
      "gtype\n",
      "Polygon\n",
      "gtype\n",
      "Polygon\n",
      "gtype\n",
      "Polygon\n",
      "gtype\n",
      "Polygon\n",
      "gtype\n",
      "Polygon\n",
      "gtype\n",
      "Polygon\n",
      "gtype\n",
      "Polygon\n",
      "gtype\n",
      "Polygon\n",
      "gtype\n",
      "Polygon\n",
      "gtype\n",
      "Polygon\n",
      "gtype\n",
      "Polygon\n",
      "gtype\n",
      "Polygon\n",
      "gtype\n",
      "Polygon\n",
      "gtype\n",
      "Polygon\n",
      "gtype\n",
      "Polygon\n",
      "gtype\n",
      "Polygon\n",
      "gtype\n",
      "Polygon\n",
      "gtype\n",
      "Polygon\n",
      "gtype\n",
      "Polygon\n",
      "gtype\n",
      "Polygon\n",
      "gtype\n",
      "Polygon\n",
      "gtype\n",
      "Polygon\n",
      "gtype\n",
      "Polygon\n",
      "gtype\n",
      "Polygon\n",
      "gtype\n",
      "Polygon\n",
      "gtype\n",
      "Polygon\n",
      "gtype\n",
      "Polygon\n",
      "gtype\n",
      "Polygon\n",
      "gtype\n",
      "Polygon\n",
      "gtype\n",
      "Polygon\n",
      "gtype\n",
      "Polygon\n",
      "gtype\n",
      "Polygon\n",
      "gtype\n",
      "Polygon\n",
      "gtype\n",
      "Polygon\n",
      "gtype\n",
      "Polygon\n",
      "gtype\n",
      "Polygon\n",
      "gtype\n",
      "Polygon\n",
      "gtype\n",
      "Polygon\n",
      "gtype\n",
      "MultiPolygon\n",
      "whoops!\n",
      "gtype\n",
      "Polygon\n"
     ]
    }
   ],
   "source": [
    "use_gdf['x'] = use_gdf.apply(getCoords, geom_col=\"geometry\", coord_type=\"x\", axis=1)\n",
    "\n",
    "use_gdf['y'] = use_gdf.apply(getCoords, geom_col=\"geometry\", coord_type=\"y\", axis=1)"
   ]
  },
  {
   "cell_type": "code",
   "execution_count": 111,
   "metadata": {},
   "outputs": [],
   "source": [
    "rdf = use_gdf[['x', 'y']]\n"
   ]
  },
  {
   "cell_type": "code",
   "execution_count": 115,
   "metadata": {},
   "outputs": [
    {
     "name": "stderr",
     "output_type": "stream",
     "text": [
      "ERROR:bokeh.core.validation.check:E-1001 (BAD_COLUMN_NAME): Glyph refers to nonexistent column name. This could either be due to a misspelling or typo, or due to an expected column being missing. : key \"xs\" value \"x\", key \"ys\" value \"y\" [renderer: GlyphRenderer(id=1310, glyph=Patches(id='1308', ...), ...)]\n"
     ]
    }
   ],
   "source": [
    "p = figure()#title=\"Travel times to Helsinki city center by public transportation\", tools=TOOLS,\n",
    "           #plot_width=650, plot_height=500, active_scroll = \"wheel_zoom\" )\n",
    "\n",
    "# Do not add grid line\n",
    "p.grid.grid_line_color = None\n",
    "\n",
    "# Add polygon grid and a legend for it\n",
    "grid = p.patches('x', 'y')\n",
    "\n",
    "show(p)"
   ]
  },
  {
   "cell_type": "code",
   "execution_count": null,
   "metadata": {},
   "outputs": [],
   "source": []
  }
 ],
 "metadata": {
  "kernelspec": {
   "display_name": "Python 3",
   "language": "python",
   "name": "python3"
  },
  "language_info": {
   "codemirror_mode": {
    "name": "ipython",
    "version": 3
   },
   "file_extension": ".py",
   "mimetype": "text/x-python",
   "name": "python",
   "nbconvert_exporter": "python",
   "pygments_lexer": "ipython3",
   "version": "3.7.1"
  }
 },
 "nbformat": 4,
 "nbformat_minor": 4
}
