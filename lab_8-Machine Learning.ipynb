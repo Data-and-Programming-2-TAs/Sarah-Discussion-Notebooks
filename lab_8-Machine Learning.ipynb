{
 "cells": [
  {
   "cell_type": "markdown",
   "metadata": {},
   "source": [
    "# Machine Learning in Scikit-learn"
   ]
  },
  {
   "cell_type": "code",
   "execution_count": null,
   "metadata": {},
   "outputs": [],
   "source": []
  },
  {
   "cell_type": "markdown",
   "metadata": {},
   "source": [
    "If you are a self-guided learner:      \n",
    "https://scikit-learn.org/stable/auto_examples/index.html   \n",
    "Scikit-learn documentation has a variety of examples covering the broad scope of ML"
   ]
  },
  {
   "cell_type": "markdown",
   "metadata": {},
   "source": [
    "__Steps__\n",
    "\n",
    "1. Choose a model by importing its class from Scikit-Learn\n",
    "2. Choose (non-data) parameters by creating an instance of the above class\n",
    "3. Arrange data into the labels matrix and features matrix\n",
    "4. Fit the data to the instance of the model\n",
    "5. Examine results (e.g. predict, plot)"
   ]
  },
  {
   "cell_type": "code",
   "execution_count": 8,
   "metadata": {},
   "outputs": [],
   "source": [
    "import os\n",
    "import pandas as pd\n",
    "import requests"
   ]
  },
  {
   "cell_type": "code",
   "execution_count": 17,
   "metadata": {},
   "outputs": [],
   "source": [
    "path = '/Users/Sarah/Documents/GitHub/Sarah-Discussion-Notebooks/Data'\n",
    "\n",
    "base_url = 'https://data.cityofchicago.org/api/views/{}/rows.csv?accessType=DOWNLOAD'\n",
    "file_name = [('kn9c-c2s2', 'Chicago_SES.csv'),\n",
    "            ('j6cj-r444','Chicago_Death.csv')]\n",
    "\n",
    "\n",
    "\n",
    "def download_data(url, filename):\n",
    "    if filename not in os.listdir():\n",
    "        response = requests.get(url)\n",
    "        output = response.text\n",
    "        with open(filename, 'w') as ofile:\n",
    "            ofile.write(output)\n",
    "\n",
    "def read_data(path, filename):\n",
    "    if filename.endswith('.csv'):\n",
    "        df = pd.read_csv(os.path.join(path, filename))\n",
    "    elif filename.endswith('.xls'):\n",
    "        df = pd.read_excel(os.path.join(path, filename))\n",
    "    else:\n",
    "        return 'unexpected file type in read_data'\n",
    "    return df\n",
    "\n",
    "def build_urls(base_url, num):\n",
    "    return base_url.format(num)    \n",
    "    \n",
    "        \n",
    "def parse_death(death_df):\n",
    "    death_df.rename(columns = {'Community Area': 'Community Area Number'}, inplace=True)\n",
    "    avg_an_death = death_df.pivot(index = 'Community Area Number', columns='Cause of Death', \n",
    "                                  values='Average Adjusted Rate 2006 - 2010')\n",
    "    avg_an_death.drop(0, axis = 0, inplace = True) #drop the Chicago Total\n",
    "    avg_an_death.reset_index(inplace = True)\n",
    "    # create a colomn for Quartile of Avearge Annual Deaths by Coronary Heart Disease\n",
    "    avg_an_death['CVD_quartile'] = (pd.qcut(avg_an_death['Coronary heart disease'], \n",
    "                                            4, labels=['Q1', 'Q2', 'Q3', 'Q4']))\n",
    "    # cite: https://stackoverflow.com/questions/62610541/calculated-quartile-category-of-a-column-in-pandas\n",
    "    \n",
    "    # drop total dealths\n",
    "    avg_an_death.drop(columns = ['All Causes'], inplace = True)\n",
    "    return avg_an_death\n",
    "\n",
    "def merge_dfs(SES_df, death_df):     \n",
    "    SES_death = SES_df.merge(death_df, on='Community Area Number', how = 'inner')\n",
    "    \n",
    "    #drop colums with Nan (all cols dropped for this df are completely empty)\n",
    "    SES_death.dropna(axis=1,inplace=True)\n",
    "\n",
    "    return SES_death\n",
    "\n",
    "\n",
    "def prep_df(base_url, file_name):\n",
    "    urls = [] \n",
    "    for n, f in file_name:\n",
    "        urls.append((build_urls(base_url, n), f)) \n",
    " \n",
    "    # download if not present andread in df\n",
    "    df_contents = []\n",
    "    for url, filename in urls:\n",
    "        download_data(url,filename)\n",
    "        df = read_data(path, filename)\n",
    "        if filename == 'Chicago_Death.csv':\n",
    "                df_contents.append(parse_death(df))\n",
    "        else:\n",
    "            df_contents.append(df)\n",
    "\n",
    "    merged = merge_dfs(df_contents[0], df_contents[1])\n",
    "    \n",
    "    return merged\n",
    "\n",
    "use_df = prep_df(base_url, file_name)"
   ]
  },
  {
   "cell_type": "code",
   "execution_count": 18,
   "metadata": {},
   "outputs": [
    {
     "data": {
      "text/html": [
       "<div>\n",
       "<style scoped>\n",
       "    .dataframe tbody tr th:only-of-type {\n",
       "        vertical-align: middle;\n",
       "    }\n",
       "\n",
       "    .dataframe tbody tr th {\n",
       "        vertical-align: top;\n",
       "    }\n",
       "\n",
       "    .dataframe thead th {\n",
       "        text-align: right;\n",
       "    }\n",
       "</style>\n",
       "<table border=\"1\" class=\"dataframe\">\n",
       "  <thead>\n",
       "    <tr style=\"text-align: right;\">\n",
       "      <th></th>\n",
       "      <th>Community Area Number</th>\n",
       "      <th>COMMUNITY AREA NAME</th>\n",
       "      <th>PERCENT OF HOUSING CROWDED</th>\n",
       "      <th>PERCENT HOUSEHOLDS BELOW POVERTY</th>\n",
       "      <th>PERCENT AGED 16+ UNEMPLOYED</th>\n",
       "      <th>PERCENT AGED 25+ WITHOUT HIGH SCHOOL DIPLOMA</th>\n",
       "      <th>PERCENT AGED UNDER 18 OR OVER 64</th>\n",
       "      <th>PER CAPITA INCOME</th>\n",
       "      <th>HARDSHIP INDEX</th>\n",
       "      <th>All causes in females</th>\n",
       "      <th>...</th>\n",
       "      <th>Diabetes-related</th>\n",
       "      <th>Firearm-related</th>\n",
       "      <th>Injury, unintentional</th>\n",
       "      <th>Kidney disease (nephritis, nephrotic syndrome and nephrosis)</th>\n",
       "      <th>Liver disease and cirrhosis</th>\n",
       "      <th>Lung cancer</th>\n",
       "      <th>Prostate cancer in males</th>\n",
       "      <th>Stroke (cerebrovascular disease)</th>\n",
       "      <th>Suicide (intentional self-harm)</th>\n",
       "      <th>CVD_quartile</th>\n",
       "    </tr>\n",
       "  </thead>\n",
       "  <tbody>\n",
       "    <tr>\n",
       "      <th>0</th>\n",
       "      <td>1.0</td>\n",
       "      <td>Rogers Park</td>\n",
       "      <td>7.7</td>\n",
       "      <td>23.6</td>\n",
       "      <td>8.7</td>\n",
       "      <td>18.2</td>\n",
       "      <td>27.5</td>\n",
       "      <td>23939</td>\n",
       "      <td>39.0</td>\n",
       "      <td>744.0</td>\n",
       "      <td>...</td>\n",
       "      <td>31.4</td>\n",
       "      <td>4.8</td>\n",
       "      <td>25.7</td>\n",
       "      <td>21.3</td>\n",
       "      <td>11.5</td>\n",
       "      <td>41.7</td>\n",
       "      <td>26.3</td>\n",
       "      <td>32.3</td>\n",
       "      <td>8.4</td>\n",
       "      <td>Q4</td>\n",
       "    </tr>\n",
       "    <tr>\n",
       "      <th>1</th>\n",
       "      <td>2.0</td>\n",
       "      <td>West Ridge</td>\n",
       "      <td>7.8</td>\n",
       "      <td>17.2</td>\n",
       "      <td>8.8</td>\n",
       "      <td>20.8</td>\n",
       "      <td>38.5</td>\n",
       "      <td>23040</td>\n",
       "      <td>46.0</td>\n",
       "      <td>570.2</td>\n",
       "      <td>...</td>\n",
       "      <td>24.5</td>\n",
       "      <td>3.9</td>\n",
       "      <td>21.1</td>\n",
       "      <td>21.0</td>\n",
       "      <td>7.7</td>\n",
       "      <td>37.8</td>\n",
       "      <td>16.9</td>\n",
       "      <td>34.3</td>\n",
       "      <td>6.1</td>\n",
       "      <td>Q2</td>\n",
       "    </tr>\n",
       "    <tr>\n",
       "      <th>2</th>\n",
       "      <td>3.0</td>\n",
       "      <td>Uptown</td>\n",
       "      <td>3.8</td>\n",
       "      <td>24.0</td>\n",
       "      <td>8.9</td>\n",
       "      <td>11.8</td>\n",
       "      <td>22.2</td>\n",
       "      <td>35787</td>\n",
       "      <td>20.0</td>\n",
       "      <td>749.7</td>\n",
       "      <td>...</td>\n",
       "      <td>37.1</td>\n",
       "      <td>4.8</td>\n",
       "      <td>26.1</td>\n",
       "      <td>24.6</td>\n",
       "      <td>14.6</td>\n",
       "      <td>48.1</td>\n",
       "      <td>25.9</td>\n",
       "      <td>39.4</td>\n",
       "      <td>9.1</td>\n",
       "      <td>Q4</td>\n",
       "    </tr>\n",
       "    <tr>\n",
       "      <th>3</th>\n",
       "      <td>4.0</td>\n",
       "      <td>Lincoln Square</td>\n",
       "      <td>3.4</td>\n",
       "      <td>10.9</td>\n",
       "      <td>8.2</td>\n",
       "      <td>13.4</td>\n",
       "      <td>25.5</td>\n",
       "      <td>37524</td>\n",
       "      <td>17.0</td>\n",
       "      <td>528.7</td>\n",
       "      <td>...</td>\n",
       "      <td>20.3</td>\n",
       "      <td>2.9</td>\n",
       "      <td>23.9</td>\n",
       "      <td>25.5</td>\n",
       "      <td>10.4</td>\n",
       "      <td>42.9</td>\n",
       "      <td>23.7</td>\n",
       "      <td>30.6</td>\n",
       "      <td>6.1</td>\n",
       "      <td>Q2</td>\n",
       "    </tr>\n",
       "    <tr>\n",
       "      <th>4</th>\n",
       "      <td>5.0</td>\n",
       "      <td>North Center</td>\n",
       "      <td>0.3</td>\n",
       "      <td>7.5</td>\n",
       "      <td>5.2</td>\n",
       "      <td>4.5</td>\n",
       "      <td>26.2</td>\n",
       "      <td>57123</td>\n",
       "      <td>6.0</td>\n",
       "      <td>602.6</td>\n",
       "      <td>...</td>\n",
       "      <td>19.4</td>\n",
       "      <td>1.5</td>\n",
       "      <td>23.2</td>\n",
       "      <td>21.9</td>\n",
       "      <td>11.2</td>\n",
       "      <td>41.2</td>\n",
       "      <td>15.2</td>\n",
       "      <td>39.8</td>\n",
       "      <td>9.2</td>\n",
       "      <td>Q3</td>\n",
       "    </tr>\n",
       "  </tbody>\n",
       "</table>\n",
       "<p>5 rows × 27 columns</p>\n",
       "</div>"
      ],
      "text/plain": [
       "   Community Area Number COMMUNITY AREA NAME  PERCENT OF HOUSING CROWDED  \\\n",
       "0                    1.0         Rogers Park                         7.7   \n",
       "1                    2.0          West Ridge                         7.8   \n",
       "2                    3.0              Uptown                         3.8   \n",
       "3                    4.0      Lincoln Square                         3.4   \n",
       "4                    5.0        North Center                         0.3   \n",
       "\n",
       "   PERCENT HOUSEHOLDS BELOW POVERTY  PERCENT AGED 16+ UNEMPLOYED  \\\n",
       "0                              23.6                          8.7   \n",
       "1                              17.2                          8.8   \n",
       "2                              24.0                          8.9   \n",
       "3                              10.9                          8.2   \n",
       "4                               7.5                          5.2   \n",
       "\n",
       "   PERCENT AGED 25+ WITHOUT HIGH SCHOOL DIPLOMA  \\\n",
       "0                                          18.2   \n",
       "1                                          20.8   \n",
       "2                                          11.8   \n",
       "3                                          13.4   \n",
       "4                                           4.5   \n",
       "\n",
       "   PERCENT AGED UNDER 18 OR OVER 64  PER CAPITA INCOME   HARDSHIP INDEX  \\\n",
       "0                              27.5               23939            39.0   \n",
       "1                              38.5               23040            46.0   \n",
       "2                              22.2               35787            20.0   \n",
       "3                              25.5               37524            17.0   \n",
       "4                              26.2               57123             6.0   \n",
       "\n",
       "   All causes in females  ...  Diabetes-related  Firearm-related  \\\n",
       "0                  744.0  ...              31.4              4.8   \n",
       "1                  570.2  ...              24.5              3.9   \n",
       "2                  749.7  ...              37.1              4.8   \n",
       "3                  528.7  ...              20.3              2.9   \n",
       "4                  602.6  ...              19.4              1.5   \n",
       "\n",
       "   Injury, unintentional  \\\n",
       "0                   25.7   \n",
       "1                   21.1   \n",
       "2                   26.1   \n",
       "3                   23.9   \n",
       "4                   23.2   \n",
       "\n",
       "   Kidney disease (nephritis, nephrotic syndrome and nephrosis)  \\\n",
       "0                                               21.3              \n",
       "1                                               21.0              \n",
       "2                                               24.6              \n",
       "3                                               25.5              \n",
       "4                                               21.9              \n",
       "\n",
       "   Liver disease and cirrhosis  Lung cancer  Prostate cancer in males  \\\n",
       "0                         11.5         41.7                      26.3   \n",
       "1                          7.7         37.8                      16.9   \n",
       "2                         14.6         48.1                      25.9   \n",
       "3                         10.4         42.9                      23.7   \n",
       "4                         11.2         41.2                      15.2   \n",
       "\n",
       "   Stroke (cerebrovascular disease)  Suicide (intentional self-harm)  \\\n",
       "0                              32.3                              8.4   \n",
       "1                              34.3                              6.1   \n",
       "2                              39.4                              9.1   \n",
       "3                              30.6                              6.1   \n",
       "4                              39.8                              9.2   \n",
       "\n",
       "   CVD_quartile  \n",
       "0            Q4  \n",
       "1            Q2  \n",
       "2            Q4  \n",
       "3            Q2  \n",
       "4            Q3  \n",
       "\n",
       "[5 rows x 27 columns]"
      ]
     },
     "execution_count": 18,
     "metadata": {},
     "output_type": "execute_result"
    }
   ],
   "source": [
    "use_df.head()"
   ]
  },
  {
   "cell_type": "markdown",
   "metadata": {},
   "source": [
    "__Steps__\n",
    "\n",
    "1. Choose a model by importing its class from Scikit-Learn\n",
    "2. Choose (non-data) parameters by creating an instance of the above class\n",
    "3. Arrange data into the labels matrix and features matrix\n",
    "4. Fit the data to the instance of the model\n",
    "5. Examine results (e.g. predict, plot)"
   ]
  },
  {
   "cell_type": "code",
   "execution_count": 21,
   "metadata": {},
   "outputs": [
    {
     "data": {
      "text/plain": [
       "Index(['Community Area Number', 'COMMUNITY AREA NAME',\n",
       "       'PERCENT OF HOUSING CROWDED', 'PERCENT HOUSEHOLDS BELOW POVERTY',\n",
       "       'PERCENT AGED 16+ UNEMPLOYED',\n",
       "       'PERCENT AGED 25+ WITHOUT HIGH SCHOOL DIPLOMA',\n",
       "       'PERCENT AGED UNDER 18 OR OVER 64', 'PER CAPITA INCOME ',\n",
       "       'HARDSHIP INDEX', 'All causes in females', 'All causes in males',\n",
       "       'Alzheimers disease', 'Assault (homicide)', 'Breast cancer in females',\n",
       "       'Cancer (all sites)', 'Colorectal cancer', 'Coronary heart disease',\n",
       "       'Diabetes-related', 'Firearm-related', 'Injury, unintentional',\n",
       "       'Kidney disease (nephritis, nephrotic syndrome and nephrosis)',\n",
       "       'Liver disease and cirrhosis', 'Lung cancer',\n",
       "       'Prostate cancer in males', 'Stroke (cerebrovascular disease)',\n",
       "       'Suicide (intentional self-harm)', 'CVD_quartile'],\n",
       "      dtype='object')"
      ]
     },
     "execution_count": 21,
     "metadata": {},
     "output_type": "execute_result"
    }
   ],
   "source": [
    "use_df.columns"
   ]
  },
  {
   "cell_type": "code",
   "execution_count": 29,
   "metadata": {},
   "outputs": [],
   "source": [
    "X = use_df.drop(columns = ['CVD_quartile', 'COMMUNITY AREA NAME'])\n",
    "Y = use_df['CVD_quartile']"
   ]
  },
  {
   "cell_type": "code",
   "execution_count": 30,
   "metadata": {},
   "outputs": [],
   "source": [
    "from sklearn.model_selection import train_test_split\n",
    "\n",
    "X_train, X_test, Y_train, Y_test = train_test_split(X, Y, test_size=0.20, random_state=123)"
   ]
  },
  {
   "cell_type": "code",
   "execution_count": 31,
   "metadata": {},
   "outputs": [
    {
     "name": "stdout",
     "output_type": "stream",
     "text": [
      "(61, 25)\n",
      "(61,)\n",
      "(16, 25)\n",
      "(16,)\n"
     ]
    }
   ],
   "source": [
    "print(X_train.shape)\n",
    "print(Y_train.shape)\n",
    "\n",
    "print(X_test.shape)\n",
    "print(Y_test.shape)"
   ]
  },
  {
   "cell_type": "code",
   "execution_count": 74,
   "metadata": {},
   "outputs": [
    {
     "data": {
      "text/html": [
       "<div>\n",
       "<style scoped>\n",
       "    .dataframe tbody tr th:only-of-type {\n",
       "        vertical-align: middle;\n",
       "    }\n",
       "\n",
       "    .dataframe tbody tr th {\n",
       "        vertical-align: top;\n",
       "    }\n",
       "\n",
       "    .dataframe thead th {\n",
       "        text-align: right;\n",
       "    }\n",
       "</style>\n",
       "<table border=\"1\" class=\"dataframe\">\n",
       "  <thead>\n",
       "    <tr style=\"text-align: right;\">\n",
       "      <th></th>\n",
       "      <th>Community Area Number</th>\n",
       "      <th>PERCENT OF HOUSING CROWDED</th>\n",
       "      <th>PERCENT HOUSEHOLDS BELOW POVERTY</th>\n",
       "      <th>PERCENT AGED 16+ UNEMPLOYED</th>\n",
       "      <th>PERCENT AGED 25+ WITHOUT HIGH SCHOOL DIPLOMA</th>\n",
       "      <th>PERCENT AGED UNDER 18 OR OVER 64</th>\n",
       "      <th>PER CAPITA INCOME</th>\n",
       "      <th>HARDSHIP INDEX</th>\n",
       "      <th>All causes in females</th>\n",
       "      <th>All causes in males</th>\n",
       "      <th>...</th>\n",
       "      <th>Coronary heart disease</th>\n",
       "      <th>Diabetes-related</th>\n",
       "      <th>Firearm-related</th>\n",
       "      <th>Injury, unintentional</th>\n",
       "      <th>Kidney disease (nephritis, nephrotic syndrome and nephrosis)</th>\n",
       "      <th>Liver disease and cirrhosis</th>\n",
       "      <th>Lung cancer</th>\n",
       "      <th>Prostate cancer in males</th>\n",
       "      <th>Stroke (cerebrovascular disease)</th>\n",
       "      <th>Suicide (intentional self-harm)</th>\n",
       "    </tr>\n",
       "  </thead>\n",
       "  <tbody>\n",
       "    <tr>\n",
       "      <th>71</th>\n",
       "      <td>72.0</td>\n",
       "      <td>0.9</td>\n",
       "      <td>5.1</td>\n",
       "      <td>8.0</td>\n",
       "      <td>3.7</td>\n",
       "      <td>40.5</td>\n",
       "      <td>39523</td>\n",
       "      <td>12.0</td>\n",
       "      <td>689.1</td>\n",
       "      <td>792.9</td>\n",
       "      <td>...</td>\n",
       "      <td>132.6</td>\n",
       "      <td>19.8</td>\n",
       "      <td>5.7</td>\n",
       "      <td>18.4</td>\n",
       "      <td>14.2</td>\n",
       "      <td>5.3</td>\n",
       "      <td>44.1</td>\n",
       "      <td>44.0</td>\n",
       "      <td>49.7</td>\n",
       "      <td>7.4</td>\n",
       "    </tr>\n",
       "    <tr>\n",
       "      <th>43</th>\n",
       "      <td>44.0</td>\n",
       "      <td>3.3</td>\n",
       "      <td>27.8</td>\n",
       "      <td>24.0</td>\n",
       "      <td>14.5</td>\n",
       "      <td>40.3</td>\n",
       "      <td>18881</td>\n",
       "      <td>60.0</td>\n",
       "      <td>740.8</td>\n",
       "      <td>1229.5</td>\n",
       "      <td>...</td>\n",
       "      <td>133.7</td>\n",
       "      <td>37.7</td>\n",
       "      <td>36.3</td>\n",
       "      <td>35.3</td>\n",
       "      <td>30.1</td>\n",
       "      <td>5.9</td>\n",
       "      <td>51.1</td>\n",
       "      <td>54.3</td>\n",
       "      <td>42.1</td>\n",
       "      <td>7.6</td>\n",
       "    </tr>\n",
       "    <tr>\n",
       "      <th>51</th>\n",
       "      <td>52.0</td>\n",
       "      <td>6.8</td>\n",
       "      <td>19.2</td>\n",
       "      <td>12.1</td>\n",
       "      <td>31.9</td>\n",
       "      <td>42.8</td>\n",
       "      <td>17104</td>\n",
       "      <td>64.0</td>\n",
       "      <td>639.2</td>\n",
       "      <td>997.8</td>\n",
       "      <td>...</td>\n",
       "      <td>106.5</td>\n",
       "      <td>35.1</td>\n",
       "      <td>9.6</td>\n",
       "      <td>37.0</td>\n",
       "      <td>25.2</td>\n",
       "      <td>16.2</td>\n",
       "      <td>42.2</td>\n",
       "      <td>26.3</td>\n",
       "      <td>32.3</td>\n",
       "      <td>5.6</td>\n",
       "    </tr>\n",
       "    <tr>\n",
       "      <th>1</th>\n",
       "      <td>2.0</td>\n",
       "      <td>7.8</td>\n",
       "      <td>17.2</td>\n",
       "      <td>8.8</td>\n",
       "      <td>20.8</td>\n",
       "      <td>38.5</td>\n",
       "      <td>23040</td>\n",
       "      <td>46.0</td>\n",
       "      <td>570.2</td>\n",
       "      <td>843.0</td>\n",
       "      <td>...</td>\n",
       "      <td>136.3</td>\n",
       "      <td>24.5</td>\n",
       "      <td>3.9</td>\n",
       "      <td>21.1</td>\n",
       "      <td>21.0</td>\n",
       "      <td>7.7</td>\n",
       "      <td>37.8</td>\n",
       "      <td>16.9</td>\n",
       "      <td>34.3</td>\n",
       "      <td>6.1</td>\n",
       "    </tr>\n",
       "    <tr>\n",
       "      <th>37</th>\n",
       "      <td>38.0</td>\n",
       "      <td>3.3</td>\n",
       "      <td>29.3</td>\n",
       "      <td>24.3</td>\n",
       "      <td>15.9</td>\n",
       "      <td>39.5</td>\n",
       "      <td>23472</td>\n",
       "      <td>57.0</td>\n",
       "      <td>775.6</td>\n",
       "      <td>1356.0</td>\n",
       "      <td>...</td>\n",
       "      <td>157.6</td>\n",
       "      <td>31.6</td>\n",
       "      <td>26.3</td>\n",
       "      <td>42.9</td>\n",
       "      <td>21.3</td>\n",
       "      <td>12.2</td>\n",
       "      <td>65.7</td>\n",
       "      <td>35.9</td>\n",
       "      <td>49.0</td>\n",
       "      <td>6.0</td>\n",
       "    </tr>\n",
       "  </tbody>\n",
       "</table>\n",
       "<p>5 rows × 25 columns</p>\n",
       "</div>"
      ],
      "text/plain": [
       "    Community Area Number  PERCENT OF HOUSING CROWDED  \\\n",
       "71                   72.0                         0.9   \n",
       "43                   44.0                         3.3   \n",
       "51                   52.0                         6.8   \n",
       "1                     2.0                         7.8   \n",
       "37                   38.0                         3.3   \n",
       "\n",
       "    PERCENT HOUSEHOLDS BELOW POVERTY  PERCENT AGED 16+ UNEMPLOYED  \\\n",
       "71                               5.1                          8.0   \n",
       "43                              27.8                         24.0   \n",
       "51                              19.2                         12.1   \n",
       "1                               17.2                          8.8   \n",
       "37                              29.3                         24.3   \n",
       "\n",
       "    PERCENT AGED 25+ WITHOUT HIGH SCHOOL DIPLOMA  \\\n",
       "71                                           3.7   \n",
       "43                                          14.5   \n",
       "51                                          31.9   \n",
       "1                                           20.8   \n",
       "37                                          15.9   \n",
       "\n",
       "    PERCENT AGED UNDER 18 OR OVER 64  PER CAPITA INCOME   HARDSHIP INDEX  \\\n",
       "71                              40.5               39523            12.0   \n",
       "43                              40.3               18881            60.0   \n",
       "51                              42.8               17104            64.0   \n",
       "1                               38.5               23040            46.0   \n",
       "37                              39.5               23472            57.0   \n",
       "\n",
       "    All causes in females  All causes in males  ...  Coronary heart disease  \\\n",
       "71                  689.1                792.9  ...                   132.6   \n",
       "43                  740.8               1229.5  ...                   133.7   \n",
       "51                  639.2                997.8  ...                   106.5   \n",
       "1                   570.2                843.0  ...                   136.3   \n",
       "37                  775.6               1356.0  ...                   157.6   \n",
       "\n",
       "    Diabetes-related  Firearm-related  Injury, unintentional  \\\n",
       "71              19.8              5.7                   18.4   \n",
       "43              37.7             36.3                   35.3   \n",
       "51              35.1              9.6                   37.0   \n",
       "1               24.5              3.9                   21.1   \n",
       "37              31.6             26.3                   42.9   \n",
       "\n",
       "    Kidney disease (nephritis, nephrotic syndrome and nephrosis)  \\\n",
       "71                                               14.2              \n",
       "43                                               30.1              \n",
       "51                                               25.2              \n",
       "1                                                21.0              \n",
       "37                                               21.3              \n",
       "\n",
       "    Liver disease and cirrhosis  Lung cancer  Prostate cancer in males  \\\n",
       "71                          5.3         44.1                      44.0   \n",
       "43                          5.9         51.1                      54.3   \n",
       "51                         16.2         42.2                      26.3   \n",
       "1                           7.7         37.8                      16.9   \n",
       "37                         12.2         65.7                      35.9   \n",
       "\n",
       "    Stroke (cerebrovascular disease)  Suicide (intentional self-harm)  \n",
       "71                              49.7                              7.4  \n",
       "43                              42.1                              7.6  \n",
       "51                              32.3                              5.6  \n",
       "1                               34.3                              6.1  \n",
       "37                              49.0                              6.0  \n",
       "\n",
       "[5 rows x 25 columns]"
      ]
     },
     "execution_count": 74,
     "metadata": {},
     "output_type": "execute_result"
    }
   ],
   "source": [
    "X_train.head()"
   ]
  },
  {
   "cell_type": "code",
   "execution_count": 75,
   "metadata": {},
   "outputs": [
    {
     "data": {
      "text/plain": [
       "71    Q2\n",
       "43    Q2\n",
       "51    Q1\n",
       "1     Q2\n",
       "37    Q3\n",
       "Name: CVD_quartile, dtype: category\n",
       "Categories (4, object): ['Q1' < 'Q2' < 'Q3' < 'Q4']"
      ]
     },
     "execution_count": 75,
     "metadata": {},
     "output_type": "execute_result"
    }
   ],
   "source": [
    "Y_train.head()"
   ]
  },
  {
   "cell_type": "code",
   "execution_count": 44,
   "metadata": {},
   "outputs": [],
   "source": [
    "from sklearn.svm import SVC\n",
    "from sklearn.tree import DecisionTreeClassifier\n"
   ]
  },
  {
   "cell_type": "code",
   "execution_count": 76,
   "metadata": {},
   "outputs": [],
   "source": [
    "model = GaussianNB()\n",
    "model.fit(X_train, Y_train)\n",
    "predict = model.predict(X_test)"
   ]
  },
  {
   "cell_type": "code",
   "execution_count": 77,
   "metadata": {},
   "outputs": [
    {
     "data": {
      "text/plain": [
       "array(['Q4', 'Q1', 'Q4', 'Q1', 'Q4', 'Q1', 'Q1', 'Q3', 'Q1', 'Q2', 'Q1',\n",
       "       'Q1', 'Q4', 'Q4', 'Q1', 'Q3'], dtype='<U2')"
      ]
     },
     "execution_count": 77,
     "metadata": {},
     "output_type": "execute_result"
    }
   ],
   "source": [
    "predict"
   ]
  },
  {
   "cell_type": "code",
   "execution_count": 46,
   "metadata": {},
   "outputs": [],
   "source": [
    "from sklearn.metrics import classification_report\n",
    "from sklearn.metrics import confusion_matrix\n",
    "from sklearn.metrics import accuracy_score"
   ]
  },
  {
   "cell_type": "code",
   "execution_count": 78,
   "metadata": {},
   "outputs": [
    {
     "data": {
      "text/plain": [
       "0.4375"
      ]
     },
     "execution_count": 78,
     "metadata": {},
     "output_type": "execute_result"
    }
   ],
   "source": [
    "accuracy_score(Y_test, predict)"
   ]
  },
  {
   "cell_type": "code",
   "execution_count": 79,
   "metadata": {},
   "outputs": [
    {
     "data": {
      "text/plain": [
       "array([[3, 0, 0, 2],\n",
       "       [2, 1, 0, 1],\n",
       "       [2, 0, 1, 0],\n",
       "       [1, 0, 1, 2]])"
      ]
     },
     "execution_count": 79,
     "metadata": {},
     "output_type": "execute_result"
    }
   ],
   "source": [
    "confusion_matrix(Y_test, predict)"
   ]
  },
  {
   "cell_type": "code",
   "execution_count": 80,
   "metadata": {},
   "outputs": [
    {
     "name": "stdout",
     "output_type": "stream",
     "text": [
      "              precision    recall  f1-score   support\n",
      "\n",
      "          Q1       0.38      0.60      0.46         5\n",
      "          Q2       1.00      0.25      0.40         4\n",
      "          Q3       0.50      0.33      0.40         3\n",
      "          Q4       0.40      0.50      0.44         4\n",
      "\n",
      "    accuracy                           0.44        16\n",
      "   macro avg       0.57      0.42      0.43        16\n",
      "weighted avg       0.56      0.44      0.43        16\n",
      "\n"
     ]
    }
   ],
   "source": [
    "print(classification_report(Y_test, predict))"
   ]
  },
  {
   "cell_type": "code",
   "execution_count": 71,
   "metadata": {},
   "outputs": [],
   "source": [
    "model =  LinearDiscriminantAnalysis()\n",
    "model.fit(X_train, Y_train)\n",
    "predict = model.predict(X_test)"
   ]
  },
  {
   "cell_type": "code",
   "execution_count": 72,
   "metadata": {},
   "outputs": [
    {
     "data": {
      "text/plain": [
       "array([[3, 2, 0, 0],\n",
       "       [1, 1, 2, 0],\n",
       "       [0, 3, 0, 0],\n",
       "       [0, 0, 2, 2]])"
      ]
     },
     "execution_count": 72,
     "metadata": {},
     "output_type": "execute_result"
    }
   ],
   "source": [
    "confusion_matrix(Y_test, predict)"
   ]
  },
  {
   "cell_type": "code",
   "execution_count": 73,
   "metadata": {},
   "outputs": [
    {
     "name": "stdout",
     "output_type": "stream",
     "text": [
      "              precision    recall  f1-score   support\n",
      "\n",
      "          Q1       0.75      0.60      0.67         5\n",
      "          Q2       0.17      0.25      0.20         4\n",
      "          Q3       0.00      0.00      0.00         3\n",
      "          Q4       1.00      0.50      0.67         4\n",
      "\n",
      "    accuracy                           0.38        16\n",
      "   macro avg       0.48      0.34      0.38        16\n",
      "weighted avg       0.53      0.38      0.42        16\n",
      "\n"
     ]
    }
   ],
   "source": [
    "print(classification_report(Y_test, predict))"
   ]
  },
  {
   "cell_type": "code",
   "execution_count": 40,
   "metadata": {},
   "outputs": [],
   "source": [
    "from sklearn.model_selection import cross_val_score\n",
    "from sklearn.model_selection import StratifiedKFold"
   ]
  },
  {
   "cell_type": "code",
   "execution_count": 41,
   "metadata": {},
   "outputs": [],
   "source": [
    "from sklearn.tree import DecisionTreeClassifier\n",
    "from sklearn.discriminant_analysis import LinearDiscriminantAnalysis\n",
    "from sklearn.naive_bayes import GaussianNB\n",
    "\n",
    "# create instances of the models\n",
    "models = [('Dec Tree', DecisionTreeClassifier()), \n",
    "          ('Lin Disc', LinearDiscriminantAnalysis()), \n",
    "          ('Gauss', GaussianNB()), \n",
    "          ('SVC', SVC(gamma='auto'))]"
   ]
  },
  {
   "cell_type": "code",
   "execution_count": 61,
   "metadata": {},
   "outputs": [
    {
     "name": "stderr",
     "output_type": "stream",
     "text": [
      "/Users/Sarah/anaconda3/lib/python3.7/site-packages/sklearn/model_selection/_split.py:297: FutureWarning: Setting a random_state has no effect since shuffle is False. This will raise an error in 0.24. You should leave random_state to its default (None), or set shuffle=True.\n",
      "  FutureWarning\n",
      "/Users/Sarah/anaconda3/lib/python3.7/site-packages/sklearn/model_selection/_split.py:297: FutureWarning: Setting a random_state has no effect since shuffle is False. This will raise an error in 0.24. You should leave random_state to its default (None), or set shuffle=True.\n",
      "  FutureWarning\n",
      "/Users/Sarah/anaconda3/lib/python3.7/site-packages/sklearn/model_selection/_split.py:297: FutureWarning: Setting a random_state has no effect since shuffle is False. This will raise an error in 0.24. You should leave random_state to its default (None), or set shuffle=True.\n",
      "  FutureWarning\n",
      "/Users/Sarah/anaconda3/lib/python3.7/site-packages/sklearn/model_selection/_split.py:297: FutureWarning: Setting a random_state has no effect since shuffle is False. This will raise an error in 0.24. You should leave random_state to its default (None), or set shuffle=True.\n",
      "  FutureWarning\n"
     ]
    }
   ],
   "source": [
    "results = []\n",
    "\n",
    "for name, model in models:\n",
    "    kf = StratifiedKFold(n_splits=10, random_state=123)\n",
    "    res = cross_val_score(model, X_train, Y_train, cv=kf, scoring='accuracy')\n",
    "    res_mean = round(res.mean(), 4)\n",
    "    res_std  = round(res.std(), 4)\n",
    "    results.append((name, res_mean, res_std))"
   ]
  },
  {
   "cell_type": "code",
   "execution_count": 62,
   "metadata": {},
   "outputs": [
    {
     "data": {
      "text/plain": [
       "[('Dec Tree', 0.9333, 0.1106),\n",
       " ('Lin Disc', 0.4762, 0.1899),\n",
       " ('Gauss', 0.5405, 0.2333),\n",
       " ('SVC', 0.1786, 0.0357)]"
      ]
     },
     "execution_count": 62,
     "metadata": {},
     "output_type": "execute_result"
    }
   ],
   "source": [
    "results #model, mean accuracy, std of accuracy"
   ]
  },
  {
   "cell_type": "code",
   "execution_count": 56,
   "metadata": {},
   "outputs": [
    {
     "data": {
      "text/plain": [
       "array([0.28571429, 0.16666667, 0.16666667, 0.16666667, 0.16666667,\n",
       "       0.16666667, 0.16666667, 0.16666667, 0.16666667, 0.16666667])"
      ]
     },
     "execution_count": 56,
     "metadata": {},
     "output_type": "execute_result"
    }
   ],
   "source": [
    "cv = cross_val_score(model, X_train, Y_train, cv=kf, scoring='accuracy')\n",
    "cv\n",
    "# What is this? \n",
    "# see here: https://scikit-learn.org/stable/modules/cross_validation.html#cross-validation "
   ]
  },
  {
   "cell_type": "code",
   "execution_count": 1,
   "metadata": {},
   "outputs": [],
   "source": [
    "\n",
    "from pandas_datareader import wb"
   ]
  },
  {
   "cell_type": "code",
   "execution_count": 2,
   "metadata": {},
   "outputs": [],
   "source": [
    "indicator = 'NY.GDP.MKTP.CD'\n",
    "country = 'CL'"
   ]
  },
  {
   "cell_type": "code",
   "execution_count": 3,
   "metadata": {},
   "outputs": [],
   "source": [
    "df = wb.download(indicator=indicator, country=country, start=2000, end=2010)"
   ]
  }
 ],
 "metadata": {
  "kernelspec": {
   "display_name": "Python 3",
   "language": "python",
   "name": "python3"
  },
  "language_info": {
   "codemirror_mode": {
    "name": "ipython",
    "version": 3
   },
   "file_extension": ".py",
   "mimetype": "text/x-python",
   "name": "python",
   "nbconvert_exporter": "python",
   "pygments_lexer": "ipython3",
   "version": "3.7.1"
  }
 },
 "nbformat": 4,
 "nbformat_minor": 4
}
