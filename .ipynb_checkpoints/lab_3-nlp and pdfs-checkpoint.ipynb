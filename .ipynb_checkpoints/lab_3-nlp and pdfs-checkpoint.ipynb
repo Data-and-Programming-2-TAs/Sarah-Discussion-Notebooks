{
 "cells": [
  {
   "cell_type": "markdown",
   "metadata": {},
   "source": [
    "## Natural Language Procesing \n",
    "### Example from a pdf\n",
    "\n",
    "\n",
    "Note (possible consideration for projects) -you do not need to work with a pdf for nlp!    \n",
    "e.g. work with a .txt file, read off of a web page etc. "
   ]
  },
  {
   "cell_type": "markdown",
   "metadata": {},
   "source": [
    "#### Notes for HW2   \n",
    "\n",
    "You need to make your code abstract enough to work for future docs. So if I wanted to run this code for 2017 I should not have to change more than one line of code. You don't need to verify that you get the correct answers with other years, just generalize your code enough so that it runs for other years \n",
    "     \n",
    "Good code orients users to what they'll need to change up at the top\n",
    "\n",
    "You need to use functions in this assignment. (and going forward)\n",
    "\n",
    "It is ok to hard code the page numbers      \n",
    "Best practice:     \n",
    "- If you need to hard code, make it an argument\n",
    "\n",
    "You'll want to try to catch negations (e.g. \"will not increase\", \"failed to rise\") \n",
    "\n",
    "Tip:\n",
    "Writing fns: \n",
    "- Think of what it should do, and mock it out\n",
    "- Write example input\n",
    "- Try again with different input\n",
    "- Use print statements to tell you what's happening\n",
    "- Remove or comment out the intermediary output when finished\n",
    "\n",
    "#Spacy documentation\n",
    "#https://spacy.io/api/doc"
   ]
  },
  {
   "cell_type": "code",
   "execution_count": 7,
   "metadata": {},
   "outputs": [],
   "source": [
    "# import statements belong at the top of your code\n",
    "import os\n",
    "import requests\n",
    "import PyPDF2 \n",
    "import spacy\n",
    "import re\n",
    "import pandas as pd\n",
    "\n",
    "nlp = spacy.load(\"en_core_web_sm\") #English"
   ]
  },
  {
   "cell_type": "code",
   "execution_count": 9,
   "metadata": {},
   "outputs": [],
   "source": [
    "path = os.getcwd()"
   ]
  },
  {
   "cell_type": "code",
   "execution_count": 11,
   "metadata": {},
   "outputs": [],
   "source": [
    "url = 'https://countyofsb.org/ceo/asset.c/4171'\n",
    "filename = 'FY_2020_21_Section_B_Executive_Summary.pdf'"
   ]
  },
  {
   "cell_type": "code",
   "execution_count": 21,
   "metadata": {},
   "outputs": [
    {
     "name": "stdout",
     "output_type": "stream",
     "text": [
      "downloading document from https://countyofsb.org/ceo/asset.c/4171\n"
     ]
    }
   ],
   "source": [
    "# make a comment for where this function is called\n",
    "# e.g. called in main()\n",
    "# but for this example, I'm calling my fns imediately (to demonstrate)\n",
    "def get_pdf(url, filename, path):\n",
    "    response = requests.get(url)\n",
    "    with open(os.path.join(path, filename), 'wb') as ofile:\n",
    "        ofile.write(response.content)\n",
    "\n",
    "\n",
    "\n",
    "if filename not in os.listdir():\n",
    "    print('downloading document from {}'.format(url))\n",
    "    get_pdf(url, filename, path)\n",
    "else:\n",
    "    print('document already in {}'.format(path))"
   ]
  },
  {
   "cell_type": "code",
   "execution_count": 22,
   "metadata": {},
   "outputs": [
    {
     "data": {
      "text/plain": [
       "['Chi_Mort.csv',\n",
       " '.DS_Store',\n",
       " 'FY_2020_21_Section_B_Executive_Summary.pdf',\n",
       " 'lab_3-nlp and pdfs.ipynb',\n",
       " '.ipynb_checkpoints',\n",
       " 'Chi_healcr.csv',\n",
       " '.git',\n",
       " 'lab_1-get requests, pandas and functions.ipynb',\n",
       " 'lab_2-pandas reshaping and merge.ipynb']"
      ]
     },
     "execution_count": 22,
     "metadata": {},
     "output_type": "execute_result"
    }
   ],
   "source": [
    "os.listdir()"
   ]
  },
  {
   "cell_type": "code",
   "execution_count": 175,
   "metadata": {},
   "outputs": [
    {
     "name": "stdout",
     "output_type": "stream",
     "text": [
      "Number of pages: 24\n"
     ]
    }
   ],
   "source": [
    "def read_pdf(filename, path):\n",
    "    with open(os.path.join(path, filename), 'rb') as ifile:\n",
    "        pdf = PyPDF2.PdfFileReader(ifile)\n",
    "\n",
    "        print('Number of pages:', pdf.numPages)\n",
    "\n",
    "        pages = []\n",
    "        for p in range(pdf.numPages):\n",
    "            page = pdf.getPage(p)\n",
    "            text = page.extractText()\n",
    "            text = text.replace(\"™\", \"'\")\n",
    "            text = text.replace(\"\\n\", \"\")\n",
    "            pages.append(text)\n",
    "        \n",
    "        return pages\n",
    "\n",
    "pages = read_pdf(filename, path)"
   ]
  },
  {
   "cell_type": "code",
   "execution_count": 176,
   "metadata": {},
   "outputs": [
    {
     "data": {
      "text/plain": [
       "'                  Section B  Executive Summary '"
      ]
     },
     "execution_count": 176,
     "metadata": {},
     "output_type": "execute_result"
    }
   ],
   "source": [
    "pages[0]"
   ]
  },
  {
   "cell_type": "code",
   "execution_count": 177,
   "metadata": {},
   "outputs": [
    {
     "data": {
      "text/plain": [
       "\"Executive Summary B1 Adapting to an Unprecedented Pandemic  and Preparing for the ﬁNext Normalﬂ The COVID19 pandemic has caused a national recession, a sudden reduction in state and local revenues, and severe economic distress for businesses, families, community organizations and public agencies.  It has jeopardized the health of our communities and our economic livelihood.  As of the writing of the Recommended Budget, the County is still under the State Public Health Officer's ﬁStayatHomeﬂ Order, with very limited easing of restrictions.   In preparing this Recommended Budget, which began in November 2019 and was completed in early May to meet statutory requirements for public review, we lacked complete information on the extent and severity of the disruption to the County's Budget.  The Governor's May Revise of the State's budget demonstrates a deficit of $54.3 billion, and it will be several more months before the specific impact to our budget is known.  While the pandemic has caused seismic changes to our daily lives and economy, it is impossible to answer with certainty the essential questions of ﬁfor how longﬂ and ﬁhow severeﬂ from where we stand today. In the California Legislative Analyst's Office's Spring Fiscal Outlook Report, released in midMay, two scenarios are suggested: a ﬁUﬂshaped recession, where the economy would begin to see meaningful recovery this summer, with rapid activity beginning in the second half of 2021; and an ﬁLﬂshaped recession, where the economy would remain in a slump well into 2021 with gradual recovery starting in the second half of 2021.  The information in this Recommended Budget is based on assumptions that projected revenue losses, beginning in spring 2020 of the current year, continue in key local and State revenues through the first quarter of the upcoming fiscal year and taper down through the remainder of the fiscal year.  In addition, conservative estimates of funding have been assumed.    Our objectives have been to maintain current service levels to the extent possible (ﬁstatus quoﬂ levels of service) so as not to further harm members of our community; continue to fulfill Board commitments and priorities; and invest in initiatives that will help mitigate recessionary impacts and prepare for the next normal and recovery.  In this vein, cannabis tax revenue is being utilized to fill certain gaps created by increased COVID19 related expenditures and temporary decreases in key revenues.  In addition, onetime sourcesŠsuch as the County's Strategic ReserveŠare recommended to be used to support expenditures in certain areas to preserve service levels.  With the current level of uncertainty, combined with sufficient onetime revenue for backfilling losses and covering new costs, few ongoing budget reductions are recommended at this time.  However, the CEO's office intends to return to the Board in the fall with potential ongoing budget reductions to be taken at midyear should they be necessary.It is also worth noting that while all organizations are facing similar challenges, county governments are at the forefront of fighting the pandemic, expanding and intensifying health, public safety and safety net services, and leading emergency operations countywide.  Public Health employees have been working around the clock in this crisis, and at their side have been employees from almost every County department serving in various capacities to protect our residents. The total impact to the County for lost revenues and additional costs are estimated at $25.1 million in the FY 201920 year and $27.3 million in FY 202021, for a total of $52.4 million.  The County will seek FEMA reimbursement (75% allowed) where feasible, but the County has not yet received any direct funding from the federal government for COVID19 impacts or costs (although the Governor's May Revise proposes passing through funding for this purpose). \""
      ]
     },
     "execution_count": 177,
     "metadata": {},
     "output_type": "execute_result"
    }
   ],
   "source": [
    "pages[2]"
   ]
  },
  {
   "cell_type": "code",
   "execution_count": 178,
   "metadata": {},
   "outputs": [
    {
     "data": {
      "text/plain": [
       "'Executive'"
      ]
     },
     "execution_count": 178,
     "metadata": {},
     "output_type": "execute_result"
    }
   ],
   "source": [
    "pages[2][0:9]"
   ]
  },
  {
   "cell_type": "code",
   "execution_count": 179,
   "metadata": {},
   "outputs": [],
   "source": [
    "def tokenize(pages, page_num):\n",
    "    text = pages[page_num]\n",
    "    doc = nlp(text)\n",
    "    return doc\n",
    "\n",
    "tokenized_page = tokenize(pages, 4)"
   ]
  },
  {
   "cell_type": "code",
   "execution_count": 201,
   "metadata": {},
   "outputs": [
    {
     "data": {
      "text/plain": [
       "Executive"
      ]
     },
     "execution_count": 201,
     "metadata": {},
     "output_type": "execute_result"
    }
   ],
   "source": [
    "tokenized_page[0]"
   ]
  },
  {
   "cell_type": "code",
   "execution_count": 181,
   "metadata": {},
   "outputs": [
    {
     "data": {
      "text/plain": [
       "[totaling, expansions, for, requests, submitted]"
      ]
     },
     "execution_count": 181,
     "metadata": {},
     "output_type": "execute_result"
    }
   ],
   "source": [
    "list(tokenized_page[50].ancestors)"
   ]
  },
  {
   "cell_type": "code",
   "execution_count": 182,
   "metadata": {},
   "outputs": [
    {
     "data": {
      "text/plain": [
       "[funding]"
      ]
     },
     "execution_count": 182,
     "metadata": {},
     "output_type": "execute_result"
    }
   ],
   "source": [
    "list(tokenized_page[50].children)"
   ]
  },
  {
   "cell_type": "markdown",
   "metadata": {},
   "source": [
    "#### Exploring our page"
   ]
  },
  {
   "cell_type": "code",
   "execution_count": 183,
   "metadata": {},
   "outputs": [
    {
     "data": {
      "text/plain": [
       "[COVID19, pandemic, COVID19, pandemic, pandemic]"
      ]
     },
     "execution_count": 183,
     "metadata": {},
     "output_type": "execute_result"
    }
   ],
   "source": [
    "covid_terms = ['pandemic', 'COVID']\n",
    "covid_tokens = [t for t in tokenized_page if any([e in t.string for e in covid_terms])]\n",
    "covid_tokens"
   ]
  },
  {
   "cell_type": "code",
   "execution_count": 184,
   "metadata": {},
   "outputs": [
    {
     "data": {
      "text/plain": [
       "[[pandemic, accelerated, is],\n",
       " [accelerated, is],\n",
       " [impacts, impacts, against, lines, are],\n",
       " [by, caused, navigate, need],\n",
       " [after, normalﬂ, in, position, ways, need]]"
      ]
     },
     "execution_count": 184,
     "metadata": {},
     "output_type": "execute_result"
    }
   ],
   "source": [
    "covid_ancs = [list(t.ancestors) for t in covid_tokens]\n",
    "covid_ancs"
   ]
  },
  {
   "cell_type": "code",
   "execution_count": 185,
   "metadata": {},
   "outputs": [
    {
     "name": "stdout",
     "output_type": "stream",
     "text": [
      "pandemic NOUN\n",
      "accelerated VERB\n",
      "is VERB\n",
      "accelerated VERB\n",
      "is VERB\n",
      "impacts NOUN\n",
      "impacts NOUN\n",
      "against ADP\n",
      "lines NOUN\n",
      "are VERB\n",
      "by ADP\n",
      "caused VERB\n",
      "navigate VERB\n",
      "need VERB\n",
      "after ADP\n",
      "normalﬂ NOUN\n",
      "in ADP\n",
      "position VERB\n",
      "ways NOUN\n",
      "need VERB\n"
     ]
    }
   ],
   "source": [
    "# nested for loop\n",
    "for ancs in covid_ancs:\n",
    "    for anc in ancs:\n",
    "        print(anc, anc.pos_)"
   ]
  },
  {
   "cell_type": "code",
   "execution_count": 186,
   "metadata": {},
   "outputs": [
    {
     "data": {
      "text/plain": [
       "[[(pandemic, 'NOUN'), (accelerated, 'VERB'), (is, 'VERB')],\n",
       " [(accelerated, 'VERB'), (is, 'VERB')],\n",
       " [(impacts, 'NOUN'),\n",
       "  (impacts, 'NOUN'),\n",
       "  (against, 'ADP'),\n",
       "  (lines, 'NOUN'),\n",
       "  (are, 'VERB')],\n",
       " [(by, 'ADP'), (caused, 'VERB'), (navigate, 'VERB'), (need, 'VERB')],\n",
       " [(after, 'ADP'),\n",
       "  (normalﬂ, 'NOUN'),\n",
       "  (in, 'ADP'),\n",
       "  (position, 'VERB'),\n",
       "  (ways, 'NOUN'),\n",
       "  (need, 'VERB')]]"
      ]
     },
     "execution_count": 186,
     "metadata": {},
     "output_type": "execute_result"
    }
   ],
   "source": [
    "covid_anc_type = [[(anc, anc.pos_) for anc in ancs] for ancs in covid_ancs]\n",
    "covid_anc_type"
   ]
  },
  {
   "cell_type": "code",
   "execution_count": 187,
   "metadata": {},
   "outputs": [
    {
     "data": {
      "text/plain": [
       "[[accelerated, is],\n",
       " [accelerated, is],\n",
       " [are],\n",
       " [caused, navigate, need],\n",
       " [position, need]]"
      ]
     },
     "execution_count": 187,
     "metadata": {},
     "output_type": "execute_result"
    }
   ],
   "source": [
    "covid_ancs_verbs = [[a for a in ancs if a.pos_ == 'VERB'] for ancs in covid_ancs]\n",
    "covid_ancs_verbs"
   ]
  },
  {
   "cell_type": "code",
   "execution_count": 188,
   "metadata": {},
   "outputs": [
    {
     "name": "stdout",
     "output_type": "stream",
     "text": [
      "nsubj\n",
      "advcl\n",
      "ROOT\n",
      "advcl\n",
      "ROOT\n",
      "pobj\n",
      "prep\n",
      "attr\n",
      "ROOT\n",
      "agent\n",
      "advcl\n",
      "ROOT\n",
      "prep\n",
      "relcl\n",
      "conj\n",
      "ROOT\n"
     ]
    }
   ],
   "source": [
    "for token_list in econ_ancestors:\n",
    "    for ancestor in token_list:\n",
    "        print(ancestor.dep_)"
   ]
  },
  {
   "cell_type": "code",
   "execution_count": 189,
   "metadata": {},
   "outputs": [
    {
     "data": {
      "text/plain": [
       "[[], [the, COVID19], [], [the], [the]]"
      ]
     },
     "execution_count": 189,
     "metadata": {},
     "output_type": "execute_result"
    }
   ],
   "source": [
    "covid_children = [list(t.children) for t in covid_tokens]\n",
    "covid_children"
   ]
  },
  {
   "cell_type": "code",
   "execution_count": 190,
   "metadata": {},
   "outputs": [
    {
     "data": {
      "text/plain": [
       "[[[the, COVID19],\n",
       "  [ever, as, pandemic, has, transition, to],\n",
       "  [need, greater, accelerated, .]],\n",
       " [[ever, as, pandemic, has, transition, to], [need, greater, accelerated, .]],\n",
       " [[COVID19, ,, and, recession],\n",
       "  [unanticipated, State, budget, ,, impacts],\n",
       "  [impacts],\n",
       "  [our, first, of, against],\n",
       "  [accounts, lines, .]],\n",
       " [[pandemic],\n",
       "  [recession, by],\n",
       "  [as, we, caused],\n",
       "  [In, ,, navigate, ,, County, will, focus, ,, and, ways, .]],\n",
       " [[pandemic],\n",
       "  [the, ﬁnext, or, life, after],\n",
       "  [normalﬂ],\n",
       "  [to, County, in, ,, through],\n",
       "  [position],\n",
       "  [In, ,, navigate, ,, County, will, focus, ,, and, ways, .]]]"
      ]
     },
     "execution_count": 190,
     "metadata": {},
     "output_type": "execute_result"
    }
   ],
   "source": [
    "children_of_covid_ancs = [[list(a.children) for a in ancs] for ancs in covid_ancs]\n",
    "children_of_covid_ancs"
   ]
  },
  {
   "cell_type": "code",
   "execution_count": 217,
   "metadata": {},
   "outputs": [
    {
     "data": {
      "text/plain": [
       "[Executive Summary B3, discretionary revenues, departmentspecific revenues]"
      ]
     },
     "execution_count": 217,
     "metadata": {},
     "output_type": "execute_result"
    }
   ],
   "source": [
    "list(tokenized_page[0:10].noun_chunks)"
   ]
  },
  {
   "cell_type": "code",
   "execution_count": 232,
   "metadata": {},
   "outputs": [
    {
     "data": {
      "text/plain": [
       "[expansion requests,\n",
       " ongoing General Fund,\n",
       " funding,\n",
       " this time,\n",
       " Departments,\n",
       " requests,\n",
       " General Fund budget expansions,\n",
       " ongoing funding,\n",
       " onetime funds,\n",
       " additional staffing,\n",
       " 59.5 FTE,\n",
       " Requests,\n",
       " use,\n",
       " cannabis tax revenue,\n",
       " ongoing funding,\n",
       " onetime funding,\n",
       " 8.0 additional positions,\n",
       " Adherence,\n",
       " development policies]"
      ]
     },
     "execution_count": 232,
     "metadata": {},
     "output_type": "execute_result"
    }
   ],
   "source": [
    "list(tokenized_page[10:100].noun_chunks)"
   ]
  },
  {
   "cell_type": "code",
   "execution_count": 267,
   "metadata": {},
   "outputs": [
    {
     "data": {
      "text/plain": [
       "[General Fund budget expansions]"
      ]
     },
     "execution_count": 267,
     "metadata": {},
     "output_type": "execute_result"
    }
   ],
   "source": [
    "test = list(tokenized_page[45:47].noun_chunks)\n",
    "test"
   ]
  },
  {
   "cell_type": "code",
   "execution_count": 268,
   "metadata": {},
   "outputs": [
    {
     "data": {
      "text/plain": [
       "expansions"
      ]
     },
     "execution_count": 268,
     "metadata": {},
     "output_type": "execute_result"
    }
   ],
   "source": [
    "test[0].root"
   ]
  },
  {
   "cell_type": "code",
   "execution_count": 270,
   "metadata": {},
   "outputs": [
    {
     "data": {
      "text/plain": [
       "[General Fund budget expansions,\n",
       " their budget requests,\n",
       " the recommended budget,\n",
       " the adopted budget,\n",
       " unanticipated State budget impacts,\n",
       " the annual General Fund operating budget]"
      ]
     },
     "execution_count": 270,
     "metadata": {},
     "output_type": "execute_result"
    }
   ],
   "source": [
    "budget_nchunks = [nc for nc in tokenized_page.noun_chunks if 'budget' in nc.string]\n",
    "budget_nchunks"
   ]
  },
  {
   "cell_type": "code",
   "execution_count": 191,
   "metadata": {},
   "outputs": [
    {
     "data": {
      "text/plain": [
       "[[pandemic, accelerated, is],\n",
       " [accelerated, is],\n",
       " [impacts, impacts, against, lines, are],\n",
       " [by, caused, navigate, need],\n",
       " [after, normalﬂ, in, position, ways, need]]"
      ]
     },
     "execution_count": 191,
     "metadata": {},
     "output_type": "execute_result"
    }
   ],
   "source": [
    "covid_ancs"
   ]
  },
  {
   "cell_type": "code",
   "execution_count": 210,
   "metadata": {},
   "outputs": [
    {
     "name": "stdout",
     "output_type": "stream",
     "text": [
      "ancestor [is]\n",
      "child [ever, as, pandemic, has, transition, to]\n",
      "ancestor [is]\n",
      "child [ever, as, pandemic, has, transition, to]\n"
     ]
    }
   ],
   "source": [
    "for t_list in covid_ancs:\n",
    "    #print(t_list) #debug\n",
    "    for token in t_list:\n",
    "        #print(token) #debug\n",
    "        if str(token) == 'accelerated':\n",
    "            print('ancestor', list(token.ancestors))\n",
    "            print('child', list(token.children))"
   ]
  },
  {
   "cell_type": "code",
   "execution_count": 212,
   "metadata": {},
   "outputs": [
    {
     "name": "stdout",
     "output_type": "stream",
     "text": [
      "[]\n",
      "[need, greater, accelerated, .]\n"
     ]
    }
   ],
   "source": [
    "for t_list in covid_ancs:\n",
    "    for token in t_list:\n",
    "        if str(token) == 'accelerated':\n",
    "            accelerated_anc = list(token.ancestors) # expect \"is\"\n",
    "\n",
    "for token in accelerated_anc:\n",
    "    print(list(token.ancestors))\n",
    "    print(list(token.children))"
   ]
  },
  {
   "cell_type": "markdown",
   "metadata": {},
   "source": [
    "**This can all be deeply unsatisfying, and you're going to hit a lot of dead ends. Sometimes you do just have to use a brute-force approach though. \n",
    "Try enough things and you'll get what you're looking for**"
   ]
  },
  {
   "cell_type": "markdown",
   "metadata": {},
   "source": [
    "### Let's take look at just one sentence"
   ]
  },
  {
   "cell_type": "code",
   "execution_count": 194,
   "metadata": {},
   "outputs": [
    {
     "data": {
      "text/plain": [
       "The COVID19 pandemic has caused a national recession"
      ]
     },
     "execution_count": 194,
     "metadata": {},
     "output_type": "execute_result"
    }
   ],
   "source": [
    "text = 'The COVID19 pandemic has caused a national recession'\n",
    "doc = nlp(text)\n",
    "doc"
   ]
  },
  {
   "cell_type": "code",
   "execution_count": 198,
   "metadata": {},
   "outputs": [
    {
     "name": "stdout",
     "output_type": "stream",
     "text": [
      "The [pandemic, caused]\n",
      "COVID19 [pandemic, caused]\n",
      "pandemic [caused]\n",
      "has [caused]\n",
      "caused []\n",
      "a [recession, caused]\n",
      "national [recession, caused]\n",
      "recession [caused]\n"
     ]
    }
   ],
   "source": [
    "for token in doc:\n",
    "    print(token, list(token.ancestors))"
   ]
  },
  {
   "cell_type": "code",
   "execution_count": 200,
   "metadata": {},
   "outputs": [
    {
     "name": "stdout",
     "output_type": "stream",
     "text": [
      "The []\n",
      "COVID19 []\n",
      "pandemic [The, COVID19]\n",
      "has []\n",
      "caused [pandemic, has, recession]\n",
      "a []\n",
      "national []\n",
      "recession [a, national]\n"
     ]
    }
   ],
   "source": [
    "for token in doc:\n",
    "    print(token, list(token.children))"
   ]
  },
  {
   "cell_type": "code",
   "execution_count": null,
   "metadata": {},
   "outputs": [],
   "source": [
    "img = spacy.displacy.render(doc, style='dep', options={'distance' : 140}, jupyter=False)\n",
    "with open('dependency parser.svg', 'w', encoding='utf-8') as f:\n",
    "    f.write(img)"
   ]
  },
  {
   "cell_type": "code",
   "execution_count": 228,
   "metadata": {},
   "outputs": [
    {
     "name": "stdout",
     "output_type": "stream",
     "text": [
      "The [The]\n",
      "COVID19 [COVID19]\n",
      "pandemic [The, COVID19, pandemic]\n",
      "has [has]\n",
      "caused [The, COVID19, pandemic, has, caused, a, national, recession]\n",
      "a [a]\n",
      "national [national]\n",
      "recession [a, national, recession]\n"
     ]
    }
   ],
   "source": [
    "# subtree pulls the token, its ancestors and its children\n",
    "for token in doc:\n",
    "    print(token, list(token.subtree))"
   ]
  },
  {
   "cell_type": "code",
   "execution_count": 221,
   "metadata": {},
   "outputs": [
    {
     "data": {
      "text/plain": [
       "[The COVID19 pandemic, a national recession]"
      ]
     },
     "execution_count": 221,
     "metadata": {},
     "output_type": "execute_result"
    }
   ],
   "source": [
    "nc = list(doc.noun_chunks)\n",
    "nc"
   ]
  },
  {
   "cell_type": "code",
   "execution_count": 223,
   "metadata": {},
   "outputs": [
    {
     "data": {
      "text/plain": [
       "pandemic"
      ]
     },
     "execution_count": 223,
     "metadata": {},
     "output_type": "execute_result"
    }
   ],
   "source": [
    "nc[0].root"
   ]
  },
  {
   "cell_type": "code",
   "execution_count": 224,
   "metadata": {},
   "outputs": [
    {
     "data": {
      "text/plain": [
       "recession"
      ]
     },
     "execution_count": 224,
     "metadata": {},
     "output_type": "execute_result"
    }
   ],
   "source": [
    "nc[1].root"
   ]
  },
  {
   "cell_type": "code",
   "execution_count": 227,
   "metadata": {},
   "outputs": [
    {
     "data": {
      "text/plain": [
       "'recession'"
      ]
     },
     "execution_count": 227,
     "metadata": {},
     "output_type": "execute_result"
    }
   ],
   "source": []
  },
  {
   "cell_type": "code",
   "execution_count": null,
   "metadata": {},
   "outputs": [],
   "source": []
  }
 ],
 "metadata": {
  "kernelspec": {
   "display_name": "Python 3",
   "language": "python",
   "name": "python3"
  },
  "language_info": {
   "codemirror_mode": {
    "name": "ipython",
    "version": 3
   },
   "file_extension": ".py",
   "mimetype": "text/x-python",
   "name": "python",
   "nbconvert_exporter": "python",
   "pygments_lexer": "ipython3",
   "version": "3.7.1"
  }
 },
 "nbformat": 4,
 "nbformat_minor": 2
}
