{
 "cells": [
  {
   "cell_type": "markdown",
   "metadata": {},
   "source": [
    "## Natural Language Procesing \n",
    "### Example from a pdf\n",
    "\n",
    "\n",
    "Note (possible consideration for projects) -you do not need to work with a pdf for nlp!    \n",
    "e.g. work with a .txt file, read off of a web page etc. "
   ]
  },
  {
   "cell_type": "markdown",
   "metadata": {},
   "source": [
    "#### Notes for HW2   \n",
    "\n",
    "You need to make your code abstract enough to work for future docs. So if I wanted to run this code for 2017 I should not have to change more than one line of code. You don't need to verify that you get the correct answers with other years, just generalize your code enough so that it runs for other years \n",
    "     \n",
    "Good code orients users to what they'll need to change up at the top\n",
    "\n",
    "You need to use functions in this assignment. (and going forward)\n",
    "\n",
    "It is ok to hard code the page numbers      \n",
    "Best practice:     \n",
    "- If you need to hard code, make it an argument\n",
    "\n",
    "\n",
    "Tip:\n",
    "Writing fns: \n",
    "- Think of what it should do, and mock it out\n",
    "- Write example input\n",
    "- Try again with different input\n",
    "- Use print statements to tell you what's happening\n",
    "- Remove or comment out the intermediary output when finished\n",
    "\n",
    "#Spacy documentation\n",
    "#https://spacy.io/api/doc"
   ]
  },
  {
   "cell_type": "code",
   "execution_count": 7,
   "metadata": {},
   "outputs": [],
   "source": [
    "# import statements belong at the top of your code\n",
    "import os\n",
    "import requests\n",
    "import PyPDF2 \n",
    "import spacy\n",
    "import re\n",
    "import pandas as pd\n",
    "\n",
    "nlp = spacy.load(\"en_core_web_sm\") #English"
   ]
  },
  {
   "cell_type": "code",
   "execution_count": 9,
   "metadata": {},
   "outputs": [],
   "source": [
    "path = os.getcwd()"
   ]
  },
  {
   "cell_type": "code",
   "execution_count": 11,
   "metadata": {},
   "outputs": [],
   "source": [
    "url = 'https://countyofsb.org/ceo/asset.c/4171'\n",
    "filename = 'FY_2020_21_Section_B_Executive_Summary.pdf'"
   ]
  },
  {
   "cell_type": "code",
   "execution_count": 21,
   "metadata": {},
   "outputs": [
    {
     "name": "stdout",
     "output_type": "stream",
     "text": [
      "downloading document from https://countyofsb.org/ceo/asset.c/4171\n"
     ]
    }
   ],
   "source": [
    "# make a comment for where this function is called\n",
    "# e.g. called in main()\n",
    "# but for this example, I'm calling my fns imediately (to demonstrate)\n",
    "def get_pdf(url, filename, path):\n",
    "    response = requests.get(url)\n",
    "    with open(os.path.join(path, filename), 'wb') as ofile:\n",
    "        ofile.write(response.content)\n",
    "\n",
    "\n",
    "\n",
    "if filename not in os.listdir():\n",
    "    print('downloading document from {}'.format(url))\n",
    "    get_pdf(url, filename, path)\n",
    "else:\n",
    "    print('document already in {}'.format(path))"
   ]
  },
  {
   "cell_type": "code",
   "execution_count": 22,
   "metadata": {},
   "outputs": [
    {
     "data": {
      "text/plain": [
       "['Chi_Mort.csv',\n",
       " '.DS_Store',\n",
       " 'FY_2020_21_Section_B_Executive_Summary.pdf',\n",
       " 'lab_3-nlp and pdfs.ipynb',\n",
       " '.ipynb_checkpoints',\n",
       " 'Chi_healcr.csv',\n",
       " '.git',\n",
       " 'lab_1-get requests, pandas and functions.ipynb',\n",
       " 'lab_2-pandas reshaping and merge.ipynb']"
      ]
     },
     "execution_count": 22,
     "metadata": {},
     "output_type": "execute_result"
    }
   ],
   "source": [
    "os.listdir()"
   ]
  },
  {
   "cell_type": "code",
   "execution_count": 77,
   "metadata": {},
   "outputs": [
    {
     "name": "stdout",
     "output_type": "stream",
     "text": [
      "Number of pages: 24\n"
     ]
    }
   ],
   "source": [
    "def read_pdf(filename, path):\n",
    "    with open(os.path.join(path, filename), 'rb') as ifile:\n",
    "        pdf = PyPDF2.PdfFileReader(ifile)\n",
    "\n",
    "        print('Number of pages:', pdf.numPages)\n",
    "\n",
    "        pages = []\n",
    "        for p in range(pdf.numPages):\n",
    "            page = pdf.getPage(p)\n",
    "            text = page.extractText()\n",
    "            #text = text.replace(\"™\", \"'\")\n",
    "            pages.append(text)\n",
    "        \n",
    "        return pages\n",
    "\n",
    "pages = read_pdf(filename, path)"
   ]
  },
  {
   "cell_type": "code",
   "execution_count": 53,
   "metadata": {},
   "outputs": [
    {
     "data": {
      "text/plain": [
       "'    \\n \\n   \\n \\n   \\n      Section B  Executive Summary '"
      ]
     },
     "execution_count": 53,
     "metadata": {},
     "output_type": "execute_result"
    }
   ],
   "source": [
    "pages[0]"
   ]
  },
  {
   "cell_type": "code",
   "execution_count": 78,
   "metadata": {},
   "outputs": [
    {
     "data": {
      "text/plain": [
       "\"Executive Summary \\nB1 Adapting to an Unprecedented Pandemic  \\nand Preparing for the ﬁNext Normalﬂ \\nThe COVID\\n19 pandemic has caused a national recession, a sudden reduction in state and local revenues, and \\nsevere economic distress for businesses, families, community organizations and public agencies.  It has \\n\\njeopardized the health of our communities and our economic livelihood.  As of the writing of the Recommended \\nBudget, the County is still under the State Public Health Officer's ﬁStay\\natHomeﬂ Order, with very limited easing \\nof restrictions.   \\nIn preparing this Recommended Budget, which began in\\n November 2019 and was completed in early May to \\nmeet statutory requirements for public review, we lacked complete information on the extent and severity of \\nthe disruption to the County's Budget.  The Governor's Ma\\ny Revise of the State's budget demonstrates a deficit \\nof $54.3 billion, and it will be several more months before the specific impact to our budget is known.  While the \\npandemic has caused seismic changes to our daily lives and economy, it is impossible to answer with certainty \\nthe essential questions of ﬁfor how longﬂ and ﬁhow severeﬂ from where we stand today. \\nIn the California Legislative Analyst's Office's Spring Fiscal Outlook Report, released in mid\\nMay, two scenarios \\nare suggested: a ﬁUﬂ\\nshaped recession, where the economy would \\nbegin to see meaningful recovery this \\nsummer, with rapid activity beginning in the second half of 2021; and an ﬁLﬂ\\nshaped recession, where the \\neconomy would remain in a slump well into 2021 with gradual recovery starting in the second half of 2021.  \\nThe information in this Recommended Budget is based on\\n assumptions that projected revenue losses, beginning \\nin spring 2020 of the current year, continue in key local and State revenues through the first quarter of the \\nupcoming fiscal year and taper down through the remainder of the fiscal year.  In addition, conservative \\nestimates of funding have been assumed.    \\nOur objectives have been to maintain current service levels\\n to the extent possible (ﬁstatus quoﬂ levels of service) \\nso as not to further harm members of our community; continue to fulfill Board commitments and priorities; and \\ninvest in initiatives that will help mitigate recessionary impacts and prepare for the next normal and recovery.  In \\nthis vein, cannabis tax revenue is being utilized to fill certain gaps created by increased COVID\\n19 related \\nexpenditures and temporary decreases in key revenues.  In addition, one\\ntime sourcesŠsuch as the County's \\nStrategic ReserveŠare recommended to be used to suppor\\nt expenditures in certain areas to preserve service \\nlevels.  With the current level of uncertainty, combined with sufficient one\\ntime revenue for backfilling losses \\nand covering new costs, few ongoing budget reductions are recommended at this time.  However, the CEO's \\noffice intends to return to the Board in the fall with potential ongoing budget reductions to be taken at mid\\nyear \\nshould they be necessary.\\nIt is also worth noting that while all organizations are facing similar challenges, county governments are at the \\nforefront of fighting the pandemic, expanding and intensifying health, public safety and safety net services, and \\nleading emergency operations countywide.  Public Health employees have been working around the clock in this \\ncrisis, and at their side have been employees from almost every County department serving in various capacities \\nto protect our residents. The total impact to the County for lost revenues and additional costs are estimated at \\n$25.1 million in the FY 2019\\n20 year and $27.3 million in FY 2020\\n21, for a total of $52.4 million.  The County will seek \\nFEMA reimbursement (75% allowed) where feasible, but the County has not yet received any direct funding from \\n\\nthe federal government for COVID\\n19 impacts or costs (although the Governor's May Revise proposes passing \\nthrough funding for this purpose). \\n\""
      ]
     },
     "execution_count": 78,
     "metadata": {},
     "output_type": "execute_result"
    }
   ],
   "source": [
    "pages[2]"
   ]
  },
  {
   "cell_type": "code",
   "execution_count": 79,
   "metadata": {},
   "outputs": [
    {
     "data": {
      "text/plain": [
       "'Executive'"
      ]
     },
     "execution_count": 79,
     "metadata": {},
     "output_type": "execute_result"
    }
   ],
   "source": [
    "pages[2][0:9]"
   ]
  },
  {
   "cell_type": "code",
   "execution_count": 49,
   "metadata": {},
   "outputs": [],
   "source": [
    "def tokenize(pages, page_num):\n",
    "    text = pages[page_num]\n",
    "    doc = nlp(text)\n",
    "    return doc\n",
    "\n",
    "tokenized_page = tokenize(pages, 4)"
   ]
  },
  {
   "cell_type": "code",
   "execution_count": 115,
   "metadata": {},
   "outputs": [
    {
     "data": {
      "text/plain": [
       "Executive Summary \n",
       "B3 both countywide discretionary revenues and department\n",
       "specific revenues, expansion requests that would \n",
       "require ongoing General Fund commitmentŠsome of which might otherwise have been warrantedŠare \n",
       "not being recommended for funding at this time.  Departments have submitted requests for General Fund \n",
       "budget expansions totaling $12.7 million in ongoing funding, $4.3 million in one\n",
       "time funds, and additional \n",
       "staffing of 59.5 FTE.  Requests for use of cannabis tax revenue total $1.5 million in ongoing funding, $341,000 \n",
       "in onetime funding, and 8.0 additional positions.\n",
       "Adherence to budget development policies continue. \n",
       "These policies were adopted by the Board in \n",
       "December and set guidelines for departments to follow while developing their budget requests.  Some \n",
       "policies called for contributions to reserve accounts\n",
       " for specific purposes, and the recommended budget \n",
       "reflects those allocations:\n",
       "o$500,000 has been set aside for Americans with Disabilities Act (ADA) improvements.  The County \n",
       "maintains a rolling five\n",
       "year prioritized list of improvements that need to be made within County\n",
       "owned \n",
       "facilities to enhance the County™s compliance with the ADA.\n",
       "o$2,000,000 has been set aside in the Technology Replacement and Investment Fund to address critical \n",
       "countywide and multi\n",
       "departmental information technology project needs.  In FY 2019\n",
       "20, the adopted \n",
       "budget established a Technology Replacement and Inve\n",
       "stment Fund account with an initial $2.0 million \n",
       "contribution.  The intent of this account is to address the growing need for updated technology \n",
       "infrastructure, security, and data storage capabilities \n",
       "across the County.  This need is greater than ever \n",
       "as the COVID\n",
       "19 pandemic has accelerated the transi\n",
       "tion to digital and online solutions.\n",
       "Maintain strong reserves to weather current year and future year losses in discretionary revenues\n",
       ".  Our \n",
       "Strategic Reserve and Contingencies accounts are our first lines of defense against unanticipated State \n",
       "budget impacts, COVID\n",
       "19 impacts, and a recession.  Although we had hoped to increase the Strategic \n",
       "Reserve balance to 9% of the annual General Fund operating budget to prepare for a future recession, we \n",
       "are unable to recommend this increase in FY 2020\n",
       "21 because $3.8 million from the account is needed to \n",
       "backfill a portion of Social Services Realignment revenue losses.  This draw is offset by a $3.1 million \n",
       "contribution back to the account, which will bring the bala\n",
       "nce up to the 7.6% level.  A $2 million increase in \n",
       "the Contingencies account balance is also recommended, to bring the balance to $5 million from $3 million \n",
       "in the current year. \n",
       "Essential Priorities and Commitments for the Future \n",
       "In FY 2019\n",
       "20, major milestones will have been met: the Northern\n",
       " Branch Jail construction is nearly complete; \n",
       "the Fire Tax Shift will reach its funding target of 17% of\n",
       " property tax revenues; the Tajiguas Resource Recovery \n",
       "project will make significant progress in construction; pension cost\n",
       "sharing resulted in a net reduction to pension \n",
       "contribution costs, and will be fully implemented next year after three years; and major capital improvement \n",
       "projects received funding.\n",
       "In the next few years, as we navigate the recession caused\n",
       " by the pandemic, the County will need to focus on \n",
       "the essential priorities of health and safety, and ways to position the County in the ﬁnext normalﬂ or life after \n",
       "the pandemic, through revenue enhancement, cost savings, and new ways of operating.  The following are \n",
       "initiatives that were established in the prior years that will be continued or implemented in FY 2020\n",
       "21:Northern Branch Jail will commence operations.\n",
       "  The construction of the Northern Branch Jail is expected \n",
       "to be completed in the summer of 2020, with operations commencing by mid\n",
       "year.  The annualized \n",
       "operating cost is currently estimated at $20.4 million, and includes staffing costs to operate and maintain \n",
       "\n",
       "the facility, as well as costs for inmate medical services, food, utilities, and other necessities.  The operations "
      ]
     },
     "execution_count": 115,
     "metadata": {},
     "output_type": "execute_result"
    }
   ],
   "source": [
    "tokenized_page"
   ]
  },
  {
   "cell_type": "code",
   "execution_count": 71,
   "metadata": {},
   "outputs": [
    {
     "data": {
      "text/plain": [
       "[expansions, for, requests, submitted]"
      ]
     },
     "execution_count": 71,
     "metadata": {},
     "output_type": "execute_result"
    }
   ],
   "source": [
    "list(tokenized_page[50].ancestors)"
   ]
  },
  {
   "cell_type": "code",
   "execution_count": 72,
   "metadata": {},
   "outputs": [
    {
     "data": {
      "text/plain": [
       "[]"
      ]
     },
     "execution_count": 72,
     "metadata": {},
     "output_type": "execute_result"
    }
   ],
   "source": [
    "list(tokenized_page[50].children)"
   ]
  },
  {
   "cell_type": "code",
   "execution_count": 121,
   "metadata": {},
   "outputs": [
    {
     "data": {
      "text/plain": [
       "[COVID, pandemic, COVID, pandemic, pandemic]"
      ]
     },
     "execution_count": 121,
     "metadata": {},
     "output_type": "execute_result"
    }
   ],
   "source": [
    "covid_terms = ['pandemic', 'COVID']\n",
    "covid_tokens = [t for t in tokenized_page if any([e in t.string for e in econ_terms])]\n",
    "covid_tokens"
   ]
  },
  {
   "cell_type": "code",
   "execution_count": 129,
   "metadata": {},
   "outputs": [
    {
     "data": {
      "text/plain": [
       "[[pandemic, accelerated, is],\n",
       " [accelerated, is],\n",
       " [impacts, against, lines, are],\n",
       " [by, caused, need],\n",
       " [after, position, ways, need]]"
      ]
     },
     "execution_count": 129,
     "metadata": {},
     "output_type": "execute_result"
    }
   ],
   "source": [
    "covid_ancs = [list(t.ancestors) for t in covid_tokens]\n",
    "covid_ancs"
   ]
  },
  {
   "cell_type": "code",
   "execution_count": 142,
   "metadata": {},
   "outputs": [
    {
     "name": "stdout",
     "output_type": "stream",
     "text": [
      "pandemic NOUN\n",
      "accelerated VERB\n",
      "is VERB\n",
      "accelerated VERB\n",
      "is VERB\n",
      "impacts NOUN\n",
      "against ADP\n",
      "lines NOUN\n",
      "are VERB\n",
      "by ADP\n",
      "caused VERB\n",
      "need VERB\n",
      "after ADP\n",
      "position VERB\n",
      "ways NOUN\n",
      "need VERB\n"
     ]
    }
   ],
   "source": [
    "# nested for loop\n",
    "for ancs in covid_ancs:\n",
    "    for anc in ancs:\n",
    "        print(anc, anc.pos_)"
   ]
  },
  {
   "cell_type": "code",
   "execution_count": 135,
   "metadata": {},
   "outputs": [
    {
     "data": {
      "text/plain": [
       "[[(pandemic, 'NOUN'), (accelerated, 'VERB'), (is, 'VERB')],\n",
       " [(accelerated, 'VERB'), (is, 'VERB')],\n",
       " [(impacts, 'NOUN'), (against, 'ADP'), (lines, 'NOUN'), (are, 'VERB')],\n",
       " [(by, 'ADP'), (caused, 'VERB'), (need, 'VERB')],\n",
       " [(after, 'ADP'), (position, 'VERB'), (ways, 'NOUN'), (need, 'VERB')]]"
      ]
     },
     "execution_count": 135,
     "metadata": {},
     "output_type": "execute_result"
    }
   ],
   "source": [
    "covid_anc_type = [[(anc, anc.pos_) for anc in ancs] for ancs in covid_ancs]\n",
    "covid_anc_type"
   ]
  },
  {
   "cell_type": "code",
   "execution_count": 143,
   "metadata": {},
   "outputs": [
    {
     "data": {
      "text/plain": [
       "[[accelerated, is], [accelerated, is], [are], [caused, need], [position, need]]"
      ]
     },
     "execution_count": 143,
     "metadata": {},
     "output_type": "execute_result"
    }
   ],
   "source": [
    "covid_ancs_verbs = [[a for a in ancs if a.pos_ == 'VERB'] for ancs in covid_ancs]\n",
    "covid_ancs_verbs"
   ]
  },
  {
   "cell_type": "code",
   "execution_count": 125,
   "metadata": {},
   "outputs": [
    {
     "name": "stdout",
     "output_type": "stream",
     "text": [
      "nsubj\n",
      "advcl\n",
      "ROOT\n",
      "advcl\n",
      "ROOT\n",
      "pobj\n",
      "prep\n",
      "attr\n",
      "ROOT\n",
      "agent\n",
      "advcl\n",
      "ROOT\n",
      "prep\n",
      "relcl\n",
      "conj\n",
      "ROOT\n"
     ]
    }
   ],
   "source": [
    "for token_list in econ_ancestors:\n",
    "    for ancestor in token_list:\n",
    "        print(ancestor.dep_)"
   ]
  },
  {
   "cell_type": "code",
   "execution_count": 126,
   "metadata": {},
   "outputs": [
    {
     "data": {
      "text/plain": [
       "[[], [the, COVID, 19], [, impacts], [the], [the]]"
      ]
     },
     "execution_count": 126,
     "metadata": {},
     "output_type": "execute_result"
    }
   ],
   "source": [
    "covid_children = [list(t.children) for t in covid_tokens]\n",
    "covid_children"
   ]
  },
  {
   "cell_type": "code",
   "execution_count": 146,
   "metadata": {},
   "outputs": [
    {
     "data": {
      "text/plain": [
       "[[[the, COVID, 19],\n",
       "  [as, pandemic, has, transi, to],\n",
       "  [need, greater, accelerated, .]],\n",
       " [[as, pandemic, has, transi, to], [need, greater, accelerated, .]],\n",
       " [[unanticipated, State, budget, ,, COVID],\n",
       "  [impacts],\n",
       "  [our, first, of, against],\n",
       "  [accounts, lines, .]],\n",
       " [[pandemic], [In, ,, navigate, recession, \n",
       "    , by], [caused, ,, County, will, focus, ,, and, ways, .]],\n",
       " [[, pandemic],\n",
       "  [to, County, in, after, ,, through],\n",
       "  [position],\n",
       "  [caused, ,, County, will, focus, ,, and, ways, .]]]"
      ]
     },
     "execution_count": 146,
     "metadata": {},
     "output_type": "execute_result"
    }
   ],
   "source": [
    "children_of_covid_ancs = [[list(a.children) for a in ancs] for ancs in covid_ancs]\n",
    "children_of_covid_ancs"
   ]
  },
  {
   "cell_type": "code",
   "execution_count": 90,
   "metadata": {},
   "outputs": [],
   "source": [
    "def test_negation (token, negation = False):\n",
    "    anc = list(token.ancestors)\n",
    "    anc_children = [list(a.children) for a in anc]\n",
    "    for token in anc:\n",
    "        if token.dep_ == 'neg':\n",
    "            print('neg')\n",
    "            negation = True\n",
    "        #else: \n",
    "            #print(token.dep_)\n"
   ]
  },
  {
   "cell_type": "code",
   "execution_count": 96,
   "metadata": {},
   "outputs": [],
   "source": [
    "for ancestor in tokenized_page:\n",
    "    negation = test_negation(ancestor)\n",
    "\n"
   ]
  },
  {
   "cell_type": "code",
   "execution_count": null,
   "metadata": {},
   "outputs": [],
   "source": []
  }
 ],
 "metadata": {
  "kernelspec": {
   "display_name": "Python 3",
   "language": "python",
   "name": "python3"
  },
  "language_info": {
   "codemirror_mode": {
    "name": "ipython",
    "version": 3
   },
   "file_extension": ".py",
   "mimetype": "text/x-python",
   "name": "python",
   "nbconvert_exporter": "python",
   "pygments_lexer": "ipython3",
   "version": "3.7.1"
  }
 },
 "nbformat": 4,
 "nbformat_minor": 2
}
