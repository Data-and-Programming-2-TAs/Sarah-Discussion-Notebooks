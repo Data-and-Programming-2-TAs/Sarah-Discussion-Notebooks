{
 "cells": [
  {
   "cell_type": "markdown",
   "metadata": {},
   "source": [
    "## Natural Language Procesing \n",
    "### Example from a pdf\n",
    "\n",
    "\n",
    "Note (possible consideration for projects) -you do not need to work with a pdf for nlp!    \n",
    "e.g. work with a .txt file, read off of a web page etc. "
   ]
  },
  {
   "cell_type": "markdown",
   "metadata": {},
   "source": [
    "#### Notes for HW2   \n",
    "\n",
    "You need to make your code abstract enough to work for future docs. So if I wanted to run this code for 2017 I should not have to change more than one line of code. You don't need to verify that you get the correct answers with other years, just generalize your code enough so that it runs for other years \n",
    "     \n",
    "Good code orients users to what they'll need to change up at the top\n",
    "\n",
    "You need to use functions in this assignment. (and going forward)\n",
    "\n",
    "It is ok to hard code the page numbers      \n",
    "Best practice:     \n",
    "- If you need to hard code, make it an argument\n",
    "\n",
    "You'll want to try to catch negations (e.g. \"will not increase\", \"failed to rise\") \n",
    "\n",
    "Tip:\n",
    "Writing fns: \n",
    "- Think of what it should do, and mock it out\n",
    "- Write example input\n",
    "- Try again with different input\n",
    "- Use print statements to tell you what's happening\n",
    "- Remove or comment out the intermediary output when finished\n",
    "\n",
    "#Spacy documentation\n",
    "#https://spacy.io/api/doc"
   ]
  },
  {
   "cell_type": "code",
   "execution_count": 308,
   "metadata": {},
   "outputs": [],
   "source": [
    "# import statements belong at the top of your code\n",
    "import os\n",
    "import requests\n",
    "import PyPDF2 \n",
    "import spacy\n",
    "#import pandas as pd\n",
    "\n",
    "nlp = spacy.load(\"en_core_web_sm\") #English"
   ]
  },
  {
   "cell_type": "code",
   "execution_count": 309,
   "metadata": {},
   "outputs": [],
   "source": [
    "path = os.getcwd()"
   ]
  },
  {
   "cell_type": "code",
   "execution_count": 310,
   "metadata": {},
   "outputs": [],
   "source": [
    "url = 'https://countyofsb.org/ceo/asset.c/4171'\n",
    "filename = 'FY_2020_21_Section_B_Executive_Summary.pdf'"
   ]
  },
  {
   "cell_type": "code",
   "execution_count": 312,
   "metadata": {},
   "outputs": [
    {
     "name": "stdout",
     "output_type": "stream",
     "text": [
      "document already in /Users/Sarah/Documents/GitHub/Sarah-Discussion-Notebooks\n"
     ]
    }
   ],
   "source": [
    "# make a comment for where this function is called\n",
    "# e.g. called in main()\n",
    "# but for this example, I'm calling my fns imediately (to demonstrate)\n",
    "def get_pdf(url, filename, path):\n",
    "    response = requests.get(url)\n",
    "    with open(os.path.join(path, filename), 'wb') as ofile:\n",
    "        ofile.write(response.content)\n",
    "\n",
    "\n",
    "\n",
    "if filename not in os.listdir():\n",
    "    print('downloading document from {}'.format(url))\n",
    "    get_pdf(url, filename, path)\n",
    "else:\n",
    "    print('document already in {}'.format(path))"
   ]
  },
  {
   "cell_type": "code",
   "execution_count": 313,
   "metadata": {},
   "outputs": [
    {
     "data": {
      "text/plain": [
       "['2008-12-16.txt',\n",
       " '.DS_Store',\n",
       " 'dependency parser.svg',\n",
       " 'FY_2020_21_Section_B_Executive_Summary.pdf',\n",
       " '.ipynb',\n",
       " 'lab_3-nlp and pdfs.ipynb',\n",
       " 'Fed_nlp_example.py',\n",
       " '.ipynb_checkpoints',\n",
       " '.git',\n",
       " '2019-09-18.txt',\n",
       " 'lab_1-get requests, pandas and functions.ipynb',\n",
       " 'lab_2-pandas reshaping and merge.ipynb']"
      ]
     },
     "execution_count": 313,
     "metadata": {},
     "output_type": "execute_result"
    }
   ],
   "source": [
    "os.listdir()"
   ]
  },
  {
   "cell_type": "code",
   "execution_count": 318,
   "metadata": {},
   "outputs": [
    {
     "name": "stdout",
     "output_type": "stream",
     "text": [
      "Number of pages: 24\n"
     ]
    }
   ],
   "source": [
    "def read_pdf(filename, path):\n",
    "    with open(os.path.join(path, filename), 'rb') as ifile:\n",
    "        pdf = PyPDF2.PdfFileReader(ifile)\n",
    "\n",
    "        print('Number of pages:', pdf.numPages)\n",
    "\n",
    "        pages = []\n",
    "        for p in range(pdf.numPages):\n",
    "            page = pdf.getPage(p)\n",
    "            text = page.extractText()\n",
    "            text = text.replace(\"™\", \"'\")\n",
    "            text = text.replace(\"\\n\", \"\")\n",
    "            pages.append(text)\n",
    "        \n",
    "        return pages\n",
    "\n",
    "pages = read_pdf(filename, path)"
   ]
  },
  {
   "cell_type": "code",
   "execution_count": 316,
   "metadata": {},
   "outputs": [
    {
     "data": {
      "text/plain": [
       "'    \\n \\n   \\n \\n   \\n      Section B  Executive Summary '"
      ]
     },
     "execution_count": 316,
     "metadata": {},
     "output_type": "execute_result"
    }
   ],
   "source": [
    "pages[0]"
   ]
  },
  {
   "cell_type": "code",
   "execution_count": 328,
   "metadata": {},
   "outputs": [
    {
     "data": {
      "text/plain": [
       "\"Executive Summary B3 both countywide discretionary revenues and departmentspecific revenues, expansion requests that would require ongoing General Fund commitmentŠsome of which might otherwise have been warrantedŠare not being recommended for funding at this time.  Departments have submitted requests for General Fund budget expansions totaling $12.7 million in ongoing funding, $4.3 million in onetime funds, and additional staffing of 59.5 FTE.  Requests for use of cannabis tax revenue total $1.5 million in ongoing funding, $341,000 in onetime funding, and 8.0 additional positions.Adherence to budget development policies continue. These policies were adopted by the Board in December and set guidelines for departments to follow while developing their budget requests.  Some policies called for contributions to reserve accounts for specific purposes, and the recommended budget reflects those allocations:o$500,000 has been set aside for Americans with Disabilities Act (ADA) improvements.  The County maintains a rolling fiveyear prioritized list of improvements that need to be made within Countyowned facilities to enhance the County's compliance with the ADA.o$2,000,000 has been set aside in the Technology Replacement and Investment Fund to address critical countywide and multidepartmental information technology project needs.  In FY 201920, the adopted budget established a Technology Replacement and Investment Fund account with an initial $2.0 million contribution.  The intent of this account is to address the growing need for updated technology infrastructure, security, and data storage capabilities across the County.  This need is greater than ever as the COVID19 pandemic has accelerated the transition to digital and online solutions.Maintain strong reserves to weather current year and future year losses in discretionary revenues.  Our Strategic Reserve and Contingencies accounts are our first lines of defense against unanticipated State budget impacts, COVID19 impacts, and a recession.  Although we had hoped to increase the Strategic Reserve balance to 9% of the annual General Fund operating budget to prepare for a future recession, we are unable to recommend this increase in FY 202021 because $3.8 million from the account is needed to backfill a portion of Social Services Realignment revenue losses.  This draw is offset by a $3.1 million contribution back to the account, which will bring the balance up to the 7.6% level.  A $2 million increase in the Contingencies account balance is also recommended, to bring the balance to $5 million from $3 million in the current year. Essential Priorities and Commitments for the Future In FY 201920, major milestones will have been met: the Northern Branch Jail construction is nearly complete; the Fire Tax Shift will reach its funding target of 17% of property tax revenues; the Tajiguas Resource Recovery project will make significant progress in construction; pension costsharing resulted in a net reduction to pension contribution costs, and will be fully implemented next year after three years; and major capital improvement projects received funding.In the next few years, as we navigate the recession caused by the pandemic, the County will need to focus on the essential priorities of health and safety, and ways to position the County in the ﬁnext normalﬂ or life after the pandemic, through revenue enhancement, cost savings, and new ways of operating.  The following are initiatives that were established in the prior years that will be continued or implemented in FY 202021:Northern Branch Jail will commence operations.  The construction of the Northern Branch Jail is expected to be completed in the summer of 2020, with operations commencing by midyear.  The annualized operating cost is currently estimated at $20.4 million, and includes staffing costs to operate and maintain the facility, as well as costs for inmate medical services, food, utilities, and other necessities.  The operations \""
      ]
     },
     "execution_count": 328,
     "metadata": {},
     "output_type": "execute_result"
    }
   ],
   "source": [
    "pages[4]"
   ]
  },
  {
   "cell_type": "code",
   "execution_count": 325,
   "metadata": {},
   "outputs": [
    {
     "data": {
      "text/plain": [
       "'Executive'"
      ]
     },
     "execution_count": 325,
     "metadata": {},
     "output_type": "execute_result"
    }
   ],
   "source": [
    "pages[2][0:9]"
   ]
  },
  {
   "cell_type": "code",
   "execution_count": 326,
   "metadata": {},
   "outputs": [],
   "source": [
    "def tokenize(pages, page_num):\n",
    "    text = pages[page_num]\n",
    "    doc = nlp(text)\n",
    "    return doc\n",
    "\n",
    "tokenized_page = tokenize(pages, 4)"
   ]
  },
  {
   "cell_type": "code",
   "execution_count": 338,
   "metadata": {},
   "outputs": [
    {
     "data": {
      "text/plain": [
       "for"
      ]
     },
     "execution_count": 338,
     "metadata": {},
     "output_type": "execute_result"
    }
   ],
   "source": [
    "tokenized_page[30]"
   ]
  },
  {
   "cell_type": "code",
   "execution_count": 339,
   "metadata": {},
   "outputs": [
    {
     "data": {
      "text/plain": [
       "[recommended, countywide]"
      ]
     },
     "execution_count": 339,
     "metadata": {},
     "output_type": "execute_result"
    }
   ],
   "source": [
    "list(tokenized_page[30].ancestors)"
   ]
  },
  {
   "cell_type": "code",
   "execution_count": 340,
   "metadata": {},
   "outputs": [
    {
     "data": {
      "text/plain": [
       "[funding]"
      ]
     },
     "execution_count": 340,
     "metadata": {},
     "output_type": "execute_result"
    }
   ],
   "source": [
    "list(tokenized_page[30].children)"
   ]
  },
  {
   "cell_type": "markdown",
   "metadata": {},
   "source": [
    "#### Exploring our page"
   ]
  },
  {
   "cell_type": "code",
   "execution_count": 341,
   "metadata": {},
   "outputs": [
    {
     "data": {
      "text/plain": [
       "[COVID19, pandemic, COVID19, pandemic, pandemic]"
      ]
     },
     "execution_count": 341,
     "metadata": {},
     "output_type": "execute_result"
    }
   ],
   "source": [
    "covid_terms = ['pandemic', 'COVID']\n",
    "covid_tokens = [t for t in tokenized_page if any([e in t.string for e in covid_terms])]\n",
    "covid_tokens"
   ]
  },
  {
   "cell_type": "code",
   "execution_count": 342,
   "metadata": {},
   "outputs": [
    {
     "data": {
      "text/plain": [
       "[[pandemic, accelerated, is],\n",
       " [accelerated, is],\n",
       " [impacts, impacts, against, lines, are],\n",
       " [by, caused, navigate, need],\n",
       " [after, normalﬂ, in, position, ways, need]]"
      ]
     },
     "execution_count": 342,
     "metadata": {},
     "output_type": "execute_result"
    }
   ],
   "source": [
    "covid_ancs = [list(t.ancestors) for t in covid_tokens]\n",
    "covid_ancs"
   ]
  },
  {
   "cell_type": "code",
   "execution_count": 343,
   "metadata": {},
   "outputs": [
    {
     "name": "stdout",
     "output_type": "stream",
     "text": [
      "pandemic NOUN\n",
      "accelerated VERB\n",
      "is VERB\n",
      "accelerated VERB\n",
      "is VERB\n",
      "impacts NOUN\n",
      "impacts NOUN\n",
      "against ADP\n",
      "lines NOUN\n",
      "are VERB\n",
      "by ADP\n",
      "caused VERB\n",
      "navigate VERB\n",
      "need VERB\n",
      "after ADP\n",
      "normalﬂ NOUN\n",
      "in ADP\n",
      "position VERB\n",
      "ways NOUN\n",
      "need VERB\n"
     ]
    }
   ],
   "source": [
    "# nested for loop\n",
    "for ancs in covid_ancs:\n",
    "    for anc in ancs:\n",
    "        print(anc, anc.pos_)"
   ]
  },
  {
   "cell_type": "code",
   "execution_count": 344,
   "metadata": {},
   "outputs": [
    {
     "data": {
      "text/plain": [
       "[[(pandemic, 'NOUN'), (accelerated, 'VERB'), (is, 'VERB')],\n",
       " [(accelerated, 'VERB'), (is, 'VERB')],\n",
       " [(impacts, 'NOUN'),\n",
       "  (impacts, 'NOUN'),\n",
       "  (against, 'ADP'),\n",
       "  (lines, 'NOUN'),\n",
       "  (are, 'VERB')],\n",
       " [(by, 'ADP'), (caused, 'VERB'), (navigate, 'VERB'), (need, 'VERB')],\n",
       " [(after, 'ADP'),\n",
       "  (normalﬂ, 'NOUN'),\n",
       "  (in, 'ADP'),\n",
       "  (position, 'VERB'),\n",
       "  (ways, 'NOUN'),\n",
       "  (need, 'VERB')]]"
      ]
     },
     "execution_count": 344,
     "metadata": {},
     "output_type": "execute_result"
    }
   ],
   "source": [
    "covid_anc_type = [[(anc, anc.pos_) for anc in ancs] for ancs in covid_ancs]\n",
    "covid_anc_type"
   ]
  },
  {
   "cell_type": "code",
   "execution_count": 345,
   "metadata": {},
   "outputs": [
    {
     "data": {
      "text/plain": [
       "[[accelerated, is],\n",
       " [accelerated, is],\n",
       " [are],\n",
       " [caused, navigate, need],\n",
       " [position, need]]"
      ]
     },
     "execution_count": 345,
     "metadata": {},
     "output_type": "execute_result"
    }
   ],
   "source": [
    "covid_ancs_verbs = [[a for a in ancs if a.pos_ == 'VERB'] for ancs in covid_ancs]\n",
    "covid_ancs_verbs"
   ]
  },
  {
   "cell_type": "code",
   "execution_count": 346,
   "metadata": {},
   "outputs": [
    {
     "name": "stdout",
     "output_type": "stream",
     "text": [
      "nsubj\n",
      "advcl\n",
      "ROOT\n",
      "advcl\n",
      "ROOT\n",
      "conj\n",
      "pobj\n",
      "prep\n",
      "attr\n",
      "ROOT\n",
      "agent\n",
      "ccomp\n",
      "advcl\n",
      "ROOT\n",
      "prep\n",
      "pobj\n",
      "prep\n",
      "relcl\n",
      "conj\n",
      "ROOT\n"
     ]
    }
   ],
   "source": [
    "for token_list in covid_ancs:\n",
    "    for ancestor in token_list:\n",
    "        print(ancestor.dep_)"
   ]
  },
  {
   "cell_type": "code",
   "execution_count": 347,
   "metadata": {},
   "outputs": [
    {
     "data": {
      "text/plain": [
       "[[], [the, COVID19], [], [the], [the]]"
      ]
     },
     "execution_count": 347,
     "metadata": {},
     "output_type": "execute_result"
    }
   ],
   "source": [
    "covid_children = [list(t.children) for t in covid_tokens]\n",
    "covid_children"
   ]
  },
  {
   "cell_type": "code",
   "execution_count": 348,
   "metadata": {},
   "outputs": [
    {
     "data": {
      "text/plain": [
       "[[[the, COVID19],\n",
       "  [ever, as, pandemic, has, transition, to],\n",
       "  [need, greater, accelerated, .]],\n",
       " [[ever, as, pandemic, has, transition, to], [need, greater, accelerated, .]],\n",
       " [[COVID19, ,, and, recession],\n",
       "  [unanticipated, State, budget, ,, impacts],\n",
       "  [impacts],\n",
       "  [our, first, of, against],\n",
       "  [accounts, lines, .]],\n",
       " [[pandemic],\n",
       "  [recession, by],\n",
       "  [as, we, caused],\n",
       "  [In, ,, navigate, ,, County, will, focus, ,, and, ways, .]],\n",
       " [[pandemic],\n",
       "  [the, ﬁnext, or, life, after],\n",
       "  [normalﬂ],\n",
       "  [to, County, in, ,, through],\n",
       "  [position],\n",
       "  [In, ,, navigate, ,, County, will, focus, ,, and, ways, .]]]"
      ]
     },
     "execution_count": 348,
     "metadata": {},
     "output_type": "execute_result"
    }
   ],
   "source": [
    "children_of_covid_ancs = [[list(a.children) for a in ancs] for ancs in covid_ancs]\n",
    "children_of_covid_ancs"
   ]
  },
  {
   "cell_type": "code",
   "execution_count": 349,
   "metadata": {},
   "outputs": [
    {
     "data": {
      "text/plain": [
       "[Executive Summary B3, discretionary revenues, departmentspecific revenues]"
      ]
     },
     "execution_count": 349,
     "metadata": {},
     "output_type": "execute_result"
    }
   ],
   "source": [
    "list(tokenized_page[0:10].noun_chunks)"
   ]
  },
  {
   "cell_type": "code",
   "execution_count": 350,
   "metadata": {},
   "outputs": [
    {
     "data": {
      "text/plain": [
       "[expansion requests,\n",
       " ongoing General Fund,\n",
       " funding,\n",
       " this time,\n",
       " Departments,\n",
       " requests,\n",
       " General Fund budget expansions,\n",
       " ongoing funding,\n",
       " onetime funds,\n",
       " additional staffing,\n",
       " 59.5 FTE,\n",
       " Requests,\n",
       " use,\n",
       " cannabis tax revenue,\n",
       " ongoing funding,\n",
       " onetime funding,\n",
       " 8.0 additional positions,\n",
       " Adherence,\n",
       " development policies]"
      ]
     },
     "execution_count": 350,
     "metadata": {},
     "output_type": "execute_result"
    }
   ],
   "source": [
    "list(tokenized_page[10:100].noun_chunks)"
   ]
  },
  {
   "cell_type": "code",
   "execution_count": 351,
   "metadata": {},
   "outputs": [
    {
     "data": {
      "text/plain": [
       "[General Fund budget expansions]"
      ]
     },
     "execution_count": 351,
     "metadata": {},
     "output_type": "execute_result"
    }
   ],
   "source": [
    "test = list(tokenized_page[45:47].noun_chunks)\n",
    "test"
   ]
  },
  {
   "cell_type": "code",
   "execution_count": 352,
   "metadata": {},
   "outputs": [
    {
     "data": {
      "text/plain": [
       "expansions"
      ]
     },
     "execution_count": 352,
     "metadata": {},
     "output_type": "execute_result"
    }
   ],
   "source": [
    "test[0].root"
   ]
  },
  {
   "cell_type": "code",
   "execution_count": 353,
   "metadata": {},
   "outputs": [
    {
     "data": {
      "text/plain": [
       "[General Fund budget expansions,\n",
       " their budget requests,\n",
       " the recommended budget,\n",
       " the adopted budget,\n",
       " unanticipated State budget impacts,\n",
       " the annual General Fund operating budget]"
      ]
     },
     "execution_count": 353,
     "metadata": {},
     "output_type": "execute_result"
    }
   ],
   "source": [
    "budget_nchunks = [nc for nc in tokenized_page.noun_chunks if 'budget' in nc.string]\n",
    "budget_nchunks"
   ]
  },
  {
   "cell_type": "code",
   "execution_count": 354,
   "metadata": {},
   "outputs": [
    {
     "data": {
      "text/plain": [
       "[[pandemic, accelerated, is],\n",
       " [accelerated, is],\n",
       " [impacts, impacts, against, lines, are],\n",
       " [by, caused, navigate, need],\n",
       " [after, normalﬂ, in, position, ways, need]]"
      ]
     },
     "execution_count": 354,
     "metadata": {},
     "output_type": "execute_result"
    }
   ],
   "source": [
    "covid_ancs"
   ]
  },
  {
   "cell_type": "code",
   "execution_count": 355,
   "metadata": {},
   "outputs": [
    {
     "name": "stdout",
     "output_type": "stream",
     "text": [
      "ancestor [is]\n",
      "child [ever, as, pandemic, has, transition, to]\n",
      "ancestor [is]\n",
      "child [ever, as, pandemic, has, transition, to]\n"
     ]
    }
   ],
   "source": [
    "for t_list in covid_ancs:\n",
    "    #print(t_list) #debug\n",
    "    for token in t_list:\n",
    "        #print(token) #debug\n",
    "        if str(token) == 'accelerated':\n",
    "            print('ancestor', list(token.ancestors))\n",
    "            print('child', list(token.children))"
   ]
  },
  {
   "cell_type": "code",
   "execution_count": 356,
   "metadata": {},
   "outputs": [
    {
     "name": "stdout",
     "output_type": "stream",
     "text": [
      "[]\n",
      "[need, greater, accelerated, .]\n"
     ]
    }
   ],
   "source": [
    "for t_list in covid_ancs:\n",
    "    for token in t_list:\n",
    "        if str(token) == 'accelerated':\n",
    "            accelerated_anc = list(token.ancestors) # expect \"is\"\n",
    "\n",
    "for token in accelerated_anc:\n",
    "    print(list(token.ancestors))\n",
    "    print(list(token.children))"
   ]
  },
  {
   "cell_type": "markdown",
   "metadata": {},
   "source": [
    "**This can all be deeply unsatisfying, and you're going to hit a lot of dead ends. Sometimes you do just have to use a brute-force approach though. \n",
    "Try enough things and you'll get what you're looking for**"
   ]
  },
  {
   "cell_type": "markdown",
   "metadata": {},
   "source": [
    "### Let's take look at just one sentence"
   ]
  },
  {
   "cell_type": "code",
   "execution_count": 357,
   "metadata": {},
   "outputs": [
    {
     "data": {
      "text/plain": [
       "The COVID19 pandemic has caused a national recession"
      ]
     },
     "execution_count": 357,
     "metadata": {},
     "output_type": "execute_result"
    }
   ],
   "source": [
    "text = 'The COVID19 pandemic has caused a national recession'\n",
    "doc = nlp(text)\n",
    "doc"
   ]
  },
  {
   "cell_type": "code",
   "execution_count": 358,
   "metadata": {},
   "outputs": [
    {
     "name": "stdout",
     "output_type": "stream",
     "text": [
      "The [pandemic, caused]\n",
      "COVID19 [pandemic, caused]\n",
      "pandemic [caused]\n",
      "has [caused]\n",
      "caused []\n",
      "a [recession, caused]\n",
      "national [recession, caused]\n",
      "recession [caused]\n"
     ]
    }
   ],
   "source": [
    "for token in doc:\n",
    "    print(token, list(token.ancestors))"
   ]
  },
  {
   "cell_type": "code",
   "execution_count": 359,
   "metadata": {},
   "outputs": [
    {
     "name": "stdout",
     "output_type": "stream",
     "text": [
      "The []\n",
      "COVID19 []\n",
      "pandemic [The, COVID19]\n",
      "has []\n",
      "caused [pandemic, has, recession]\n",
      "a []\n",
      "national []\n",
      "recession [a, national]\n"
     ]
    }
   ],
   "source": [
    "for token in doc:\n",
    "    print(token, list(token.children))"
   ]
  },
  {
   "cell_type": "code",
   "execution_count": 360,
   "metadata": {},
   "outputs": [],
   "source": [
    "img = spacy.displacy.render(doc, style='dep', options={'distance' : 140}, jupyter=False)\n",
    "with open('dependency parser.svg', 'w', encoding='utf-8') as f:\n",
    "    f.write(img)"
   ]
  },
  {
   "cell_type": "code",
   "execution_count": 361,
   "metadata": {},
   "outputs": [
    {
     "name": "stdout",
     "output_type": "stream",
     "text": [
      "The [The]\n",
      "COVID19 [COVID19]\n",
      "pandemic [The, COVID19, pandemic]\n",
      "has [has]\n",
      "caused [The, COVID19, pandemic, has, caused, a, national, recession]\n",
      "a [a]\n",
      "national [national]\n",
      "recession [a, national, recession]\n"
     ]
    }
   ],
   "source": [
    "# subtree pulls the token, its ancestors and its children\n",
    "for token in doc:\n",
    "    print(token, list(token.subtree))"
   ]
  },
  {
   "cell_type": "code",
   "execution_count": 362,
   "metadata": {},
   "outputs": [
    {
     "data": {
      "text/plain": [
       "[The COVID19 pandemic, a national recession]"
      ]
     },
     "execution_count": 362,
     "metadata": {},
     "output_type": "execute_result"
    }
   ],
   "source": [
    "nc = list(doc.noun_chunks)\n",
    "nc"
   ]
  },
  {
   "cell_type": "code",
   "execution_count": 363,
   "metadata": {},
   "outputs": [
    {
     "data": {
      "text/plain": [
       "pandemic"
      ]
     },
     "execution_count": 363,
     "metadata": {},
     "output_type": "execute_result"
    }
   ],
   "source": [
    "nc[0].root"
   ]
  },
  {
   "cell_type": "code",
   "execution_count": 364,
   "metadata": {},
   "outputs": [
    {
     "data": {
      "text/plain": [
       "recession"
      ]
     },
     "execution_count": 364,
     "metadata": {},
     "output_type": "execute_result"
    }
   ],
   "source": [
    "nc[1].root"
   ]
  },
  {
   "cell_type": "code",
   "execution_count": null,
   "metadata": {},
   "outputs": [],
   "source": []
  },
  {
   "cell_type": "code",
   "execution_count": null,
   "metadata": {},
   "outputs": [],
   "source": []
  }
 ],
 "metadata": {
  "kernelspec": {
   "display_name": "Python 3",
   "language": "python",
   "name": "python3"
  },
  "language_info": {
   "codemirror_mode": {
    "name": "ipython",
    "version": 3
   },
   "file_extension": ".py",
   "mimetype": "text/x-python",
   "name": "python",
   "nbconvert_exporter": "python",
   "pygments_lexer": "ipython3",
   "version": "3.7.1"
  }
 },
 "nbformat": 4,
 "nbformat_minor": 2
}
