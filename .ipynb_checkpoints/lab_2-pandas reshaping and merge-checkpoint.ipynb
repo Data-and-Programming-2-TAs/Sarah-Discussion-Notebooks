{
 "cells": [
  {
   "cell_type": "markdown",
   "metadata": {},
   "source": [
    "### Reshaping and Merging Example\n",
    "\n",
    "#### Data from Chicago Data Protal:\n",
    "https://data.cityofchicago.org/Health-Human-Services/Public-Health-Statistics-Selected-underlying-cause/j6cj-r444"
   ]
  },
  {
   "cell_type": "code",
   "execution_count": null,
   "metadata": {},
   "outputs": [],
   "source": [
    "import os\n",
    "import requests\n",
    "import pandas as pd"
   ]
  },
  {
   "cell_type": "code",
   "execution_count": null,
   "metadata": {},
   "outputs": [],
   "source": [
    "url_mort  = 'https://data.cityofchicago.org/api/views/j6cj-r444/rows.csv?accessType=DOWNLOAD'\n",
    "url_healthcr ='https://data.cityofchicago.org/api/views/cjg8-dbka/rows.csv?accessType=DOWNLOAD'\n",
    "# looks ugly/repetative -refactor later    \n",
    "\n",
    "filename1 = 'Chi_Mort.csv' \n",
    "filename2 = 'Chi_healcr.csv'"
   ]
  },
  {
   "cell_type": "code",
   "execution_count": null,
   "metadata": {},
   "outputs": [],
   "source": [
    "# If I were running this in my terminal, I would use this path:\n",
    "#path = os.path.join(os.getcwd(), 'Documents', 'GitHub', 'Sarah-Discussion-Notebooks')\n",
    "\n",
    "path = os.getcwd()"
   ]
  },
  {
   "cell_type": "code",
   "execution_count": null,
   "metadata": {},
   "outputs": [],
   "source": [
    "response = requests.get(url_mort)\n",
    "output = response.text\n",
    "with open(filename1, 'w') as ofile:\n",
    "        ofile.write(output)"
   ]
  },
  {
   "cell_type": "code",
   "execution_count": null,
   "metadata": {},
   "outputs": [],
   "source": [
    "os.listdir()"
   ]
  },
  {
   "cell_type": "code",
   "execution_count": null,
   "metadata": {},
   "outputs": [],
   "source": [
    "# repetative - refactor later\n",
    "\n",
    "response = requests.get(url_healthcr)\n",
    "output = response.text\n",
    "with open(filename2, 'w') as ofile:\n",
    "        ofile.write(output)"
   ]
  },
  {
   "cell_type": "code",
   "execution_count": null,
   "metadata": {},
   "outputs": [],
   "source": [
    "os.listdir()"
   ]
  },
  {
   "cell_type": "markdown",
   "metadata": {},
   "source": [
    "### Asside on open()"
   ]
  },
  {
   "cell_type": "code",
   "execution_count": null,
   "metadata": {},
   "outputs": [],
   "source": [
    "text = open('Chi_Mort.csv')\n",
    "text"
   ]
  },
  {
   "cell_type": "code",
   "execution_count": null,
   "metadata": {},
   "outputs": [],
   "source": [
    "text.read()"
   ]
  },
  {
   "cell_type": "code",
   "execution_count": null,
   "metadata": {},
   "outputs": [],
   "source": [
    "with open('Chi_Mort.csv', 'r') as ifile:\n",
    "    lines = ifile.readlines()"
   ]
  },
  {
   "cell_type": "code",
   "execution_count": null,
   "metadata": {},
   "outputs": [],
   "source": [
    "lines[0]"
   ]
  },
  {
   "cell_type": "code",
   "execution_count": null,
   "metadata": {},
   "outputs": [],
   "source": [
    "type(lines)"
   ]
  },
  {
   "cell_type": "code",
   "execution_count": null,
   "metadata": {},
   "outputs": [],
   "source": [
    "type(lines[0])"
   ]
  },
  {
   "cell_type": "code",
   "execution_count": null,
   "metadata": {},
   "outputs": [],
   "source": [
    "lines[0].replace('A', ':)') #replace each instnce of an A with a :)"
   ]
  },
  {
   "cell_type": "code",
   "execution_count": null,
   "metadata": {},
   "outputs": [],
   "source": [
    "len(lines)"
   ]
  },
  {
   "cell_type": "code",
   "execution_count": null,
   "metadata": {},
   "outputs": [],
   "source": [
    "lines = lines[0:10]"
   ]
  },
  {
   "cell_type": "code",
   "execution_count": null,
   "metadata": {},
   "outputs": [],
   "source": [
    "len(lines)"
   ]
  },
  {
   "cell_type": "markdown",
   "metadata": {},
   "source": [
    "### Back to the data"
   ]
  },
  {
   "cell_type": "code",
   "execution_count": null,
   "metadata": {},
   "outputs": [],
   "source": [
    "chi_mort_df = pd.read_csv('Chi_Mort.csv') \n",
    "chi_mort_df.head()"
   ]
  },
  {
   "cell_type": "code",
   "execution_count": null,
   "metadata": {},
   "outputs": [],
   "source": [
    "chi_mort_df['Cause of Death'].unique()"
   ]
  },
  {
   "cell_type": "code",
   "execution_count": null,
   "metadata": {},
   "outputs": [],
   "source": [
    "chi_mort_df['Community Area'].unique()"
   ]
  },
  {
   "cell_type": "code",
   "execution_count": null,
   "metadata": {},
   "outputs": [],
   "source": [
    "chi_hc_df = pd.read_csv('Chi_healcr.csv')\n",
    "chi_hc_df.head()"
   ]
  },
  {
   "cell_type": "code",
   "execution_count": null,
   "metadata": {},
   "outputs": [],
   "source": [
    "chi_mort_df.columns"
   ]
  },
  {
   "cell_type": "code",
   "execution_count": null,
   "metadata": {},
   "outputs": [],
   "source": [
    "avg_an_death = chi_mort_df.pivot(index = 'Community Area', \n",
    "                                 columns='Cause of Death', \n",
    "                                 values='Average Annual Deaths 2006 - 2010')\n",
    "avg_an_death.head()"
   ]
  },
  {
   "cell_type": "code",
   "execution_count": null,
   "metadata": {},
   "outputs": [],
   "source": [
    "avg_an_death.reset_index(inplace = True)\n",
    "avg_an_death.head()"
   ]
  },
  {
   "cell_type": "code",
   "execution_count": null,
   "metadata": {},
   "outputs": [],
   "source": [
    "chi_hc_df['count_of_health_crs'] = 1\n",
    "chi_hc_df.head()"
   ]
  },
  {
   "cell_type": "code",
   "execution_count": null,
   "metadata": {},
   "outputs": [],
   "source": [
    "count_of_crs = chi_hc_df.groupby('Community Area (#)').sum().reset_index()\n",
    "count_of_crs.head()"
   ]
  },
  {
   "cell_type": "code",
   "execution_count": null,
   "metadata": {},
   "outputs": [],
   "source": [
    "temp_df = count_of_crs['Community Area (#)'].str.split('(', 2, expand = True)\n",
    "temp_df.head()\n",
    "# note, this can be done without making another df"
   ]
  },
  {
   "cell_type": "code",
   "execution_count": null,
   "metadata": {},
   "outputs": [],
   "source": [
    "temp_df[1] = temp_df[1].str.strip(\")\")\n",
    "temp_df.head()"
   ]
  },
  {
   "cell_type": "code",
   "execution_count": null,
   "metadata": {},
   "outputs": [],
   "source": [
    "temp_df.loc[2][1]"
   ]
  },
  {
   "cell_type": "code",
   "execution_count": null,
   "metadata": {},
   "outputs": [],
   "source": [
    "temp_df[1] = temp_df[1].str.strip(\") \")"
   ]
  },
  {
   "cell_type": "code",
   "execution_count": null,
   "metadata": {},
   "outputs": [],
   "source": [
    "temp_df.rename(columns = {1:'comm_area_num'}, inplace = True)\n",
    "temp_df.head()"
   ]
  },
  {
   "cell_type": "code",
   "execution_count": null,
   "metadata": {},
   "outputs": [],
   "source": [
    "new_hc_df = pd.concat([temp_df['comm_area_num'], \n",
    "                       count_of_crs['count_of_health_crs']],\n",
    "                       axis = 1)\n",
    "new_hc_df.head()"
   ]
  },
  {
   "cell_type": "code",
   "execution_count": null,
   "metadata": {},
   "outputs": [],
   "source": [
    "new_hc_df.dtypes"
   ]
  },
  {
   "cell_type": "code",
   "execution_count": null,
   "metadata": {},
   "outputs": [],
   "source": [
    "avg_an_death.dtypes"
   ]
  },
  {
   "cell_type": "code",
   "execution_count": null,
   "metadata": {},
   "outputs": [],
   "source": [
    "new_hc_df['comm_area_num'] = new_hc_df['comm_area_num'].apply(lambda x: pd.Series(int(x)))"
   ]
  },
  {
   "cell_type": "code",
   "execution_count": null,
   "metadata": {},
   "outputs": [],
   "source": [
    "merged_df = avg_an_death.merge(new_hc_df, \n",
    "                               left_on = 'Community Area', \n",
    "                               right_on = 'comm_area_num',\n",
    "                               how = 'inner')\n",
    "merged_df.head()"
   ]
  },
  {
   "cell_type": "markdown",
   "metadata": {},
   "source": [
    "### Refactor"
   ]
  },
  {
   "cell_type": "code",
   "execution_count": null,
   "metadata": {},
   "outputs": [],
   "source": [
    "def parse_mort(mort_df):\n",
    "    '''input: chicago mortality df\n",
    "    output: df of average annual death by Community Area\n",
    "    '''\n",
    "    avg_an_death = mort_df.pivot(index = 'Community Area', \n",
    "                                  columns='Cause of Death', \n",
    "                                  values='Average Annual Deaths 2006 - 2010')\n",
    "    avg_an_death.drop(0, axis = 0, inplace = True) # drop the Chicago Total\n",
    "    avg_an_death.reset_index(inplace = True)\n",
    "    return avg_an_death"
   ]
  },
  {
   "cell_type": "code",
   "execution_count": null,
   "metadata": {},
   "outputs": [],
   "source": [
    "def parse_healthcr(healthcr_df):\n",
    "    '''input: chicago healthcare center df\n",
    "    output: df with a count of healchare centers per community area,\n",
    "    ready to merge with avg_an_death df\n",
    "    '''\n",
    "    healthcr_df['Count of Health Centers'] = 1 \n",
    "    count_of_crs = healthcr_df.groupby('Community Area (#)').sum().reset_index()\n",
    "    \n",
    "    temp_df = count_of_crs['Community Area (#)'].str.split('(', 2, expand = True)\n",
    "    temp_df[1] = temp_df[1].str.strip(\")\" and \") \")\n",
    "    temp_df[1] = temp_df[1].apply(lambda x: pd.Series(int(x)))\n",
    "    \n",
    "    temp_df.rename(columns = {1:'Community Area'}, inplace = True)\n",
    "    \n",
    "    new_hc_df = pd.concat([temp_df['Community Area'], \n",
    "                           count_of_crs['Count of Health Centers']],\n",
    "                         axis = 1)\n",
    "    \n",
    "    return new_hc_df\n",
    "\n"
   ]
  },
  {
   "cell_type": "code",
   "execution_count": null,
   "metadata": {},
   "outputs": [],
   "source": [
    "# Call my functions\n",
    "mort_df = parse_mort(chi_mort_df)\n",
    "hc_df = parse_healthcr(chi_hc_df)\n",
    "\n",
    "mort_df.head()"
   ]
  },
  {
   "cell_type": "code",
   "execution_count": null,
   "metadata": {},
   "outputs": [],
   "source": [
    "# or I can call the fn in another fn!\n",
    "\n",
    "def parse_and_merge_dfs(df1, df2):\n",
    "    '''takes in the origional dfs\n",
    "    processes them for merging and merges\n",
    "    output is final df ready for analysis\n",
    "    '''\n",
    "    mort_df = parse_mort(df1)\n",
    "    hc_df = parse_healthcr(df2)\n",
    "    \n",
    "    merged_df = mort_df.merge(hc_df, \n",
    "                              on = 'Community Area', \n",
    "                              how = 'inner')\n",
    "    return merged_df\n",
    "    "
   ]
  },
  {
   "cell_type": "code",
   "execution_count": null,
   "metadata": {},
   "outputs": [],
   "source": [
    "use_df = parse_and_merge_dfs(chi_mort_df, chi_hc_df)\n",
    "use_df.head()"
   ]
  },
  {
   "cell_type": "markdown",
   "metadata": {},
   "source": [
    "### Still to do:\n",
    "Toggle for download - only download if I don't already have the file     \n",
    "Bundle download and read into their own functions\n",
    "For loop for my fuction calls    \n",
    "Maybe:   \n",
    "Use regex to generate my urls instead of having them hard-coded\n",
    "...   "
   ]
  },
  {
   "cell_type": "code",
   "execution_count": null,
   "metadata": {},
   "outputs": [],
   "source": []
  }
 ],
 "metadata": {
  "kernelspec": {
   "display_name": "Python 3",
   "language": "python",
   "name": "python3"
  },
  "language_info": {
   "codemirror_mode": {
    "name": "ipython",
    "version": 3
   },
   "file_extension": ".py",
   "mimetype": "text/x-python",
   "name": "python",
   "nbconvert_exporter": "python",
   "pygments_lexer": "ipython3",
   "version": "3.7.1"
  }
 },
 "nbformat": 4,
 "nbformat_minor": 2
}
