{
 "cells": [
  {
   "cell_type": "markdown",
   "metadata": {},
   "source": [
    "### Title"
   ]
  },
  {
   "cell_type": "code",
   "execution_count": 3,
   "metadata": {},
   "outputs": [],
   "source": [
    "import requests\n",
    "import os\n",
    "import pandas as pd\n"
   ]
  },
  {
   "cell_type": "code",
   "execution_count": 13,
   "metadata": {},
   "outputs": [],
   "source": [
    "PATH = '/Users/Sarah/Documents/GitHub/Sarah-Discussion-Notebooks/'\n",
    "URLS = [('https://data.cityofchicago.org/api/views/kn9c-c2s2/rows.csv?accessType=DOWNLOAD', 'Chicago_SES.csv'), \n",
    "        ('https://data.cityofchicago.org/api/views/j6cj-r444/rows.csv?accessType=DOWNLOAD', 'Chicago_Death.csv')]\n",
    "        "
   ]
  },
  {
   "cell_type": "code",
   "execution_count": 18,
   "metadata": {},
   "outputs": [
    {
     "name": "stdout",
     "output_type": "stream",
     "text": [
      "file is present, continuing without download\n",
      "file is present, continuing without download\n"
     ]
    }
   ],
   "source": [
    "def download_data(url, filename):\n",
    "    response = requests.get(url)\n",
    "    if filename.endswith('.csv'):\n",
    "        open_as = 'w'\n",
    "        output = response.text\n",
    "        #return open_as\n",
    "        print('it was a csv') #debug\n",
    "    elif filename.endswith('.xls'):\n",
    "        open_as = 'wb'\n",
    "        output = response.content\n",
    "        #return open_as\n",
    "        print('it was a xls') #debug\n",
    "    else:\n",
    "        return 'unexpected file type in download_data'\n",
    "    \n",
    "    with open(filename, open_as) as ofile:\n",
    "        ofile.write(output)\n",
    "\n",
    "def read_data(path, filename):\n",
    "    if filename.endswith('.csv'):\n",
    "        df = pd.read_csv(os.path.join(path, filename))\n",
    "    elif filename.endswith('.xls'):\n",
    "        df = pd.read_excel(os.path.join(path, filename))\n",
    "    else:\n",
    "        return 'unexpected file type in read_data'\n",
    "    return df\n",
    "\n",
    "def build_urls(base_url, num, file_name):\n",
    "    return base_url.format(num,file)    \n",
    "    \n",
    "\n",
    "def run(url,filename):\n",
    "    if filename not in os.listdir():\n",
    "        download_data(url, filename)\n",
    "    else:\n",
    "        print('file is present, continuing without download')\n",
    "\n",
    "        \n",
    "def parse_death(death_df):\n",
    "    death_df.rename(columns = {'Community Area': 'Community Area Number'}, inplace=True)\n",
    "    avg_an_death = death_df.pivot(index = 'Community Area Number', columns='Cause of Death', \n",
    "                                  values='Average Adjusted Rate 2006 - 2010')\n",
    "    avg_an_death.drop(0, axis = 0, inplace = True) #drop the Chicago Total\n",
    "    avg_an_death.reset_index(inplace = True)\n",
    "    return avg_an_death\n",
    "\n",
    "\n",
    "df_contents = []\n",
    "for url, filename in URLS:\n",
    "    run(url,filename)\n",
    "    df = read_data(PATH, filename)\n",
    "    if filename == 'Chicago_Death.csv':\n",
    "            df_contents.append(parse_death(df))\n",
    "    else:\n",
    "        df_contents.append(df)"
   ]
  },
  {
   "cell_type": "code",
   "execution_count": 19,
   "metadata": {},
   "outputs": [
    {
     "data": {
      "text/plain": [
       "Index(['Community Area Number', 'All Causes', 'All causes in females',\n",
       "       'All causes in males', 'Alzheimers disease', 'Assault (homicide)',\n",
       "       'Breast cancer in females', 'Cancer (all sites)', 'Colorectal cancer',\n",
       "       'Coronary heart disease', 'Diabetes-related', 'Firearm-related',\n",
       "       'Injury, unintentional',\n",
       "       'Kidney disease (nephritis, nephrotic syndrome and nephrosis)',\n",
       "       'Liver disease and cirrhosis', 'Lung cancer',\n",
       "       'Prostate cancer in males', 'Stroke (cerebrovascular disease)',\n",
       "       'Suicide (intentional self-harm)'],\n",
       "      dtype='object', name='Cause of Death')"
      ]
     },
     "execution_count": 19,
     "metadata": {},
     "output_type": "execute_result"
    }
   ],
   "source": [
    "df_contents[1].columns"
   ]
  },
  {
   "cell_type": "code",
   "execution_count": null,
   "metadata": {},
   "outputs": [],
   "source": []
  }
 ],
 "metadata": {
  "kernelspec": {
   "display_name": "Python 3",
   "language": "python",
   "name": "python3"
  },
  "language_info": {
   "codemirror_mode": {
    "name": "ipython",
    "version": 3
   },
   "file_extension": ".py",
   "mimetype": "text/x-python",
   "name": "python",
   "nbconvert_exporter": "python",
   "pygments_lexer": "ipython3",
   "version": "3.7.1"
  }
 },
 "nbformat": 4,
 "nbformat_minor": 4
}
