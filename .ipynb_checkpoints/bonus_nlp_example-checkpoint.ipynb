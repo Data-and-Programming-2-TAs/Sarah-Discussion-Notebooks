{
 "cells": [
  {
   "cell_type": "code",
   "execution_count": 1,
   "metadata": {},
   "outputs": [],
   "source": [
    "import os\n",
    "import spacy\n",
    "\n",
    "nlp = spacy.load(\"en_core_web_sm\")\n",
    "\n",
    "path = r'c:\\users\\jeff levy\\documents\\github\\nlp_nyt_lecture'\n",
    "#https://www.nytimes.com/2019/10/29/upshot/economic-conditions-2020-race.html"
   ]
  },
  {
   "cell_type": "code",
   "execution_count": 2,
   "metadata": {},
   "outputs": [
    {
     "ename": "FileNotFoundError",
     "evalue": "[Errno 2] No such file or directory: 'c:\\\\users\\\\jeff levy\\\\documents\\\\github\\\\nlp_nyt_lecture/article.txt'",
     "output_type": "error",
     "traceback": [
      "\u001b[0;31m---------------------------------------------------------------------------\u001b[0m",
      "\u001b[0;31mFileNotFoundError\u001b[0m                         Traceback (most recent call last)",
      "\u001b[0;32m<ipython-input-2-fadeda628b42>\u001b[0m in \u001b[0;36m<module>\u001b[0;34m\u001b[0m\n\u001b[1;32m      1\u001b[0m \u001b[0;31m#read text in from file\u001b[0m\u001b[0;34m\u001b[0m\u001b[0;34m\u001b[0m\u001b[0;34m\u001b[0m\u001b[0m\n\u001b[0;32m----> 2\u001b[0;31m \u001b[0;32mwith\u001b[0m \u001b[0mopen\u001b[0m\u001b[0;34m(\u001b[0m\u001b[0mos\u001b[0m\u001b[0;34m.\u001b[0m\u001b[0mpath\u001b[0m\u001b[0;34m.\u001b[0m\u001b[0mjoin\u001b[0m\u001b[0;34m(\u001b[0m\u001b[0mpath\u001b[0m\u001b[0;34m,\u001b[0m \u001b[0;34m'article.txt'\u001b[0m\u001b[0;34m)\u001b[0m\u001b[0;34m,\u001b[0m \u001b[0;34m'r'\u001b[0m\u001b[0;34m,\u001b[0m \u001b[0mencoding\u001b[0m\u001b[0;34m=\u001b[0m\u001b[0;34m'latin_1'\u001b[0m\u001b[0;34m)\u001b[0m \u001b[0;32mas\u001b[0m \u001b[0mifile\u001b[0m\u001b[0;34m:\u001b[0m\u001b[0;34m\u001b[0m\u001b[0;34m\u001b[0m\u001b[0m\n\u001b[0m\u001b[1;32m      3\u001b[0m     \u001b[0mtext\u001b[0m \u001b[0;34m=\u001b[0m \u001b[0mifile\u001b[0m\u001b[0;34m.\u001b[0m\u001b[0mread\u001b[0m\u001b[0;34m(\u001b[0m\u001b[0;34m)\u001b[0m\u001b[0;34m\u001b[0m\u001b[0;34m\u001b[0m\u001b[0m\n\u001b[1;32m      4\u001b[0m \u001b[0;34m\u001b[0m\u001b[0m\n\u001b[1;32m      5\u001b[0m \u001b[0mdoc\u001b[0m \u001b[0;34m=\u001b[0m \u001b[0mnlp\u001b[0m\u001b[0;34m(\u001b[0m\u001b[0mtext\u001b[0m\u001b[0;34m)\u001b[0m\u001b[0;34m\u001b[0m\u001b[0;34m\u001b[0m\u001b[0m\n",
      "\u001b[0;31mFileNotFoundError\u001b[0m: [Errno 2] No such file or directory: 'c:\\\\users\\\\jeff levy\\\\documents\\\\github\\\\nlp_nyt_lecture/article.txt'"
     ]
    }
   ],
   "source": [
    "#read text in from file\n",
    "with open(os.path.join(path, 'article.txt'), 'r', encoding='latin_1') as ifile:\n",
    "    text = ifile.read()\n",
    "\n",
    "doc = nlp(text)"
   ]
  },
  {
   "cell_type": "code",
   "execution_count": 3,
   "metadata": {},
   "outputs": [
    {
     "data": {
      "text/plain": [
       "If you want to know what the economic backdrop to the 2020 elections is likely to be, pay close attention to some of this week’s headlines.\n",
       "\n",
       "Over the next few days, we are going to get readings that tell us a lot about how the economy is holding up after a summer recession scare. If the numbers and policy announcements play out as forecasters are expecting, we’ll also see some of the contradictions of the Trump-era economy exposed.\n",
       "\n",
       "Specifically, the economy in late 2019 appears to feature a combination of economic growth that is slowing but not falling into a recession, a booming stock market, low interest rates, a tight labor market and a weak manufacturing sector. There is always the possibility of surprises, but this could be the mix that shapes the discussion on the campaign trail in the year before Election Day.\n",
       "\n",
       "In particular, if recent trends hold up, Democrats will have a lane to attack President Trump, pointing to weak growth in employee wages and a struggling factory sector. Republicans will be able to boast about some of the lowest jobless levels in decades and a robust stock market.\n",
       "\n",
       "The coming week will offer new clarity about the state of the economy.\n",
       "\n",
       "On Monday, the S&P 500 reached a record high, continuing what has been a boom year for stocks. That index is now up 21 percent so far in 2019, suggesting that investors are shrugging off this summer’s recession fears and are confident that corporate earnings will remain robust.\n",
       "\n",
       "On Wednesday morning, the Commerce Department will release its first estimate of overall economic growth in the quarter ended in September. Analysts expect to see a slowing growth rate — only a 1.5 percent annual rate of G.D.P. growth.\n",
       "\n",
       "Those quarter-to-quarter numbers can be volatile, but there is an unmistakable deceleration in America’s growth path. The economy grew 3.2 percent in the 12 months concluding in the second quarter of 2018. But the growth rate has fallen in every quarter since then, and if the forecasts from analysts for the third quarter prove accurate, the economy will have grown only about 2 percent over the last year.\n",
       "\n",
       "The economy appears to have experienced only a brief and temporary surge to the 3 percent growth rate President Trump had promised. It has now returned to puttering along at much the same modest growth rate that was in evidence through most of the Obama years.\n",
       "\n",
       "On Wednesday afternoon, the Federal Reserve will announce its latest policy move, most likely a quarter-point interest rate cut, the third such cut since the summer. The Fed is aiming to keep the expansion going, reversing 2018 interest rate increases and trying to protect the American economy from being dragged down by a global slowdown and trade wars.\n",
       "\n",
       "The Fed’s expected move helps explain the apparent contradiction between a booming stock market and the slumping growth rate. Lower interest rates from the central bank make stocks and other financial assets more attractive, while reducing the risk of an outright recession.\n",
       "\n",
       "Early Friday, the Labor Department will release numbers on how the job market performed in October. Although a now-resolved General Motors strike most likely dragged down growth in payroll jobs — a temporary effect — the numbers are also expected to show an unemployment rate that remains near its lowest levels in five decades, combined with modest growth in workers’ wages.\n",
       "\n",
       "In other words, economic growth may be slowing, but at a time when the vast majority of Americans who want to be working are able to find a job. That makes the weakening growth in G.D.P. and job creation less worrisome than it would have been in an era of higher unemployment.\n",
       "\n",
       "Slower growth is less problematic when the economy is mostly healthy. Still, having a job is not the same as having a well-paid job, and the data so far in 2019 does not support the idea that American workers are receiving big pay increases, despite the low jobless rate.\n",
       "\n",
       "If anything, wage growth seems to be weakening. Forecasters expect Friday’s news release will show that average hourly earnings rose only 0.3 percent in October. If that proves correct, it will imply wage increases over the last year of a mere 3 percent. That number was 3.4 percent for the year ended in February.\n",
       "\n",
       "A final major economic report this week could help explain why. The manufacturing sector in particular has taken it on the chin, the biggest victim of slower global growth.\n",
       "\n",
       "The Institute for Supply Management’s monthly survey of purchasing managers showed the sector was contracting in September. The October number is due out at 10 a.m. Friday, and analysts expect it to show a factory sector that is still contracting but less rapidly than it had been.\n",
       "\n",
       "That would support the case that the manufacturing downturn is contained — that it’s damaging for certain companies and their workers, but not turning into an all-out rout that will endanger the overall economy.\n",
       "\n",
       "It also looks more likely that the economy is not slumping into a recession, contrary to a wave of worry that emerged over the summer. Strong American consumer spending and Fed rate cuts seem to have kept things afloat — good news for supporters of the incumbent president.\n",
       "\n",
       "If analysts’ basic story of the economy remains true in the next few months, there will still be room for the Democratic nominee to attack President Trump. Democrats could argue that the Trump economy is helping stock investors more than workers, and that weaker G.D.P. growth, a troubled manufacturing sector and soft wage growth mean there is a lot of room for improvement.\n",
       "\n",
       "If nothing else, the next four days could show whether the data fits this narrative."
      ]
     },
     "execution_count": 3,
     "metadata": {},
     "output_type": "execute_result"
    }
   ],
   "source": [
    "doc"
   ]
  },
  {
   "cell_type": "code",
   "execution_count": 4,
   "metadata": {},
   "outputs": [
    {
     "data": {
      "text/plain": [
       "[economic,\n",
       " economy,\n",
       " economy,\n",
       " economy,\n",
       " economic,\n",
       " economy,\n",
       " economic,\n",
       " economy,\n",
       " economy,\n",
       " economy,\n",
       " economy,\n",
       " economic,\n",
       " economy,\n",
       " economic,\n",
       " economy,\n",
       " economy,\n",
       " economy,\n",
       " economy]"
      ]
     },
     "execution_count": 4,
     "metadata": {},
     "output_type": "execute_result"
    }
   ],
   "source": [
    "econ_terms = ['economic', 'economics', 'economy']\n",
    "econ_tokens = [t for t in doc if any([e in t.string for e in econ_terms])]\n",
    "econ_tokens"
   ]
  },
  {
   "cell_type": "markdown",
   "metadata": {},
   "source": [
    "Analysis:"
   ]
  },
  {
   "cell_type": "code",
   "execution_count": 5,
   "metadata": {},
   "outputs": [
    {
     "data": {
      "text/plain": [
       "[[backdrop, know, want, pay],\n",
       " [holding, about, lot, tell, readings, get, going],\n",
       " [of, contradictions, of, some, see],\n",
       " [appears],\n",
       " [growth, of, combination, feature, appears],\n",
       " [of, state, about, clarity, offer],\n",
       " [growth, of, estimate, release],\n",
       " [grew],\n",
       " [grown, fallen],\n",
       " [appears],\n",
       " [protect, trying, reversing, keep, aiming],\n",
       " [growth, slowing],\n",
       " [is, is],\n",
       " [report, help],\n",
       " [endanger, rout, into, turning, ’s, case, support],\n",
       " [slumping, likely, looks],\n",
       " [of, story, remains, be],\n",
       " [helping, argue]]"
      ]
     },
     "execution_count": 5,
     "metadata": {},
     "output_type": "execute_result"
    }
   ],
   "source": [
    "econ_ancestors = [list(t.ancestors) for t in econ_tokens]\n",
    "econ_ancestors"
   ]
  },
  {
   "cell_type": "code",
   "execution_count": 7,
   "metadata": {},
   "outputs": [],
   "source": [
    "def flatten_list(l):\n",
    "    return [item for sublist in l for item in sublist]"
   ]
  },
  {
   "cell_type": "code",
   "execution_count": 8,
   "metadata": {},
   "outputs": [
    {
     "data": {
      "text/plain": [
       "[[(backdrop, 'NOUN'), (know, 'VERB'), (want, 'VERB'), (pay, 'VERB')],\n",
       " [(holding, 'VERB'),\n",
       "  (about, 'ADP'),\n",
       "  (lot, 'NOUN'),\n",
       "  (tell, 'VERB'),\n",
       "  (readings, 'NOUN'),\n",
       "  (get, 'VERB'),\n",
       "  (going, 'VERB')],\n",
       " [(of, 'ADP'),\n",
       "  (contradictions, 'NOUN'),\n",
       "  (of, 'ADP'),\n",
       "  (some, 'DET'),\n",
       "  (see, 'VERB')],\n",
       " [(appears, 'VERB')],\n",
       " [(growth, 'NOUN'),\n",
       "  (of, 'ADP'),\n",
       "  (combination, 'NOUN'),\n",
       "  (feature, 'VERB'),\n",
       "  (appears, 'VERB')],\n",
       " [(of, 'ADP'),\n",
       "  (state, 'NOUN'),\n",
       "  (about, 'ADP'),\n",
       "  (clarity, 'NOUN'),\n",
       "  (offer, 'VERB')],\n",
       " [(growth, 'NOUN'), (of, 'ADP'), (estimate, 'NOUN'), (release, 'VERB')],\n",
       " [(grew, 'VERB')],\n",
       " [(grown, 'VERB'), (fallen, 'VERB')],\n",
       " [(appears, 'VERB')],\n",
       " [(protect, 'VERB'),\n",
       "  (trying, 'VERB'),\n",
       "  (reversing, 'VERB'),\n",
       "  (keep, 'VERB'),\n",
       "  (aiming, 'VERB')],\n",
       " [(growth, 'NOUN'), (slowing, 'VERB')],\n",
       " [(is, 'VERB'), (is, 'VERB')],\n",
       " [(report, 'NOUN'), (help, 'VERB')],\n",
       " [(endanger, 'VERB'),\n",
       "  (rout, 'NOUN'),\n",
       "  (into, 'ADP'),\n",
       "  (turning, 'VERB'),\n",
       "  (’s, 'VERB'),\n",
       "  (case, 'NOUN'),\n",
       "  (support, 'VERB')],\n",
       " [(slumping, 'VERB'), (likely, 'ADJ'), (looks, 'VERB')],\n",
       " [(of, 'ADP'), (story, 'NOUN'), (remains, 'VERB'), (be, 'VERB')],\n",
       " [(helping, 'VERB'), (argue, 'VERB')]]"
      ]
     },
     "execution_count": 8,
     "metadata": {},
     "output_type": "execute_result"
    }
   ],
   "source": [
    "econ_ancestors_type = [[(a, a.pos_) for a in ancestors] for ancestors in econ_ancestors]\n",
    "econ_ancestors_type"
   ]
  },
  {
   "cell_type": "code",
   "execution_count": 9,
   "metadata": {},
   "outputs": [
    {
     "data": {
      "text/plain": [
       "[[know, want, pay],\n",
       " [holding, tell, get, going],\n",
       " [see],\n",
       " [appears],\n",
       " [feature, appears],\n",
       " [offer],\n",
       " [release],\n",
       " [grew],\n",
       " [grown, fallen],\n",
       " [appears],\n",
       " [protect, trying, reversing, keep, aiming],\n",
       " [slowing],\n",
       " [is, is],\n",
       " [help],\n",
       " [endanger, turning, ’s, support],\n",
       " [slumping, looks],\n",
       " [remains, be],\n",
       " [helping, argue]]"
      ]
     },
     "execution_count": 9,
     "metadata": {},
     "output_type": "execute_result"
    }
   ],
   "source": [
    "\n",
    "econ_ancestors_verbs = [[a for a in ancestors if a.pos_ == 'VERB'] for ancestors in econ_ancestors]\n",
    "econ_ancestors_verbs"
   ]
  },
  {
   "cell_type": "code",
   "execution_count": 10,
   "metadata": {},
   "outputs": [],
   "source": [
    "pos_verbs = ['grew', 'grown']\n",
    "neg_verbs = ['slumping', 'slowing']\n",
    "\n",
    "econ_ancestors_pos_verbs = [[a for a in ancestors if a.string in pos_verbs] for ancestors in econ_ancestors]\n",
    "econ_ancestors_neg_verbs = [[a for a in ancestors if a.string in neg_verbs] for ancestors in econ_ancestors]"
   ]
  },
  {
   "cell_type": "code",
   "execution_count": 11,
   "metadata": {},
   "outputs": [
    {
     "data": {
      "text/plain": [
       "[[], [], [], [], [], [], [], [], [], [], [], [], [], [], [], [], [], []]"
      ]
     },
     "execution_count": 11,
     "metadata": {},
     "output_type": "execute_result"
    }
   ],
   "source": [
    "econ_ancestors_pos_verbs"
   ]
  },
  {
   "cell_type": "code",
   "execution_count": 12,
   "metadata": {},
   "outputs": [
    {
     "data": {
      "text/plain": [
       "[[], [], [], [], [], [], [], [], [], [], [], [slowing], [], [], [], [], [], []]"
      ]
     },
     "execution_count": 12,
     "metadata": {},
     "output_type": "execute_result"
    }
   ],
   "source": [
    "econ_ancestors_neg_verbs"
   ]
  },
  {
   "cell_type": "markdown",
   "metadata": {},
   "source": [
    "Debugging:"
   ]
  },
  {
   "cell_type": "code",
   "execution_count": 13,
   "metadata": {},
   "outputs": [
    {
     "data": {
      "text/plain": [
       "[grew]"
      ]
     },
     "execution_count": 13,
     "metadata": {},
     "output_type": "execute_result"
    }
   ],
   "source": [
    "anc = econ_ancestors_verbs[7]\n",
    "anc"
   ]
  },
  {
   "cell_type": "code",
   "execution_count": 14,
   "metadata": {},
   "outputs": [
    {
     "data": {
      "text/plain": [
       "grew"
      ]
     },
     "execution_count": 14,
     "metadata": {},
     "output_type": "execute_result"
    }
   ],
   "source": [
    "t = anc[0]\n",
    "t"
   ]
  },
  {
   "cell_type": "code",
   "execution_count": 15,
   "metadata": {},
   "outputs": [
    {
     "data": {
      "text/plain": [
       "'grew '"
      ]
     },
     "execution_count": 15,
     "metadata": {},
     "output_type": "execute_result"
    }
   ],
   "source": [
    "t.string"
   ]
  },
  {
   "cell_type": "code",
   "execution_count": 16,
   "metadata": {},
   "outputs": [
    {
     "data": {
      "text/plain": [
       "False"
      ]
     },
     "execution_count": 16,
     "metadata": {},
     "output_type": "execute_result"
    }
   ],
   "source": [
    "'grew' == 'grew '"
   ]
  },
  {
   "cell_type": "markdown",
   "metadata": {},
   "source": [
    "Fixing:"
   ]
  },
  {
   "cell_type": "code",
   "execution_count": 20,
   "metadata": {},
   "outputs": [],
   "source": [
    "pos_verbs = ['grew', 'grown']\n",
    "neg_verbs = ['slumping', 'slowing']\n",
    "\n",
    "econ_ancestors_pos_verbs = [[a for a in ancestors if a.string.strip() in pos_verbs] for ancestors in econ_ancestors]\n",
    "econ_ancestors_neg_verbs = [[a for a in ancestors if a.string.strip() in neg_verbs] for ancestors in econ_ancestors]\n",
    "\n",
    "econ_ancestors_pos_verbs = [l for l in econ_ancestors_pos_verbs if len(l) > 0]\n",
    "econ_ancestors_neg_verbs = [l for l in econ_ancestors_neg_verbs if len(l) > 0]"
   ]
  },
  {
   "cell_type": "code",
   "execution_count": 21,
   "metadata": {},
   "outputs": [
    {
     "data": {
      "text/plain": [
       "[[grew], [grown]]"
      ]
     },
     "execution_count": 21,
     "metadata": {},
     "output_type": "execute_result"
    }
   ],
   "source": [
    "econ_ancestors_pos_verbs"
   ]
  },
  {
   "cell_type": "code",
   "execution_count": 22,
   "metadata": {},
   "outputs": [
    {
     "data": {
      "text/plain": [
       "[[slowing], [slumping]]"
      ]
     },
     "execution_count": 22,
     "metadata": {},
     "output_type": "execute_result"
    }
   ],
   "source": [
    "econ_ancestors_neg_verbs"
   ]
  },
  {
   "cell_type": "markdown",
   "metadata": {},
   "source": [
    "Check for negation:"
   ]
  },
  {
   "cell_type": "code",
   "execution_count": 23,
   "metadata": {},
   "outputs": [],
   "source": [
    "#[item for sublist in l for item in sublist]\n",
    "econ_ancestors_pos_verbs = [item for sublist in econ_ancestors_pos_verbs for item in sublist]\n",
    "econ_ancestors_neg_verbs = [item for sublist in econ_ancestors_neg_verbs for item in sublist]"
   ]
  },
  {
   "cell_type": "code",
   "execution_count": 24,
   "metadata": {},
   "outputs": [],
   "source": [
    "pos_verb_ancestors = [list(t.ancestors) for t in econ_ancestors_pos_verbs]\n",
    "neg_verb_ancestors = [list(t.ancestors) for t in econ_ancestors_neg_verbs]"
   ]
  },
  {
   "cell_type": "code",
   "execution_count": 25,
   "metadata": {},
   "outputs": [
    {
     "data": {
      "text/plain": [
       "[[], [fallen]]"
      ]
     },
     "execution_count": 25,
     "metadata": {},
     "output_type": "execute_result"
    }
   ],
   "source": [
    "pos_verb_ancestors"
   ]
  },
  {
   "cell_type": "code",
   "execution_count": 26,
   "metadata": {},
   "outputs": [
    {
     "data": {
      "text/plain": [
       "[[], [likely, looks]]"
      ]
     },
     "execution_count": 26,
     "metadata": {},
     "output_type": "execute_result"
    }
   ],
   "source": [
    "neg_verb_ancestors"
   ]
  },
  {
   "cell_type": "markdown",
   "metadata": {},
   "source": [
    "Results:"
   ]
  },
  {
   "cell_type": "code",
   "execution_count": 27,
   "metadata": {},
   "outputs": [],
   "source": [
    "neg_list = ['fallen', 'down', 'not', \"n't\"]\n",
    "pos_negation = len([pva for pva in pos_verb_ancestors if any([p.string.strip() in neg_list for p in pva])])\n",
    "neg_negation = len([pva for pva in neg_verb_ancestors if any([p.string.strip() in neg_list for p in pva])])"
   ]
  },
  {
   "cell_type": "code",
   "execution_count": 28,
   "metadata": {},
   "outputs": [
    {
     "data": {
      "text/plain": [
       "1"
      ]
     },
     "execution_count": 28,
     "metadata": {},
     "output_type": "execute_result"
    }
   ],
   "source": [
    "pos_negation"
   ]
  },
  {
   "cell_type": "code",
   "execution_count": 29,
   "metadata": {},
   "outputs": [
    {
     "data": {
      "text/plain": [
       "0"
      ]
     },
     "execution_count": 29,
     "metadata": {},
     "output_type": "execute_result"
    }
   ],
   "source": [
    "neg_negation"
   ]
  },
  {
   "cell_type": "code",
   "execution_count": 34,
   "metadata": {},
   "outputs": [],
   "source": [
    "pos_econ = len(econ_ancestors_pos_verbs)\n",
    "neg_econ = len(econ_ancestors_neg_verbs)\n",
    "\n",
    "pos_econ = pos_econ - pos_negation + neg_negation\n",
    "neg_econ = neg_econ - neg_negation + pos_negation"
   ]
  },
  {
   "cell_type": "code",
   "execution_count": 35,
   "metadata": {},
   "outputs": [
    {
     "data": {
      "text/plain": [
       "1"
      ]
     },
     "execution_count": 35,
     "metadata": {},
     "output_type": "execute_result"
    }
   ],
   "source": [
    "pos_econ"
   ]
  },
  {
   "cell_type": "code",
   "execution_count": 36,
   "metadata": {},
   "outputs": [
    {
     "data": {
      "text/plain": [
       "3"
      ]
     },
     "execution_count": 36,
     "metadata": {},
     "output_type": "execute_result"
    }
   ],
   "source": [
    "neg_econ"
   ]
  },
  {
   "cell_type": "code",
   "execution_count": 37,
   "metadata": {},
   "outputs": [
    {
     "name": "stdout",
     "output_type": "stream",
     "text": [
      "This article seems negative about the economy.\n"
     ]
    }
   ],
   "source": [
    "if pos_econ > neg_econ:\n",
    "    print('This article seems positive about the economy.')\n",
    "elif neg_econ > pos_econ:\n",
    "    print('This article seems negative about the economy.')\n",
    "else:\n",
    "    print('This artcile seems undecided or mixed about the economy.')"
   ]
  },
  {
   "cell_type": "code",
   "execution_count": null,
   "metadata": {},
   "outputs": [],
   "source": []
  }
 ],
 "metadata": {
  "kernelspec": {
   "display_name": "Python 3",
   "language": "python",
   "name": "python3"
  },
  "language_info": {
   "codemirror_mode": {
    "name": "ipython",
    "version": 3
   },
   "file_extension": ".py",
   "mimetype": "text/x-python",
   "name": "python",
   "nbconvert_exporter": "python",
   "pygments_lexer": "ipython3",
   "version": "3.7.1"
  }
 },
 "nbformat": 4,
 "nbformat_minor": 2
}
