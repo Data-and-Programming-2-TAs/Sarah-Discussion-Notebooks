{
 "cells": [
  {
   "cell_type": "markdown",
   "metadata": {},
   "source": [
    "# Machine Learning in Scikit-learn"
   ]
  },
  {
   "cell_type": "markdown",
   "metadata": {},
   "source": [
    "If you are a self-guided learner:      \n",
    "https://scikit-learn.org/stable/auto_examples/index.html   \n",
    "Scikit-learn documentation has a variety of examples covering the broad scope of ML"
   ]
  },
  {
   "cell_type": "markdown",
   "metadata": {},
   "source": [
    "# But first, a reminder about Pandas Datareader and FRED\n",
    "### State Level Data\n",
    "https://fred.stlouisfed.org/categories/27281 "
   ]
  },
  {
   "cell_type": "markdown",
   "metadata": {},
   "source": [
    "Find the code in the Suggested Citation and the Tital of each data page\n",
    "e.g. on the page for Total Gross Domestic Product for Alabama   \n",
    "\n",
    "Suggested Citation:\n",
    "U.S. Bureau of Economic Analysis, Total Gross Domestic Product for Alabama [ALNGSP], retrieved from FRED, Federal Reserve Bank of St. Louis; https://fred.stlouisfed.org/series/ALNGSP, November 20, 2020.\n",
    "\n",
    "    \n",
    "For more on Pandas Datareader and FRED   \n",
    "https://medium.com/swlh/pandas-datareader-federal-reserve-economic-data-fred-a360c5795013 "
   ]
  },
  {
   "cell_type": "code",
   "execution_count": 129,
   "metadata": {},
   "outputs": [
    {
     "data": {
      "text/html": [
       "<div>\n",
       "<style scoped>\n",
       "    .dataframe tbody tr th:only-of-type {\n",
       "        vertical-align: middle;\n",
       "    }\n",
       "\n",
       "    .dataframe tbody tr th {\n",
       "        vertical-align: top;\n",
       "    }\n",
       "\n",
       "    .dataframe thead th {\n",
       "        text-align: right;\n",
       "    }\n",
       "</style>\n",
       "<table border=\"1\" class=\"dataframe\">\n",
       "  <thead>\n",
       "    <tr style=\"text-align: right;\">\n",
       "      <th></th>\n",
       "      <th>DATE</th>\n",
       "      <th>ALNGSP</th>\n",
       "      <th>MEHOINUSALA672N</th>\n",
       "    </tr>\n",
       "  </thead>\n",
       "  <tbody>\n",
       "    <tr>\n",
       "      <th>0</th>\n",
       "      <td>2014-01-01</td>\n",
       "      <td>195037.7</td>\n",
       "      <td>45701</td>\n",
       "    </tr>\n",
       "    <tr>\n",
       "      <th>1</th>\n",
       "      <td>2015-01-01</td>\n",
       "      <td>200197.5</td>\n",
       "      <td>48030</td>\n",
       "    </tr>\n",
       "    <tr>\n",
       "      <th>2</th>\n",
       "      <td>2016-01-01</td>\n",
       "      <td>204454.7</td>\n",
       "      <td>50308</td>\n",
       "    </tr>\n",
       "    <tr>\n",
       "      <th>3</th>\n",
       "      <td>2017-01-01</td>\n",
       "      <td>210895.7</td>\n",
       "      <td>53049</td>\n",
       "    </tr>\n",
       "    <tr>\n",
       "      <th>4</th>\n",
       "      <td>2018-01-01</td>\n",
       "      <td>221030.7</td>\n",
       "      <td>50841</td>\n",
       "    </tr>\n",
       "  </tbody>\n",
       "</table>\n",
       "</div>"
      ],
      "text/plain": [
       "        DATE    ALNGSP  MEHOINUSALA672N\n",
       "0 2014-01-01  195037.7            45701\n",
       "1 2015-01-01  200197.5            48030\n",
       "2 2016-01-01  204454.7            50308\n",
       "3 2017-01-01  210895.7            53049\n",
       "4 2018-01-01  221030.7            50841"
      ]
     },
     "execution_count": 129,
     "metadata": {},
     "output_type": "execute_result"
    }
   ],
   "source": [
    "import pandas_datareader.data as web\n",
    "import datetime\n",
    "\n",
    "start = datetime.date(year=2014, month=1,  day=1)\n",
    "end   = datetime.date(year=2019, month=12, day=31)\n",
    "series = ['ALNGSP','MEHOINUSALA672N']\n",
    "source = 'fred'\n",
    "df = web.DataReader(series, source, start, end)\n",
    "df.reset_index(inplace = True)\n",
    "df.head()\n",
    "\n",
    "\n",
    "# ALNGSP total GDP AL\n",
    "# MEHOINUSALA672N real median household income"
   ]
  },
  {
   "cell_type": "markdown",
   "metadata": {},
   "source": [
    "## A Quick Note on ML & Algorithmic Bias\n",
    "#### From Merritt\n",
    "Machine learning, like most of the topics you’re learning this quarter, is a very deep discipline that we’re only going to touch the surface of. Unlike most other disciplines you’re learning this quarter, you can do quite a bit of damage if you apply machine learning incorrectly. It is of the utmost importance to apply machine learning carefully and always with an eye towards fairness, accountability, and explainability.\n",
    "Algorithms themselves are not biased, but they can return results that are biased against certain groups of people if the data fed into them is biased. The data is almost guaranteed to be biased if you are using data from the real world, because the real world is biased against certain groups of people. For example, the National Institute of Standards and Technology recently found that facial recognition algorithms are 10 to 100 times more likely to inaccurately identify an East Asian or black face compared to a white face (<a href=“https://www.scientificamerican.com/article/how-nist-tested-facial-recognition-algorithms-for-racial-bias”>Scientific American</a>).\n",
    "This is even more of a problem when algorithms determine important decisions, like whether an individual is <a href=“https://www.law.upenn.edu/live/files/7952-kearns-finalpdf”>eligible for a loan</a>, or <a href=“https://www.businessinsider.com/amazon-ai-biased-against-women-no-surprise-sandra-wachter-2018-10”>whether to invite an individual for a job interview</a>. There is a developing literature on this topic, known as FATML (Fairness, Accountability, and Transparency in Machine Learning). There are no one size fits all solutions, but there are some basic steps you can take, like evaluating the outcomes based on all types of groupings of individuals, using tools like <a href=“https://github.com/dssg/aequitas”>aequitas</a> (developed by some Harris folks among others), and generally being sensitive and attentive to the potential biases your algorithm might propagate.     "
   ]
  },
  {
   "cell_type": "markdown",
   "metadata": {},
   "source": [
    "# Supervised Machine Learning Example\n",
    "### Predict Average Annual Death by CVD Quartiles in Chicago Community Areas"
   ]
  },
  {
   "cell_type": "markdown",
   "metadata": {},
   "source": [
    "__Steps__\n",
    "\n",
    "1. Choose a model by importing its class from Scikit-Learn\n",
    "2. Choose (non-data) parameters by creating an instance of the above class\n",
    "3. Arrange data into the labels matrix and features matrix\n",
    "4. Fit the data to the instance of the model\n",
    "5. Examine results (e.g. predict, plot)"
   ]
  },
  {
   "cell_type": "code",
   "execution_count": 86,
   "metadata": {},
   "outputs": [],
   "source": [
    "import os\n",
    "import pandas as pd\n",
    "import requests\n",
    "import seaborn as sns"
   ]
  },
  {
   "cell_type": "code",
   "execution_count": 131,
   "metadata": {},
   "outputs": [],
   "source": [
    "path = '/Users/Sarah/Documents/GitHub/Sarah-Discussion-Notebooks/Data'\n",
    "\n",
    "base_url = 'https://data.cityofchicago.org/api/views/{}/rows.csv?accessType=DOWNLOAD'\n",
    "file_name = [('kn9c-c2s2', 'Chicago_SES.csv'),\n",
    "            ('j6cj-r444','Chicago_Death.csv')]\n",
    "\n",
    "\n",
    "def download_data(url, filename):\n",
    "    if filename not in os.listdir(path):\n",
    "        response = requests.get(url)\n",
    "        output = response.text\n",
    "        with open(filename, 'w') as ofile:\n",
    "            ofile.write(output)\n",
    "\n",
    "def read_data(path, filename):\n",
    "    if filename.endswith('.csv'):\n",
    "        df = pd.read_csv(os.path.join(path, filename))\n",
    "    elif filename.endswith('.xls'):\n",
    "        df = pd.read_excel(os.path.join(path, filename))\n",
    "    else:\n",
    "        return 'unexpected file type in read_data'\n",
    "    return df\n",
    "\n",
    "def build_urls(base_url, num):\n",
    "    return base_url.format(num)    \n",
    "    \n",
    "        \n",
    "def parse_death(death_df):\n",
    "    death_df.rename(columns = {'Community Area': 'Community Area Number'}, inplace=True)\n",
    "    avg_an_death = death_df.pivot(index = 'Community Area Number', columns='Cause of Death', \n",
    "                                  values='Average Adjusted Rate 2006 - 2010')\n",
    "    avg_an_death.drop(0, axis = 0, inplace = True) #drop the Chicago Total\n",
    "    avg_an_death.reset_index(inplace = True)\n",
    "    # create a colomn for Quartile of Avearge Annual Deaths by Coronary Heart Disease\n",
    "    avg_an_death['CVD_quartile'] = (pd.qcut(avg_an_death['Coronary heart disease'], \n",
    "                                            4, labels=['Q1', 'Q2', 'Q3', 'Q4']))\n",
    "    # cite: https://stackoverflow.com/questions/62610541/calculated-quartile-category-of-a-column-in-pandas\n",
    "    \n",
    "    # drop total dealths\n",
    "    avg_an_death.drop(columns = ['All Causes', 'Coronary heart disease'], inplace = True)\n",
    "    return avg_an_death\n",
    "\n",
    "\n",
    "def merge_dfs(SES_df, death_df):     \n",
    "    SES_death = SES_df.merge(death_df, on='Community Area Number', how = 'inner')\n",
    "    \n",
    "    #drop colums with Nan (all cols dropped for this df are completely empty)\n",
    "    SES_death.dropna(axis=1,inplace=True)\n",
    "\n",
    "    return SES_death\n",
    "\n",
    "\n",
    "def prep_df(base_url, file_name):\n",
    "    urls = [] \n",
    "    for n, f in file_name:\n",
    "        urls.append((build_urls(base_url, n), f)) \n",
    " \n",
    "    # download if not present andread in df\n",
    "    df_contents = []\n",
    "    for url, filename in urls:\n",
    "        download_data(url,filename)\n",
    "        df = read_data(path, filename)\n",
    "        if filename == 'Chicago_Death.csv':\n",
    "                df_contents.append(parse_death(df))\n",
    "        else:\n",
    "            df_contents.append(df)\n",
    "\n",
    "    merged = merge_dfs(df_contents[0], df_contents[1])\n",
    "    \n",
    "    return merged\n",
    "\n",
    "use_df = prep_df(base_url, file_name)"
   ]
  },
  {
   "cell_type": "code",
   "execution_count": 132,
   "metadata": {},
   "outputs": [
    {
     "data": {
      "text/plain": [
       "Index(['Community Area Number', 'COMMUNITY AREA NAME',\n",
       "       'PERCENT OF HOUSING CROWDED', 'PERCENT HOUSEHOLDS BELOW POVERTY',\n",
       "       'PERCENT AGED 16+ UNEMPLOYED',\n",
       "       'PERCENT AGED 25+ WITHOUT HIGH SCHOOL DIPLOMA',\n",
       "       'PERCENT AGED UNDER 18 OR OVER 64', 'PER CAPITA INCOME ',\n",
       "       'HARDSHIP INDEX', 'All causes in females', 'All causes in males',\n",
       "       'Alzheimers disease', 'Assault (homicide)', 'Breast cancer in females',\n",
       "       'Cancer (all sites)', 'Colorectal cancer', 'Diabetes-related',\n",
       "       'Firearm-related', 'Injury, unintentional',\n",
       "       'Kidney disease (nephritis, nephrotic syndrome and nephrosis)',\n",
       "       'Liver disease and cirrhosis', 'Lung cancer',\n",
       "       'Prostate cancer in males', 'Stroke (cerebrovascular disease)',\n",
       "       'Suicide (intentional self-harm)', 'CVD_quartile'],\n",
       "      dtype='object')"
      ]
     },
     "execution_count": 132,
     "metadata": {},
     "output_type": "execute_result"
    }
   ],
   "source": [
    "use_df.columns"
   ]
  },
  {
   "cell_type": "markdown",
   "metadata": {},
   "source": [
    "__Steps__\n",
    "\n",
    "1. Choose a model by importing its class from Scikit-Learn\n",
    "2. Choose (non-data) parameters by creating an instance of the above class\n",
    "3. Arrange data into the labels matrix and features matrix\n",
    "4. Fit the data to the instance of the model\n",
    "5. Examine results (e.g. predict, plot)"
   ]
  },
  {
   "cell_type": "code",
   "execution_count": 133,
   "metadata": {},
   "outputs": [],
   "source": [
    "# 3. Arrange data into the labels matrix and features matrix\n",
    "\n",
    "X = use_df.drop(columns = ['CVD_quartile', 'COMMUNITY AREA NAME'])\n",
    "Y = use_df['CVD_quartile']"
   ]
  },
  {
   "cell_type": "code",
   "execution_count": 134,
   "metadata": {},
   "outputs": [],
   "source": [
    "# 3.5 divide data into 2:\n",
    "# train (to \"teach\" your model) and\n",
    "# test (to see how good your model is at predicting)\n",
    "\n",
    "from sklearn.model_selection import train_test_split\n",
    "\n",
    "X_train, X_test, Y_train, Y_test = train_test_split(X, Y, test_size=0.20, random_state=123)"
   ]
  },
  {
   "cell_type": "code",
   "execution_count": 135,
   "metadata": {},
   "outputs": [
    {
     "name": "stdout",
     "output_type": "stream",
     "text": [
      "(61, 24)\n",
      "(61,)\n",
      "(16, 24)\n",
      "(16,)\n"
     ]
    }
   ],
   "source": [
    "print(X_train.shape)\n",
    "print(Y_train.shape)\n",
    "\n",
    "print(X_test.shape)\n",
    "print(Y_test.shape)"
   ]
  },
  {
   "cell_type": "code",
   "execution_count": 136,
   "metadata": {},
   "outputs": [
    {
     "data": {
      "text/html": [
       "<div>\n",
       "<style scoped>\n",
       "    .dataframe tbody tr th:only-of-type {\n",
       "        vertical-align: middle;\n",
       "    }\n",
       "\n",
       "    .dataframe tbody tr th {\n",
       "        vertical-align: top;\n",
       "    }\n",
       "\n",
       "    .dataframe thead th {\n",
       "        text-align: right;\n",
       "    }\n",
       "</style>\n",
       "<table border=\"1\" class=\"dataframe\">\n",
       "  <thead>\n",
       "    <tr style=\"text-align: right;\">\n",
       "      <th></th>\n",
       "      <th>Community Area Number</th>\n",
       "      <th>PERCENT OF HOUSING CROWDED</th>\n",
       "      <th>PERCENT HOUSEHOLDS BELOW POVERTY</th>\n",
       "      <th>PERCENT AGED 16+ UNEMPLOYED</th>\n",
       "      <th>PERCENT AGED 25+ WITHOUT HIGH SCHOOL DIPLOMA</th>\n",
       "      <th>PERCENT AGED UNDER 18 OR OVER 64</th>\n",
       "      <th>PER CAPITA INCOME</th>\n",
       "      <th>HARDSHIP INDEX</th>\n",
       "      <th>All causes in females</th>\n",
       "      <th>All causes in males</th>\n",
       "      <th>...</th>\n",
       "      <th>Colorectal cancer</th>\n",
       "      <th>Diabetes-related</th>\n",
       "      <th>Firearm-related</th>\n",
       "      <th>Injury, unintentional</th>\n",
       "      <th>Kidney disease (nephritis, nephrotic syndrome and nephrosis)</th>\n",
       "      <th>Liver disease and cirrhosis</th>\n",
       "      <th>Lung cancer</th>\n",
       "      <th>Prostate cancer in males</th>\n",
       "      <th>Stroke (cerebrovascular disease)</th>\n",
       "      <th>Suicide (intentional self-harm)</th>\n",
       "    </tr>\n",
       "  </thead>\n",
       "  <tbody>\n",
       "    <tr>\n",
       "      <th>71</th>\n",
       "      <td>72.0</td>\n",
       "      <td>0.9</td>\n",
       "      <td>5.1</td>\n",
       "      <td>8.0</td>\n",
       "      <td>3.7</td>\n",
       "      <td>40.5</td>\n",
       "      <td>39523</td>\n",
       "      <td>12.0</td>\n",
       "      <td>689.1</td>\n",
       "      <td>792.9</td>\n",
       "      <td>...</td>\n",
       "      <td>19.7</td>\n",
       "      <td>19.8</td>\n",
       "      <td>5.7</td>\n",
       "      <td>18.4</td>\n",
       "      <td>14.2</td>\n",
       "      <td>5.3</td>\n",
       "      <td>44.1</td>\n",
       "      <td>44.0</td>\n",
       "      <td>49.7</td>\n",
       "      <td>7.4</td>\n",
       "    </tr>\n",
       "    <tr>\n",
       "      <th>43</th>\n",
       "      <td>44.0</td>\n",
       "      <td>3.3</td>\n",
       "      <td>27.8</td>\n",
       "      <td>24.0</td>\n",
       "      <td>14.5</td>\n",
       "      <td>40.3</td>\n",
       "      <td>18881</td>\n",
       "      <td>60.0</td>\n",
       "      <td>740.8</td>\n",
       "      <td>1229.5</td>\n",
       "      <td>...</td>\n",
       "      <td>20.7</td>\n",
       "      <td>37.7</td>\n",
       "      <td>36.3</td>\n",
       "      <td>35.3</td>\n",
       "      <td>30.1</td>\n",
       "      <td>5.9</td>\n",
       "      <td>51.1</td>\n",
       "      <td>54.3</td>\n",
       "      <td>42.1</td>\n",
       "      <td>7.6</td>\n",
       "    </tr>\n",
       "    <tr>\n",
       "      <th>51</th>\n",
       "      <td>52.0</td>\n",
       "      <td>6.8</td>\n",
       "      <td>19.2</td>\n",
       "      <td>12.1</td>\n",
       "      <td>31.9</td>\n",
       "      <td>42.8</td>\n",
       "      <td>17104</td>\n",
       "      <td>64.0</td>\n",
       "      <td>639.2</td>\n",
       "      <td>997.8</td>\n",
       "      <td>...</td>\n",
       "      <td>15.2</td>\n",
       "      <td>35.1</td>\n",
       "      <td>9.6</td>\n",
       "      <td>37.0</td>\n",
       "      <td>25.2</td>\n",
       "      <td>16.2</td>\n",
       "      <td>42.2</td>\n",
       "      <td>26.3</td>\n",
       "      <td>32.3</td>\n",
       "      <td>5.6</td>\n",
       "    </tr>\n",
       "    <tr>\n",
       "      <th>1</th>\n",
       "      <td>2.0</td>\n",
       "      <td>7.8</td>\n",
       "      <td>17.2</td>\n",
       "      <td>8.8</td>\n",
       "      <td>20.8</td>\n",
       "      <td>38.5</td>\n",
       "      <td>23040</td>\n",
       "      <td>46.0</td>\n",
       "      <td>570.2</td>\n",
       "      <td>843.0</td>\n",
       "      <td>...</td>\n",
       "      <td>17.1</td>\n",
       "      <td>24.5</td>\n",
       "      <td>3.9</td>\n",
       "      <td>21.1</td>\n",
       "      <td>21.0</td>\n",
       "      <td>7.7</td>\n",
       "      <td>37.8</td>\n",
       "      <td>16.9</td>\n",
       "      <td>34.3</td>\n",
       "      <td>6.1</td>\n",
       "    </tr>\n",
       "    <tr>\n",
       "      <th>37</th>\n",
       "      <td>38.0</td>\n",
       "      <td>3.3</td>\n",
       "      <td>29.3</td>\n",
       "      <td>24.3</td>\n",
       "      <td>15.9</td>\n",
       "      <td>39.5</td>\n",
       "      <td>23472</td>\n",
       "      <td>57.0</td>\n",
       "      <td>775.6</td>\n",
       "      <td>1356.0</td>\n",
       "      <td>...</td>\n",
       "      <td>25.7</td>\n",
       "      <td>31.6</td>\n",
       "      <td>26.3</td>\n",
       "      <td>42.9</td>\n",
       "      <td>21.3</td>\n",
       "      <td>12.2</td>\n",
       "      <td>65.7</td>\n",
       "      <td>35.9</td>\n",
       "      <td>49.0</td>\n",
       "      <td>6.0</td>\n",
       "    </tr>\n",
       "  </tbody>\n",
       "</table>\n",
       "<p>5 rows × 24 columns</p>\n",
       "</div>"
      ],
      "text/plain": [
       "    Community Area Number  PERCENT OF HOUSING CROWDED  \\\n",
       "71                   72.0                         0.9   \n",
       "43                   44.0                         3.3   \n",
       "51                   52.0                         6.8   \n",
       "1                     2.0                         7.8   \n",
       "37                   38.0                         3.3   \n",
       "\n",
       "    PERCENT HOUSEHOLDS BELOW POVERTY  PERCENT AGED 16+ UNEMPLOYED  \\\n",
       "71                               5.1                          8.0   \n",
       "43                              27.8                         24.0   \n",
       "51                              19.2                         12.1   \n",
       "1                               17.2                          8.8   \n",
       "37                              29.3                         24.3   \n",
       "\n",
       "    PERCENT AGED 25+ WITHOUT HIGH SCHOOL DIPLOMA  \\\n",
       "71                                           3.7   \n",
       "43                                          14.5   \n",
       "51                                          31.9   \n",
       "1                                           20.8   \n",
       "37                                          15.9   \n",
       "\n",
       "    PERCENT AGED UNDER 18 OR OVER 64  PER CAPITA INCOME   HARDSHIP INDEX  \\\n",
       "71                              40.5               39523            12.0   \n",
       "43                              40.3               18881            60.0   \n",
       "51                              42.8               17104            64.0   \n",
       "1                               38.5               23040            46.0   \n",
       "37                              39.5               23472            57.0   \n",
       "\n",
       "    All causes in females  All causes in males  ...  Colorectal cancer  \\\n",
       "71                  689.1                792.9  ...               19.7   \n",
       "43                  740.8               1229.5  ...               20.7   \n",
       "51                  639.2                997.8  ...               15.2   \n",
       "1                   570.2                843.0  ...               17.1   \n",
       "37                  775.6               1356.0  ...               25.7   \n",
       "\n",
       "    Diabetes-related  Firearm-related  Injury, unintentional  \\\n",
       "71              19.8              5.7                   18.4   \n",
       "43              37.7             36.3                   35.3   \n",
       "51              35.1              9.6                   37.0   \n",
       "1               24.5              3.9                   21.1   \n",
       "37              31.6             26.3                   42.9   \n",
       "\n",
       "    Kidney disease (nephritis, nephrotic syndrome and nephrosis)  \\\n",
       "71                                               14.2              \n",
       "43                                               30.1              \n",
       "51                                               25.2              \n",
       "1                                                21.0              \n",
       "37                                               21.3              \n",
       "\n",
       "    Liver disease and cirrhosis  Lung cancer  Prostate cancer in males  \\\n",
       "71                          5.3         44.1                      44.0   \n",
       "43                          5.9         51.1                      54.3   \n",
       "51                         16.2         42.2                      26.3   \n",
       "1                           7.7         37.8                      16.9   \n",
       "37                         12.2         65.7                      35.9   \n",
       "\n",
       "    Stroke (cerebrovascular disease)  Suicide (intentional self-harm)  \n",
       "71                              49.7                              7.4  \n",
       "43                              42.1                              7.6  \n",
       "51                              32.3                              5.6  \n",
       "1                               34.3                              6.1  \n",
       "37                              49.0                              6.0  \n",
       "\n",
       "[5 rows x 24 columns]"
      ]
     },
     "execution_count": 136,
     "metadata": {},
     "output_type": "execute_result"
    }
   ],
   "source": [
    "X_train.head()"
   ]
  },
  {
   "cell_type": "code",
   "execution_count": 137,
   "metadata": {},
   "outputs": [
    {
     "data": {
      "text/plain": [
       "71    Q2\n",
       "43    Q2\n",
       "51    Q1\n",
       "1     Q2\n",
       "37    Q3\n",
       "Name: CVD_quartile, dtype: category\n",
       "Categories (4, object): ['Q1' < 'Q2' < 'Q3' < 'Q4']"
      ]
     },
     "execution_count": 137,
     "metadata": {},
     "output_type": "execute_result"
    }
   ],
   "source": [
    "Y_train.head()"
   ]
  },
  {
   "cell_type": "code",
   "execution_count": 138,
   "metadata": {},
   "outputs": [],
   "source": [
    "# 1. Choose a model by importing its class from Scikit-Learn\n",
    "from sklearn.naive_bayes import GaussianNB"
   ]
  },
  {
   "cell_type": "code",
   "execution_count": 139,
   "metadata": {},
   "outputs": [],
   "source": [
    "# 2. Choose (non-data) parameters by creating an instance of the above class\n",
    "model = GaussianNB()\n",
    "\n",
    "# 4. Fit the data to the instance of the model\n",
    "model.fit(X_train, Y_train)\n",
    "predict = model.predict(X_test)"
   ]
  },
  {
   "cell_type": "code",
   "execution_count": 140,
   "metadata": {},
   "outputs": [
    {
     "data": {
      "text/plain": [
       "array(['Q4', 'Q1', 'Q4', 'Q1', 'Q3', 'Q1', 'Q1', 'Q1', 'Q1', 'Q2', 'Q1',\n",
       "       'Q1', 'Q3', 'Q4', 'Q1', 'Q3'], dtype='<U2')"
      ]
     },
     "execution_count": 140,
     "metadata": {},
     "output_type": "execute_result"
    }
   ],
   "source": [
    "# 5. Examine results (e.g. predict, plot)\n",
    "predict"
   ]
  },
  {
   "cell_type": "code",
   "execution_count": 141,
   "metadata": {},
   "outputs": [],
   "source": [
    "from sklearn.metrics import classification_report\n",
    "from sklearn.metrics import confusion_matrix\n",
    "from sklearn.metrics import accuracy_score"
   ]
  },
  {
   "cell_type": "code",
   "execution_count": 142,
   "metadata": {},
   "outputs": [
    {
     "data": {
      "text/plain": [
       "0.3125"
      ]
     },
     "execution_count": 142,
     "metadata": {},
     "output_type": "execute_result"
    }
   ],
   "source": [
    "accuracy_score(Y_test, predict)"
   ]
  },
  {
   "cell_type": "code",
   "execution_count": 143,
   "metadata": {},
   "outputs": [
    {
     "data": {
      "image/png": "[encoded data removed]",
      "text/plain": [
       "<Figure size 432x288 with 1 Axes>"
      ]
     },
     "metadata": {
      "needs_background": "light"
     },
     "output_type": "display_data"
    }
   ],
   "source": [
    "from sklearn.metrics import confusion_matrix\n",
    "\n",
    "mat = confusion_matrix(Y_test, predict)\n",
    "\n",
    "ax = sns.heatmap(mat, square=True, annot=True, cbar=False)\n",
    "ax.set_xlabel('Predicted')\n",
    "ax.set_ylabel('Actual');"
   ]
  },
  {
   "cell_type": "code",
   "execution_count": 144,
   "metadata": {},
   "outputs": [
    {
     "name": "stdout",
     "output_type": "stream",
     "text": [
      "              precision    recall  f1-score   support\n",
      "\n",
      "          Q1       0.33      0.60      0.43         5\n",
      "          Q2       1.00      0.25      0.40         4\n",
      "          Q3       0.00      0.00      0.00         3\n",
      "          Q4       0.33      0.25      0.29         4\n",
      "\n",
      "    accuracy                           0.31        16\n",
      "   macro avg       0.42      0.28      0.28        16\n",
      "weighted avg       0.44      0.31      0.31        16\n",
      "\n"
     ]
    }
   ],
   "source": [
    "print(classification_report(Y_test, predict))"
   ]
  },
  {
   "cell_type": "code",
   "execution_count": 145,
   "metadata": {},
   "outputs": [],
   "source": [
    "model =  DecisionTreeClassifier()\n",
    "model.fit(X_train, Y_train)\n",
    "predict = model.predict(X_test)"
   ]
  },
  {
   "cell_type": "code",
   "execution_count": 146,
   "metadata": {},
   "outputs": [
    {
     "data": {
      "image/png": "[encoded data removed]",
      "text/plain": [
       "<Figure size 432x288 with 1 Axes>"
      ]
     },
     "metadata": {
      "needs_background": "light"
     },
     "output_type": "display_data"
    }
   ],
   "source": [
    "mat = confusion_matrix(Y_test, predict)\n",
    "\n",
    "ax = sns.heatmap(mat, square=True, annot=True, cbar=False)\n",
    "ax.set_xlabel('Predicted')\n",
    "ax.set_ylabel('Actual');"
   ]
  },
  {
   "cell_type": "code",
   "execution_count": 147,
   "metadata": {},
   "outputs": [
    {
     "name": "stdout",
     "output_type": "stream",
     "text": [
      "              precision    recall  f1-score   support\n",
      "\n",
      "          Q1       0.50      0.20      0.29         5\n",
      "          Q2       0.33      0.75      0.46         4\n",
      "          Q3       0.00      0.00      0.00         3\n",
      "          Q4       0.00      0.00      0.00         4\n",
      "\n",
      "    accuracy                           0.25        16\n",
      "   macro avg       0.21      0.24      0.19        16\n",
      "weighted avg       0.24      0.25      0.20        16\n",
      "\n"
     ]
    }
   ],
   "source": [
    "print(classification_report(Y_test, predict))"
   ]
  },
  {
   "cell_type": "code",
   "execution_count": 148,
   "metadata": {},
   "outputs": [],
   "source": [
    "from sklearn.model_selection import cross_val_score\n",
    "from sklearn.model_selection import StratifiedKFold"
   ]
  },
  {
   "cell_type": "code",
   "execution_count": 149,
   "metadata": {},
   "outputs": [],
   "source": [
    "from sklearn.discriminant_analysis import LinearDiscriminantAnalysis\n",
    "from sklearn.svm import SVC\n",
    "from sklearn.tree import DecisionTreeClassifier\n",
    "from sklearn.neighbors import KNeighborsClassifier\n",
    "# https://scikit-learn.org/stable/modules/generated/sklearn.neighbors.KNeighborsClassifier.html#sklearn.neighbors.KNeighborsClassifier\n",
    "\n",
    "# create instances of the models\n",
    "models = [('Dec Tree', DecisionTreeClassifier()), \n",
    "          ('Lin Disc', LinearDiscriminantAnalysis()), \n",
    "          ('Gauss', GaussianNB()), \n",
    "          ('SVC', SVC(gamma='auto')),\n",
    "          ('KNN', KNeighborsClassifier(n_neighbors=3))]"
   ]
  },
  {
   "cell_type": "code",
   "execution_count": 150,
   "metadata": {},
   "outputs": [
    {
     "name": "stderr",
     "output_type": "stream",
     "text": [
      "/Users/Sarah/anaconda3/lib/python3.7/site-packages/sklearn/model_selection/_split.py:297: FutureWarning: Setting a random_state has no effect since shuffle is False. This will raise an error in 0.24. You should leave random_state to its default (None), or set shuffle=True.\n",
      "  FutureWarning\n",
      "/Users/Sarah/anaconda3/lib/python3.7/site-packages/sklearn/model_selection/_split.py:297: FutureWarning: Setting a random_state has no effect since shuffle is False. This will raise an error in 0.24. You should leave random_state to its default (None), or set shuffle=True.\n",
      "  FutureWarning\n",
      "/Users/Sarah/anaconda3/lib/python3.7/site-packages/sklearn/model_selection/_split.py:297: FutureWarning: Setting a random_state has no effect since shuffle is False. This will raise an error in 0.24. You should leave random_state to its default (None), or set shuffle=True.\n",
      "  FutureWarning\n",
      "/Users/Sarah/anaconda3/lib/python3.7/site-packages/sklearn/model_selection/_split.py:297: FutureWarning: Setting a random_state has no effect since shuffle is False. This will raise an error in 0.24. You should leave random_state to its default (None), or set shuffle=True.\n",
      "  FutureWarning\n",
      "/Users/Sarah/anaconda3/lib/python3.7/site-packages/sklearn/model_selection/_split.py:297: FutureWarning: Setting a random_state has no effect since shuffle is False. This will raise an error in 0.24. You should leave random_state to its default (None), or set shuffle=True.\n",
      "  FutureWarning\n"
     ]
    }
   ],
   "source": [
    "# What is cross validation? \n",
    "# see here: https://scikit-learn.org/stable/modules/cross_validation.html#cross-validation\n",
    "\n",
    "results = []\n",
    "\n",
    "for name, model in models:\n",
    "    kf = StratifiedKFold(n_splits=10, random_state=123)\n",
    "    res = cross_val_score(model, X_train, Y_train, cv=kf, scoring='accuracy')\n",
    "    res_mean = round(res.mean(), 4)\n",
    "    res_std  = round(res.std(), 4)\n",
    "    results.append((name, res_mean, res_std))"
   ]
  },
  {
   "cell_type": "code",
   "execution_count": 151,
   "metadata": {},
   "outputs": [
    {
     "data": {
      "text/plain": [
       "[('Dec Tree', 0.481, 0.2202),\n",
       " ('Lin Disc', 0.4286, 0.1887),\n",
       " ('Gauss', 0.4095, 0.1844),\n",
       " ('SVC', 0.1786, 0.0357),\n",
       " ('KNN', 0.3143, 0.1596)]"
      ]
     },
     "execution_count": 151,
     "metadata": {},
     "output_type": "execute_result"
    }
   ],
   "source": [
    "results #model, mean accuracy, std of accuracy"
   ]
  },
  {
   "cell_type": "markdown",
   "metadata": {},
   "source": [
    "## Unsupervised"
   ]
  },
  {
   "cell_type": "code",
   "execution_count": 152,
   "metadata": {},
   "outputs": [],
   "source": [
    "from sklearn.decomposition import PCA\n",
    "\n",
    "model = PCA(n_components=2)\n",
    "\n",
    "model.fit(X)\n",
    "\n",
    "X_2D = model.transform(X)"
   ]
  },
  {
   "cell_type": "code",
   "execution_count": 153,
   "metadata": {},
   "outputs": [],
   "source": [
    "use_df['PCA1'] = X_2D[:,0]\n",
    "use_df['PCA2'] = X_2D[:,1]"
   ]
  },
  {
   "cell_type": "code",
   "execution_count": 154,
   "metadata": {},
   "outputs": [
    {
     "name": "stderr",
     "output_type": "stream",
     "text": [
      "/Users/Sarah/anaconda3/lib/python3.7/site-packages/seaborn/_decorators.py:43: FutureWarning: Pass the following variables as keyword args: x, y. From version 0.12, the only valid positional argument will be `data`, and passing other arguments without an explicit keyword will result in an error or misinterpretation.\n",
      "  FutureWarning\n"
     ]
    },
    {
     "data": {
      "image/png": "[encoded data removed]",
      "text/plain": [
       "<Figure size 433.25x360 with 1 Axes>"
      ]
     },
     "metadata": {
      "needs_background": "light"
     },
     "output_type": "display_data"
    }
   ],
   "source": [
    "sns.lmplot('PCA1', 'PCA2', hue='CVD_quartile', data=use_df, fit_reg=False);"
   ]
  },
  {
   "cell_type": "code",
   "execution_count": null,
   "metadata": {},
   "outputs": [],
   "source": []
  }
 ],
 "metadata": {
  "kernelspec": {
   "display_name": "Python 3",
   "language": "python",
   "name": "python3"
  },
  "language_info": {
   "codemirror_mode": {
    "name": "ipython",
    "version": 3
   },
   "file_extension": ".py",
   "mimetype": "text/x-python",
   "name": "python",
   "nbconvert_exporter": "python",
   "pygments_lexer": "ipython3",
   "version": "3.7.1"
  }
 },
 "nbformat": 4,
 "nbformat_minor": 4
}
