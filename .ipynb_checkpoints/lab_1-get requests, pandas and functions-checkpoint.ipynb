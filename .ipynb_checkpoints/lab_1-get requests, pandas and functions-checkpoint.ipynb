{
 "cells": [
  {
   "cell_type": "markdown",
   "metadata": {},
   "source": [
    "# Python Review\n",
    "   \n",
    "* Get Requests   \n",
    "* Pandas\n",
    "* Functions"
   ]
  },
  {
   "cell_type": "markdown",
   "metadata": {},
   "source": [
    "## Optional Activity\n",
    "#### If you were in Data and Programming 1 -Python sections:    \n",
    "   Take a look at some of your homeworks from Fall quarter   \n",
    "* Can you understand your own code?   \n",
    "* Refresh your memory\n",
    "-you can totally steal code from yourself for future HW\n",
    "\n",
    "#### If you were in Data and Programming 1 -R section:\n",
    "You've still got this!\n",
    "Review materials that prof Levy has recommended \n",
    "\n",
    "#### Either way:   \n",
    "Feel free to check out my Lab notebooks from Fall quarter\n",
    "https://github.com/Data-and-Programming-2-TAs/Data_and_Programming_1_Lab_Notebooks \n"
   ]
  },
  {
   "cell_type": "code",
   "execution_count": 2,
   "metadata": {},
   "outputs": [],
   "source": [
    "import os\n",
    "import requests\n",
    "import pandas as pd"
   ]
  },
  {
   "cell_type": "code",
   "execution_count": 5,
   "metadata": {
    "scrolled": true
   },
   "outputs": [
    {
     "data": {
      "text/plain": [
       "'/Users/Sarah/Documents/GitHub/Sarah-Discussion-Notebooks'"
      ]
     },
     "execution_count": 5,
     "metadata": {},
     "output_type": "execute_result"
    }
   ],
   "source": [
    "path = os.path.join(os.getcwd(), 'Documents', 'GitHub', 'Sarah-Discussion-Notebooks')\n",
    "path"
   ]
  },
  {
   "cell_type": "code",
   "execution_count": 17,
   "metadata": {},
   "outputs": [],
   "source": [
    "os.chdir(path) #set working directory -may not be needed, depending on how you are running your code"
   ]
  },
  {
   "cell_type": "code",
   "execution_count": 18,
   "metadata": {},
   "outputs": [
    {
     "data": {
      "text/plain": [
       "'/Users/Sarah/Documents/GitHub/Sarah-Discussion-Notebooks'"
      ]
     },
     "execution_count": 18,
     "metadata": {},
     "output_type": "execute_result"
    }
   ],
   "source": [
    "os.getcwd()"
   ]
  },
  {
   "cell_type": "markdown",
   "metadata": {},
   "source": [
    "Let's look at Chicago population Data\n",
    "Chicago Health Atlaas:\n",
    "https://www.chicagohealthatlas.org/indicators/total-population "
   ]
  },
  {
   "cell_type": "code",
   "execution_count": 8,
   "metadata": {},
   "outputs": [],
   "source": [
    "url = 'https://citytech-health-atlas-data-prod.s3.amazonaws.com/uploads/uploader/path/557/Total_population.xlsx'\n",
    "filename = 'Chi_pop.xls'"
   ]
  },
  {
   "cell_type": "code",
   "execution_count": 19,
   "metadata": {},
   "outputs": [],
   "source": [
    "response = requests.get(url)\n",
    "output = response.content\n",
    "with open(filename, 'wb') as ofile:\n",
    "    ofile.write(output)"
   ]
  },
  {
   "cell_type": "code",
   "execution_count": 28,
   "metadata": {},
   "outputs": [
    {
     "data": {
      "text/html": [
       "<div>\n",
       "<style scoped>\n",
       "    .dataframe tbody tr th:only-of-type {\n",
       "        vertical-align: middle;\n",
       "    }\n",
       "\n",
       "    .dataframe tbody tr th {\n",
       "        vertical-align: top;\n",
       "    }\n",
       "\n",
       "    .dataframe thead th {\n",
       "        text-align: right;\n",
       "    }\n",
       "</style>\n",
       "<table border=\"1\" class=\"dataframe\">\n",
       "  <thead>\n",
       "    <tr style=\"text-align: right;\">\n",
       "      <th></th>\n",
       "      <th>Category</th>\n",
       "      <th>SubCategory</th>\n",
       "      <th>Indicator</th>\n",
       "      <th>Year</th>\n",
       "      <th>Geography</th>\n",
       "      <th>Geo_Group</th>\n",
       "      <th>Geo_ID</th>\n",
       "      <th>Demography</th>\n",
       "      <th>Demo_Group</th>\n",
       "      <th>Number</th>\n",
       "      <th>...</th>\n",
       "      <th>Upper_95CI_Age_Adj_Rate</th>\n",
       "      <th>Percent</th>\n",
       "      <th>Lower_95CI_Percent</th>\n",
       "      <th>Upper_95CI_Percent</th>\n",
       "      <th>Weight_Number</th>\n",
       "      <th>Weight_Percent</th>\n",
       "      <th>Lower_95CI_Weight_Percent</th>\n",
       "      <th>Upper_95CI_Weight_Percent</th>\n",
       "      <th>Map_Key</th>\n",
       "      <th>Flag</th>\n",
       "    </tr>\n",
       "  </thead>\n",
       "  <tbody>\n",
       "    <tr>\n",
       "      <th>0</th>\n",
       "      <td>Demography</td>\n",
       "      <td>Age Group</td>\n",
       "      <td>Total population</td>\n",
       "      <td>2017</td>\n",
       "      <td>City</td>\n",
       "      <td>Chicago</td>\n",
       "      <td>606</td>\n",
       "      <td>Race-ethnicity</td>\n",
       "      <td>All race-ethnicities</td>\n",
       "      <td>2716462</td>\n",
       "      <td>...</td>\n",
       "      <td>NaN</td>\n",
       "      <td>NaN</td>\n",
       "      <td>NaN</td>\n",
       "      <td>NaN</td>\n",
       "      <td>NaN</td>\n",
       "      <td>NaN</td>\n",
       "      <td>NaN</td>\n",
       "      <td>NaN</td>\n",
       "      <td>NaN</td>\n",
       "      <td>G</td>\n",
       "    </tr>\n",
       "    <tr>\n",
       "      <th>1</th>\n",
       "      <td>Demography</td>\n",
       "      <td>Age Group</td>\n",
       "      <td>Total population</td>\n",
       "      <td>2017</td>\n",
       "      <td>City</td>\n",
       "      <td>Chicago</td>\n",
       "      <td>606</td>\n",
       "      <td>Age</td>\n",
       "      <td>0-4</td>\n",
       "      <td>172017</td>\n",
       "      <td>...</td>\n",
       "      <td>NaN</td>\n",
       "      <td>6.3</td>\n",
       "      <td>NaN</td>\n",
       "      <td>NaN</td>\n",
       "      <td>NaN</td>\n",
       "      <td>NaN</td>\n",
       "      <td>NaN</td>\n",
       "      <td>NaN</td>\n",
       "      <td>NaN</td>\n",
       "      <td>G</td>\n",
       "    </tr>\n",
       "    <tr>\n",
       "      <th>2</th>\n",
       "      <td>Demography</td>\n",
       "      <td>Age Group</td>\n",
       "      <td>Total population</td>\n",
       "      <td>2017</td>\n",
       "      <td>City</td>\n",
       "      <td>Chicago</td>\n",
       "      <td>606</td>\n",
       "      <td>Age</td>\n",
       "      <td>5-9</td>\n",
       "      <td>150373</td>\n",
       "      <td>...</td>\n",
       "      <td>NaN</td>\n",
       "      <td>5.5</td>\n",
       "      <td>NaN</td>\n",
       "      <td>NaN</td>\n",
       "      <td>NaN</td>\n",
       "      <td>NaN</td>\n",
       "      <td>NaN</td>\n",
       "      <td>NaN</td>\n",
       "      <td>NaN</td>\n",
       "      <td>G</td>\n",
       "    </tr>\n",
       "    <tr>\n",
       "      <th>3</th>\n",
       "      <td>Demography</td>\n",
       "      <td>Age Group</td>\n",
       "      <td>Total population</td>\n",
       "      <td>2017</td>\n",
       "      <td>City</td>\n",
       "      <td>Chicago</td>\n",
       "      <td>606</td>\n",
       "      <td>Age</td>\n",
       "      <td>10-14</td>\n",
       "      <td>155283</td>\n",
       "      <td>...</td>\n",
       "      <td>NaN</td>\n",
       "      <td>5.7</td>\n",
       "      <td>NaN</td>\n",
       "      <td>NaN</td>\n",
       "      <td>NaN</td>\n",
       "      <td>NaN</td>\n",
       "      <td>NaN</td>\n",
       "      <td>NaN</td>\n",
       "      <td>NaN</td>\n",
       "      <td>G</td>\n",
       "    </tr>\n",
       "    <tr>\n",
       "      <th>4</th>\n",
       "      <td>Demography</td>\n",
       "      <td>Age Group</td>\n",
       "      <td>Total population</td>\n",
       "      <td>2017</td>\n",
       "      <td>City</td>\n",
       "      <td>Chicago</td>\n",
       "      <td>606</td>\n",
       "      <td>Age</td>\n",
       "      <td>15-19</td>\n",
       "      <td>153896</td>\n",
       "      <td>...</td>\n",
       "      <td>NaN</td>\n",
       "      <td>5.7</td>\n",
       "      <td>NaN</td>\n",
       "      <td>NaN</td>\n",
       "      <td>NaN</td>\n",
       "      <td>NaN</td>\n",
       "      <td>NaN</td>\n",
       "      <td>NaN</td>\n",
       "      <td>NaN</td>\n",
       "      <td>G</td>\n",
       "    </tr>\n",
       "  </tbody>\n",
       "</table>\n",
       "<p>5 rows × 27 columns</p>\n",
       "</div>"
      ],
      "text/plain": [
       "     Category SubCategory         Indicator  Year Geography Geo_Group  Geo_ID  \\\n",
       "0  Demography   Age Group  Total population  2017      City   Chicago     606   \n",
       "1  Demography   Age Group  Total population  2017      City   Chicago     606   \n",
       "2  Demography   Age Group  Total population  2017      City   Chicago     606   \n",
       "3  Demography   Age Group  Total population  2017      City   Chicago     606   \n",
       "4  Demography   Age Group  Total population  2017      City   Chicago     606   \n",
       "\n",
       "       Demography            Demo_Group   Number  ...  \\\n",
       "0  Race-ethnicity  All race-ethnicities  2716462  ...   \n",
       "1             Age                   0-4   172017  ...   \n",
       "2             Age                   5-9   150373  ...   \n",
       "3             Age                 10-14   155283  ...   \n",
       "4             Age                15-19    153896  ...   \n",
       "\n",
       "   Upper_95CI_Age_Adj_Rate  Percent  Lower_95CI_Percent  Upper_95CI_Percent  \\\n",
       "0                      NaN      NaN                 NaN                 NaN   \n",
       "1                      NaN      6.3                 NaN                 NaN   \n",
       "2                      NaN      5.5                 NaN                 NaN   \n",
       "3                      NaN      5.7                 NaN                 NaN   \n",
       "4                      NaN      5.7                 NaN                 NaN   \n",
       "\n",
       "   Weight_Number  Weight_Percent  Lower_95CI_Weight_Percent  \\\n",
       "0            NaN             NaN                        NaN   \n",
       "1            NaN             NaN                        NaN   \n",
       "2            NaN             NaN                        NaN   \n",
       "3            NaN             NaN                        NaN   \n",
       "4            NaN             NaN                        NaN   \n",
       "\n",
       "   Upper_95CI_Weight_Percent  Map_Key  Flag  \n",
       "0                        NaN      NaN     G  \n",
       "1                        NaN      NaN     G  \n",
       "2                        NaN      NaN     G  \n",
       "3                        NaN      NaN     G  \n",
       "4                        NaN      NaN     G  \n",
       "\n",
       "[5 rows x 27 columns]"
      ]
     },
     "execution_count": 28,
     "metadata": {},
     "output_type": "execute_result"
    }
   ],
   "source": [
    "df = pd.read_excel(os.path.join(path, filename))\n",
    "df.head()"
   ]
  },
  {
   "cell_type": "code",
   "execution_count": 21,
   "metadata": {},
   "outputs": [
    {
     "data": {
      "text/plain": [
       "(383, 27)"
      ]
     },
     "execution_count": 21,
     "metadata": {},
     "output_type": "execute_result"
    }
   ],
   "source": [
    "df.shape"
   ]
  },
  {
   "cell_type": "code",
   "execution_count": 23,
   "metadata": {},
   "outputs": [
    {
     "data": {
      "text/plain": [
       "0      2716462\n",
       "1       172017\n",
       "2       150373\n",
       "3       155283\n",
       "4       153896\n",
       "        ...   \n",
       "378      27643\n",
       "379      18497\n",
       "380      27313\n",
       "381      20669\n",
       "382      56605\n",
       "Name: Number, Length: 383, dtype: int64"
      ]
     },
     "execution_count": 23,
     "metadata": {},
     "output_type": "execute_result"
    }
   ],
   "source": [
    "df['Number']"
   ]
  },
  {
   "cell_type": "code",
   "execution_count": 27,
   "metadata": {},
   "outputs": [
    {
     "data": {
      "text/plain": [
       "0           2017\n",
       "1           2017\n",
       "2           2017\n",
       "3           2017\n",
       "4           2017\n",
       "         ...    \n",
       "378    2006-2010\n",
       "379    2006-2010\n",
       "380    2006-2010\n",
       "381    2006-2010\n",
       "382    2006-2010\n",
       "Name: Year, Length: 383, dtype: object"
      ]
     },
     "execution_count": 27,
     "metadata": {},
     "output_type": "execute_result"
    }
   ],
   "source": [
    "df['Year']"
   ]
  },
  {
   "cell_type": "code",
   "execution_count": 26,
   "metadata": {},
   "outputs": [
    {
     "data": {
      "text/plain": [
       "Index(['Category', 'SubCategory', 'Indicator', 'Year', 'Geography',\n",
       "       'Geo_Group', 'Geo_ID', 'Demography', 'Demo_Group', 'Number',\n",
       "       'Cum_Number', 'Ave_Annual_Number', 'Crude_Rate',\n",
       "       'Lower_95CI_Crude_Rate', 'Upper_95CI_Crude_Rate', 'Age_Adj_Rate',\n",
       "       'Lower_95CI_Age_Adj_Rate', 'Upper_95CI_Age_Adj_Rate', 'Percent',\n",
       "       'Lower_95CI_Percent', 'Upper_95CI_Percent', 'Weight_Number',\n",
       "       'Weight_Percent', 'Lower_95CI_Weight_Percent',\n",
       "       'Upper_95CI_Weight_Percent', 'Map_Key', 'Flag'],\n",
       "      dtype='object')"
      ]
     },
     "execution_count": 26,
     "metadata": {},
     "output_type": "execute_result"
    }
   ],
   "source": [
    "df.columns"
   ]
  },
  {
   "cell_type": "code",
   "execution_count": 39,
   "metadata": {},
   "outputs": [],
   "source": [
    "#could drop columns this way\n",
    "small_df = df.drop(columns = ['Category', 'SubCategory', 'Indicator', 'Age_Adj_Rate',\n",
    "                             'Geo_Group', 'Geo_ID', 'Demo_Group', 'Weight_Number',\n",
    "                             'Cum_Number', 'Ave_Annual_Number', 'Crude_Rate',\n",
    "                             'Lower_95CI_Crude_Rate', 'Upper_95CI_Crude_Rate', \n",
    "                             'Lower_95CI_Age_Adj_Rate', 'Upper_95CI_Age_Adj_Rate', \n",
    "                             'Lower_95CI_Percent', 'Upper_95CI_Percent', \n",
    "                             'Weight_Percent', 'Lower_95CI_Weight_Percent',\n",
    "                             'Upper_95CI_Weight_Percent', 'Map_Key', 'Flag'])\n",
    "\n",
    "\n",
    "\n",
    "#or \n",
    "\n",
    "keep_colls = ['Year','Geography', 'Demography', 'Demo_Group', 'Number', 'Percent']\n",
    "\n",
    "small_df = df[keep_colls] \n"
   ]
  },
  {
   "cell_type": "code",
   "execution_count": 40,
   "metadata": {},
   "outputs": [
    {
     "data": {
      "text/html": [
       "<div>\n",
       "<style scoped>\n",
       "    .dataframe tbody tr th:only-of-type {\n",
       "        vertical-align: middle;\n",
       "    }\n",
       "\n",
       "    .dataframe tbody tr th {\n",
       "        vertical-align: top;\n",
       "    }\n",
       "\n",
       "    .dataframe thead th {\n",
       "        text-align: right;\n",
       "    }\n",
       "</style>\n",
       "<table border=\"1\" class=\"dataframe\">\n",
       "  <thead>\n",
       "    <tr style=\"text-align: right;\">\n",
       "      <th></th>\n",
       "      <th>Year</th>\n",
       "      <th>Geography</th>\n",
       "      <th>Demography</th>\n",
       "      <th>Demo_Group</th>\n",
       "      <th>Number</th>\n",
       "      <th>Percent</th>\n",
       "    </tr>\n",
       "  </thead>\n",
       "  <tbody>\n",
       "    <tr>\n",
       "      <th>0</th>\n",
       "      <td>2017</td>\n",
       "      <td>City</td>\n",
       "      <td>Race-ethnicity</td>\n",
       "      <td>All race-ethnicities</td>\n",
       "      <td>2716462</td>\n",
       "      <td>NaN</td>\n",
       "    </tr>\n",
       "    <tr>\n",
       "      <th>1</th>\n",
       "      <td>2017</td>\n",
       "      <td>City</td>\n",
       "      <td>Age</td>\n",
       "      <td>0-4</td>\n",
       "      <td>172017</td>\n",
       "      <td>6.3</td>\n",
       "    </tr>\n",
       "    <tr>\n",
       "      <th>2</th>\n",
       "      <td>2017</td>\n",
       "      <td>City</td>\n",
       "      <td>Age</td>\n",
       "      <td>5-9</td>\n",
       "      <td>150373</td>\n",
       "      <td>5.5</td>\n",
       "    </tr>\n",
       "    <tr>\n",
       "      <th>3</th>\n",
       "      <td>2017</td>\n",
       "      <td>City</td>\n",
       "      <td>Age</td>\n",
       "      <td>10-14</td>\n",
       "      <td>155283</td>\n",
       "      <td>5.7</td>\n",
       "    </tr>\n",
       "    <tr>\n",
       "      <th>4</th>\n",
       "      <td>2017</td>\n",
       "      <td>City</td>\n",
       "      <td>Age</td>\n",
       "      <td>15-19</td>\n",
       "      <td>153896</td>\n",
       "      <td>5.7</td>\n",
       "    </tr>\n",
       "  </tbody>\n",
       "</table>\n",
       "</div>"
      ],
      "text/plain": [
       "   Year Geography      Demography            Demo_Group   Number  Percent\n",
       "0  2017      City  Race-ethnicity  All race-ethnicities  2716462      NaN\n",
       "1  2017      City             Age                   0-4   172017      6.3\n",
       "2  2017      City             Age                   5-9   150373      5.5\n",
       "3  2017      City             Age                 10-14   155283      5.7\n",
       "4  2017      City             Age                15-19    153896      5.7"
      ]
     },
     "execution_count": 40,
     "metadata": {},
     "output_type": "execute_result"
    }
   ],
   "source": [
    "small_df.head()"
   ]
  },
  {
   "cell_type": "code",
   "execution_count": 41,
   "metadata": {},
   "outputs": [
    {
     "data": {
      "text/plain": [
       "Year           object\n",
       "Geography      object\n",
       "Demography     object\n",
       "Demo_Group     object\n",
       "Number          int64\n",
       "Percent       float64\n",
       "dtype: object"
      ]
     },
     "execution_count": 41,
     "metadata": {},
     "output_type": "execute_result"
    }
   ],
   "source": [
    "small_df.dtypes"
   ]
  },
  {
   "cell_type": "code",
   "execution_count": 42,
   "metadata": {},
   "outputs": [
    {
     "data": {
      "text/plain": [
       "Year            0\n",
       "Geography       0\n",
       "Demography    231\n",
       "Demo_Group    231\n",
       "Number          0\n",
       "Percent       239\n",
       "dtype: int64"
      ]
     },
     "execution_count": 42,
     "metadata": {},
     "output_type": "execute_result"
    }
   ],
   "source": [
    "small_df.isna().sum()"
   ]
  },
  {
   "cell_type": "code",
   "execution_count": 43,
   "metadata": {},
   "outputs": [
    {
     "data": {
      "text/html": [
       "<div>\n",
       "<style scoped>\n",
       "    .dataframe tbody tr th:only-of-type {\n",
       "        vertical-align: middle;\n",
       "    }\n",
       "\n",
       "    .dataframe tbody tr th {\n",
       "        vertical-align: top;\n",
       "    }\n",
       "\n",
       "    .dataframe thead th {\n",
       "        text-align: right;\n",
       "    }\n",
       "</style>\n",
       "<table border=\"1\" class=\"dataframe\">\n",
       "  <thead>\n",
       "    <tr style=\"text-align: right;\">\n",
       "      <th></th>\n",
       "      <th>Year</th>\n",
       "      <th>Geography</th>\n",
       "      <th>Demography</th>\n",
       "      <th>Demo_Group</th>\n",
       "      <th>Number</th>\n",
       "      <th>Percent</th>\n",
       "    </tr>\n",
       "  </thead>\n",
       "  <tbody>\n",
       "    <tr>\n",
       "      <th>0</th>\n",
       "      <td>2017</td>\n",
       "      <td>City</td>\n",
       "      <td>Race-ethnicity</td>\n",
       "      <td>All race-ethnicities</td>\n",
       "      <td>2716462</td>\n",
       "      <td>NaN</td>\n",
       "    </tr>\n",
       "    <tr>\n",
       "      <th>1</th>\n",
       "      <td>2017</td>\n",
       "      <td>City</td>\n",
       "      <td>Age</td>\n",
       "      <td>0-4</td>\n",
       "      <td>172017</td>\n",
       "      <td>6.3</td>\n",
       "    </tr>\n",
       "    <tr>\n",
       "      <th>2</th>\n",
       "      <td>2017</td>\n",
       "      <td>City</td>\n",
       "      <td>Age</td>\n",
       "      <td>5-9</td>\n",
       "      <td>150373</td>\n",
       "      <td>5.5</td>\n",
       "    </tr>\n",
       "    <tr>\n",
       "      <th>3</th>\n",
       "      <td>2017</td>\n",
       "      <td>City</td>\n",
       "      <td>Age</td>\n",
       "      <td>10-14</td>\n",
       "      <td>155283</td>\n",
       "      <td>5.7</td>\n",
       "    </tr>\n",
       "    <tr>\n",
       "      <th>4</th>\n",
       "      <td>2017</td>\n",
       "      <td>City</td>\n",
       "      <td>Age</td>\n",
       "      <td>15-19</td>\n",
       "      <td>153896</td>\n",
       "      <td>5.7</td>\n",
       "    </tr>\n",
       "  </tbody>\n",
       "</table>\n",
       "</div>"
      ],
      "text/plain": [
       "   Year Geography      Demography            Demo_Group   Number  Percent\n",
       "0  2017      City  Race-ethnicity  All race-ethnicities  2716462      NaN\n",
       "1  2017      City             Age                   0-4   172017      6.3\n",
       "2  2017      City             Age                   5-9   150373      5.5\n",
       "3  2017      City             Age                 10-14   155283      5.7\n",
       "4  2017      City             Age                15-19    153896      5.7"
      ]
     },
     "execution_count": 43,
     "metadata": {},
     "output_type": "execute_result"
    }
   ],
   "source": [
    "df_2017 = small_df.loc[small_df['Year'] == 2017]\n",
    "df_2017.head()"
   ]
  },
  {
   "cell_type": "code",
   "execution_count": 44,
   "metadata": {},
   "outputs": [
    {
     "data": {
      "text/plain": [
       "Year          0\n",
       "Geography     0\n",
       "Demography    0\n",
       "Demo_Group    0\n",
       "Number        0\n",
       "Percent       1\n",
       "dtype: int64"
      ]
     },
     "execution_count": 44,
     "metadata": {},
     "output_type": "execute_result"
    }
   ],
   "source": [
    "df_2017.isna().sum()"
   ]
  },
  {
   "cell_type": "markdown",
   "metadata": {},
   "source": [
    "## Re-factor Code"
   ]
  },
  {
   "cell_type": "code",
   "execution_count": 46,
   "metadata": {},
   "outputs": [
    {
     "data": {
      "text/html": [
       "<div>\n",
       "<style scoped>\n",
       "    .dataframe tbody tr th:only-of-type {\n",
       "        vertical-align: middle;\n",
       "    }\n",
       "\n",
       "    .dataframe tbody tr th {\n",
       "        vertical-align: top;\n",
       "    }\n",
       "\n",
       "    .dataframe thead th {\n",
       "        text-align: right;\n",
       "    }\n",
       "</style>\n",
       "<table border=\"1\" class=\"dataframe\">\n",
       "  <thead>\n",
       "    <tr style=\"text-align: right;\">\n",
       "      <th></th>\n",
       "      <th>Year</th>\n",
       "      <th>Geography</th>\n",
       "      <th>Demography</th>\n",
       "      <th>Demo_Group</th>\n",
       "      <th>Number</th>\n",
       "      <th>Percent</th>\n",
       "    </tr>\n",
       "  </thead>\n",
       "  <tbody>\n",
       "    <tr>\n",
       "      <th>0</th>\n",
       "      <td>2017</td>\n",
       "      <td>City</td>\n",
       "      <td>Race-ethnicity</td>\n",
       "      <td>All race-ethnicities</td>\n",
       "      <td>2716462</td>\n",
       "      <td>NaN</td>\n",
       "    </tr>\n",
       "    <tr>\n",
       "      <th>1</th>\n",
       "      <td>2017</td>\n",
       "      <td>City</td>\n",
       "      <td>Age</td>\n",
       "      <td>0-4</td>\n",
       "      <td>172017</td>\n",
       "      <td>6.3</td>\n",
       "    </tr>\n",
       "    <tr>\n",
       "      <th>2</th>\n",
       "      <td>2017</td>\n",
       "      <td>City</td>\n",
       "      <td>Age</td>\n",
       "      <td>5-9</td>\n",
       "      <td>150373</td>\n",
       "      <td>5.5</td>\n",
       "    </tr>\n",
       "    <tr>\n",
       "      <th>3</th>\n",
       "      <td>2017</td>\n",
       "      <td>City</td>\n",
       "      <td>Age</td>\n",
       "      <td>10-14</td>\n",
       "      <td>155283</td>\n",
       "      <td>5.7</td>\n",
       "    </tr>\n",
       "    <tr>\n",
       "      <th>4</th>\n",
       "      <td>2017</td>\n",
       "      <td>City</td>\n",
       "      <td>Age</td>\n",
       "      <td>15-19</td>\n",
       "      <td>153896</td>\n",
       "      <td>5.7</td>\n",
       "    </tr>\n",
       "  </tbody>\n",
       "</table>\n",
       "</div>"
      ],
      "text/plain": [
       "   Year Geography      Demography            Demo_Group   Number  Percent\n",
       "0  2017      City  Race-ethnicity  All race-ethnicities  2716462      NaN\n",
       "1  2017      City             Age                   0-4   172017      6.3\n",
       "2  2017      City             Age                   5-9   150373      5.5\n",
       "3  2017      City             Age                 10-14   155283      5.7\n",
       "4  2017      City             Age                15-19    153896      5.7"
      ]
     },
     "execution_count": 46,
     "metadata": {},
     "output_type": "execute_result"
    }
   ],
   "source": [
    "#...\n",
    "\n",
    "def parse_df(df, year):\n",
    "    small_df = df[['Year','Geography', 'Demography', 'Demo_Group', 'Number', 'Percent']]\n",
    "    df_year = small_df.loc[small_df['Year'] == year]\n",
    "    return df_year\n",
    "\n",
    "df_2017 = parse_df(df, 2017)\n",
    "df_2017.head()"
   ]
  },
  {
   "cell_type": "code",
   "execution_count": 47,
   "metadata": {},
   "outputs": [
    {
     "data": {
      "text/html": [
       "<div>\n",
       "<style scoped>\n",
       "    .dataframe tbody tr th:only-of-type {\n",
       "        vertical-align: middle;\n",
       "    }\n",
       "\n",
       "    .dataframe tbody tr th {\n",
       "        vertical-align: top;\n",
       "    }\n",
       "\n",
       "    .dataframe thead th {\n",
       "        text-align: right;\n",
       "    }\n",
       "</style>\n",
       "<table border=\"1\" class=\"dataframe\">\n",
       "  <thead>\n",
       "    <tr style=\"text-align: right;\">\n",
       "      <th></th>\n",
       "      <th>Year</th>\n",
       "      <th>Geography</th>\n",
       "      <th>Demography</th>\n",
       "      <th>Demo_Group</th>\n",
       "      <th>Number</th>\n",
       "      <th>Percent</th>\n",
       "    </tr>\n",
       "  </thead>\n",
       "  <tbody>\n",
       "    <tr>\n",
       "      <th>0</th>\n",
       "      <td>2017</td>\n",
       "      <td>City</td>\n",
       "      <td>Race-ethnicity</td>\n",
       "      <td>All race-ethnicities</td>\n",
       "      <td>2716462</td>\n",
       "      <td>NaN</td>\n",
       "    </tr>\n",
       "    <tr>\n",
       "      <th>1</th>\n",
       "      <td>2017</td>\n",
       "      <td>City</td>\n",
       "      <td>Age</td>\n",
       "      <td>0-4</td>\n",
       "      <td>172017</td>\n",
       "      <td>6.3</td>\n",
       "    </tr>\n",
       "    <tr>\n",
       "      <th>2</th>\n",
       "      <td>2017</td>\n",
       "      <td>City</td>\n",
       "      <td>Age</td>\n",
       "      <td>5-9</td>\n",
       "      <td>150373</td>\n",
       "      <td>5.5</td>\n",
       "    </tr>\n",
       "    <tr>\n",
       "      <th>3</th>\n",
       "      <td>2017</td>\n",
       "      <td>City</td>\n",
       "      <td>Age</td>\n",
       "      <td>10-14</td>\n",
       "      <td>155283</td>\n",
       "      <td>5.7</td>\n",
       "    </tr>\n",
       "    <tr>\n",
       "      <th>4</th>\n",
       "      <td>2017</td>\n",
       "      <td>City</td>\n",
       "      <td>Age</td>\n",
       "      <td>15-19</td>\n",
       "      <td>153896</td>\n",
       "      <td>5.7</td>\n",
       "    </tr>\n",
       "  </tbody>\n",
       "</table>\n",
       "</div>"
      ],
      "text/plain": [
       "   Year Geography      Demography            Demo_Group   Number  Percent\n",
       "0  2017      City  Race-ethnicity  All race-ethnicities  2716462      NaN\n",
       "1  2017      City             Age                   0-4   172017      6.3\n",
       "2  2017      City             Age                   5-9   150373      5.5\n",
       "3  2017      City             Age                 10-14   155283      5.7\n",
       "4  2017      City             Age                15-19    153896      5.7"
      ]
     },
     "execution_count": 47,
     "metadata": {},
     "output_type": "execute_result"
    }
   ],
   "source": [
    "#or even more general:\n",
    "\n",
    "def parse_df(df, year, columns):\n",
    "    small_df = df[columns]\n",
    "    df_year = small_df.loc[small_df['Year'] == year]\n",
    "    return df_year\n",
    "\n",
    "keep_cols = ['Year','Geography', 'Demography', 'Demo_Group', 'Number', 'Percent']\n",
    "df_2017 = parse_df(df, 2017, keep_cols)\n",
    "df_2017.head()"
   ]
  },
  {
   "cell_type": "code",
   "execution_count": 52,
   "metadata": {},
   "outputs": [
    {
     "data": {
      "text/html": [
       "<div>\n",
       "<style scoped>\n",
       "    .dataframe tbody tr th:only-of-type {\n",
       "        vertical-align: middle;\n",
       "    }\n",
       "\n",
       "    .dataframe tbody tr th {\n",
       "        vertical-align: top;\n",
       "    }\n",
       "\n",
       "    .dataframe thead th {\n",
       "        text-align: right;\n",
       "    }\n",
       "</style>\n",
       "<table border=\"1\" class=\"dataframe\">\n",
       "  <thead>\n",
       "    <tr style=\"text-align: right;\">\n",
       "      <th></th>\n",
       "      <th>Indicator</th>\n",
       "      <th>Year</th>\n",
       "      <th>Geo_ID</th>\n",
       "      <th>Number</th>\n",
       "      <th>Age_Adj_Rate</th>\n",
       "    </tr>\n",
       "  </thead>\n",
       "  <tbody>\n",
       "    <tr>\n",
       "      <th>19</th>\n",
       "      <td>Total population</td>\n",
       "      <td>2016</td>\n",
       "      <td>606</td>\n",
       "      <td>2704965</td>\n",
       "      <td>NaN</td>\n",
       "    </tr>\n",
       "    <tr>\n",
       "      <th>20</th>\n",
       "      <td>Total population</td>\n",
       "      <td>2016</td>\n",
       "      <td>606</td>\n",
       "      <td>173118</td>\n",
       "      <td>NaN</td>\n",
       "    </tr>\n",
       "    <tr>\n",
       "      <th>21</th>\n",
       "      <td>Total population</td>\n",
       "      <td>2016</td>\n",
       "      <td>606</td>\n",
       "      <td>156888</td>\n",
       "      <td>NaN</td>\n",
       "    </tr>\n",
       "    <tr>\n",
       "      <th>22</th>\n",
       "      <td>Total population</td>\n",
       "      <td>2016</td>\n",
       "      <td>606</td>\n",
       "      <td>154183</td>\n",
       "      <td>NaN</td>\n",
       "    </tr>\n",
       "    <tr>\n",
       "      <th>23</th>\n",
       "      <td>Total population</td>\n",
       "      <td>2016</td>\n",
       "      <td>606</td>\n",
       "      <td>159593</td>\n",
       "      <td>NaN</td>\n",
       "    </tr>\n",
       "  </tbody>\n",
       "</table>\n",
       "</div>"
      ],
      "text/plain": [
       "           Indicator  Year  Geo_ID   Number  Age_Adj_Rate\n",
       "19  Total population  2016     606  2704965           NaN\n",
       "20  Total population  2016     606   173118           NaN\n",
       "21  Total population  2016     606   156888           NaN\n",
       "22  Total population  2016     606   154183           NaN\n",
       "23  Total population  2016     606   159593           NaN"
      ]
     },
     "execution_count": 52,
     "metadata": {},
     "output_type": "execute_result"
    }
   ],
   "source": [
    "keep_cols = ['Indicator','Year','Geo_ID','Number', 'Age_Adj_Rate']\n",
    "alt_df_2016 = parse_df(df, 2016, keep_cols)\n",
    "alt_df_2016.head()"
   ]
  },
  {
   "cell_type": "code",
   "execution_count": null,
   "metadata": {},
   "outputs": [],
   "source": []
  }
 ],
 "metadata": {
  "kernelspec": {
   "display_name": "Python 3",
   "language": "python",
   "name": "python3"
  },
  "language_info": {
   "codemirror_mode": {
    "name": "ipython",
    "version": 3
   },
   "file_extension": ".py",
   "mimetype": "text/x-python",
   "name": "python",
   "nbconvert_exporter": "python",
   "pygments_lexer": "ipython3",
   "version": "3.7.1"
  }
 },
 "nbformat": 4,
 "nbformat_minor": 2
}
