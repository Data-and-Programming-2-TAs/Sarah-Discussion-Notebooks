{
 "cells": [
  {
   "cell_type": "markdown",
   "metadata": {},
   "source": [
    "### Geopandas Example\n",
    "\n",
    "Choropleth and points"
   ]
  },
  {
   "cell_type": "code",
   "execution_count": null,
   "metadata": {},
   "outputs": [],
   "source": [
    "import pandas as pd\n",
    "import requests\n",
    "import os\n",
    "import matplotlib.pyplot as plt\n",
    "import geopandas\n",
    "from mpl_toolkits.axes_grid1 import make_axes_locatable"
   ]
  },
  {
   "cell_type": "code",
   "execution_count": null,
   "metadata": {},
   "outputs": [],
   "source": [
    "path = '/Users/Sarah/Documents/GitHub/Sarah-Discussion-Notebooks/Data'\n",
    "filename = 'College_Graduation_or_More.xlsx'\n",
    "chi_comm_area_boundries = os.path.join('Boundaries - Community Areas (current)','geo_export_8d7b31fe-6ff9-40e2-b9c6-91236f0af785.shp')\n",
    "year = '2012-2016'\n",
    "os.chdir(path)\n",
    "        \n",
    "def read_data(path, filename):\n",
    "    if filename.endswith('.csv'):\n",
    "        df = pd.read_csv(os.path.join(path, filename))\n",
    "    elif filename.endswith('.xls') or filename.endswith('.xlsx'):\n",
    "        df = pd.read_excel(os.path.join(path, filename))\n",
    "    else:\n",
    "        print('unexpected file type in read_data')\n",
    "    \n",
    "    return df\n",
    "\n",
    "\n",
    "def parse_chi_health_atlas_df(df, date_range):\n",
    "    df = df[df['Year'] == date_range]\n",
    "    df = df[['Geo_Group', 'Geo_ID', 'Percent']]\n",
    "    \n",
    "    return df\n",
    "\n",
    "  \n",
    "df = read_data(path, filename)\n",
    "df = parse_chi_health_atlas_df(df, year)"
   ]
  },
  {
   "cell_type": "code",
   "execution_count": null,
   "metadata": {},
   "outputs": [],
   "source": [
    "df.head()"
   ]
  },
  {
   "cell_type": "code",
   "execution_count": null,
   "metadata": {},
   "outputs": [],
   "source": [
    "df_shp = geopandas.read_file(chi_comm_area_boundries)\n",
    "df_shp.plot();\n",
    "# Cite: https://geopandas.org/mapping.html"
   ]
  },
  {
   "cell_type": "code",
   "execution_count": null,
   "metadata": {},
   "outputs": [],
   "source": [
    "df_shp.head(3)"
   ]
  },
  {
   "cell_type": "code",
   "execution_count": null,
   "metadata": {},
   "outputs": [],
   "source": [
    "use_df = df.merge(df_shp, left_on = 'Geo_ID', right_on = 'area_numbe', how = 'inner')"
   ]
  },
  {
   "cell_type": "code",
   "execution_count": null,
   "metadata": {},
   "outputs": [],
   "source": [
    "df_shp.dtypes"
   ]
  },
  {
   "cell_type": "code",
   "execution_count": null,
   "metadata": {},
   "outputs": [],
   "source": [
    "df.dtypes"
   ]
  },
  {
   "cell_type": "code",
   "execution_count": null,
   "metadata": {},
   "outputs": [],
   "source": [
    "df_shp['area_num_1'] = df_shp['area_num_1'].astype(int)\n",
    "#Cite: https://datatofish.com/string-to-integer-dataframe/\n",
    "df_shp.dtypes"
   ]
  },
  {
   "cell_type": "code",
   "execution_count": null,
   "metadata": {},
   "outputs": [],
   "source": [
    "df_shp.head(3)"
   ]
  },
  {
   "cell_type": "code",
   "execution_count": null,
   "metadata": {},
   "outputs": [],
   "source": [
    "use_df = df.merge(df_shp, left_on = 'Geo_ID', right_on = 'area_num_1', how = 'inner')"
   ]
  },
  {
   "cell_type": "code",
   "execution_count": null,
   "metadata": {},
   "outputs": [],
   "source": [
    "use_df.head(3)"
   ]
  },
  {
   "cell_type": "code",
   "execution_count": null,
   "metadata": {},
   "outputs": [],
   "source": [
    "use_df.plot();"
   ]
  },
  {
   "cell_type": "code",
   "execution_count": null,
   "metadata": {},
   "outputs": [],
   "source": [
    "use_gdf = geopandas.GeoDataFrame(use_df)"
   ]
  },
  {
   "cell_type": "code",
   "execution_count": null,
   "metadata": {},
   "outputs": [],
   "source": [
    "use_gdf.plot();"
   ]
  },
  {
   "cell_type": "code",
   "execution_count": null,
   "metadata": {},
   "outputs": [],
   "source": [
    "use_gdf.plot(column = 'Percent');"
   ]
  },
  {
   "cell_type": "code",
   "execution_count": null,
   "metadata": {},
   "outputs": [],
   "source": [
    "fig, ax = plt.subplots(figsize=(8,8))\n",
    "\n",
    "divider = make_axes_locatable(ax)\n",
    "cax = divider.append_axes(\"right\", size=\"5%\", pad=0.1)\n",
    "\n",
    "ax = use_gdf.plot(ax=ax, column='Percent', legend=True, cax=cax)\n",
    "\n",
    "ax.axis('off')\n",
    "ax.set_title('Percent of Community Area Residents with a College Degree');"
   ]
  },
  {
   "cell_type": "code",
   "execution_count": null,
   "metadata": {},
   "outputs": [],
   "source": [
    "fig, ax = plt.subplots(figsize=(8,8))\n",
    "\n",
    "divider = make_axes_locatable(ax)\n",
    "cax = divider.append_axes(\"right\", size=\"5%\", pad=0.1)\n",
    "\n",
    "ax = use_gdf.plot(ax=ax, column='Percent', cmap = 'YlGn', edgecolor='grey',\n",
    "                  legend=True, cax=cax)\n",
    "\n",
    "ax.axis('off')\n",
    "ax.set_title('Percent of Community Area Residents with a College Degree');\n",
    "\n",
    "# Cite: https://geopandas.org/mapping.html\n",
    "# Cite: https://matplotlib.org/tutorials/colors/colormaps.html"
   ]
  },
  {
   "cell_type": "code",
   "execution_count": null,
   "metadata": {},
   "outputs": [],
   "source": [
    "uni_df = pd.DataFrame(\n",
    "        {'University': ['University of Chicago', 'Loyola University', 'University of Illinois -Chicago'],\n",
    "         'Longitude': [-87.599724, -87.6578, -87.6496],\n",
    "         'Latitude': [41.789722, 41.9999, 41.8696]})"
   ]
  },
  {
   "cell_type": "code",
   "execution_count": null,
   "metadata": {},
   "outputs": [],
   "source": [
    "uni_gdf = geopandas.GeoDataFrame(uni_df, \n",
    "                                 geometry=geopandas.points_from_xy(uni_df['Longitude'], uni_df['Latitude'])) "
   ]
  },
  {
   "cell_type": "code",
   "execution_count": null,
   "metadata": {},
   "outputs": [],
   "source": [
    "uni_gdf.plot()"
   ]
  },
  {
   "cell_type": "code",
   "execution_count": null,
   "metadata": {},
   "outputs": [],
   "source": [
    "print(uni_gdf.crs)"
   ]
  },
  {
   "cell_type": "code",
   "execution_count": null,
   "metadata": {},
   "outputs": [],
   "source": [
    "df_shp.crs"
   ]
  },
  {
   "cell_type": "code",
   "execution_count": null,
   "metadata": {},
   "outputs": [],
   "source": [
    "uni_gdf = geopandas.GeoDataFrame(uni_df, \n",
    "                                 geometry=geopandas.points_from_xy(uni_df['Longitude'], uni_df['Latitude']), \n",
    "                                 crs = 'epsg:4326')\n",
    "# Cite: https://geopandas.org/projections.html"
   ]
  },
  {
   "cell_type": "code",
   "execution_count": null,
   "metadata": {},
   "outputs": [],
   "source": [
    "fig, ax = plt.subplots(figsize=(8,8))\n",
    "\n",
    "divider = make_axes_locatable(ax)\n",
    "cax = divider.append_axes(\"right\", size=\"5%\", pad=0.1)\n",
    "\n",
    "ax = use_gdf.plot(ax=ax, column='Percent', cmap = 'YlGn', edgecolor='grey',\n",
    "                  legend=True, cax=cax)\n",
    "\n",
    "\n",
    "uni_gdf.plot(ax=ax, color='midnightblue')\n",
    "\n",
    "\n",
    "ax.axis('off')\n",
    "ax.set_title('Percent of Community Area Residents with a College Degree')\n",
    "\n",
    "# Cite: https://geopandas.org/mapping.html\n",
    "# Cite: https://matplotlib.org/tutorials/colors/colormaps.html\n",
    "# Cite: https://matplotlib.org/3.1.0/gallery/color/named_colors.html"
   ]
  },
  {
   "cell_type": "code",
   "execution_count": null,
   "metadata": {},
   "outputs": [],
   "source": [
    "fig, ax = plt.subplots(figsize=(8,8))\n",
    "\n",
    "\n",
    "ax = uni_gdf.plot(ax=ax, color='midnightblue')\n",
    "\n",
    "\n",
    "x = 'Longitude'\n",
    "y = 'Latitude'\n",
    "\n",
    "for i, txt in enumerate(uni_gdf['University']):\n",
    "    #print(i, txt)\n",
    "    #print(uni_gdf[x][i], uni_gdf[y][i])\n",
    "    ax.annotate(txt, (uni_gdf[x][i], uni_gdf[y][i]))\n",
    "\n",
    "# Cite: https://stackoverflow.com/questions/14432557/matplotlib-scatter-plot-with-different-text-at-each-data-point"
   ]
  },
  {
   "cell_type": "code",
   "execution_count": null,
   "metadata": {},
   "outputs": [],
   "source": [
    "fig, ax = plt.subplots(figsize=(8,8))\n",
    "\n",
    "divider = make_axes_locatable(ax)\n",
    "cax = divider.append_axes(\"right\", size=\"5%\", pad=0.5)\n",
    "\n",
    "ax = use_gdf.plot(ax=ax, column='Percent', cmap = 'YlGn', edgecolor='grey',\n",
    "                  legend=True, cax=cax)\n",
    "\n",
    "\n",
    "ax = uni_gdf.plot(ax=ax, color='midnightblue')\n",
    "\n",
    "\n",
    "for i, txt in enumerate(uni_gdf['University']):\n",
    "    #print(i, txt)\n",
    "    #print(uni_gdf[x][i], uni_gdf[y][i])\n",
    "    ax.annotate(txt, (uni_gdf['Longitude'][i], uni_gdf['Latitude'][i]))\n",
    "\n",
    "\n",
    "ax.axis('off')\n",
    "ax.set_title('Percent of Community Area Residents with a College Degree')\n",
    "\n",
    "# Cite: https://geopandas.org/mapping.html\n",
    "# Cite: https://matplotlib.org/tutorials/colors/colormaps.html\n",
    "# Cite: https://matplotlib.org/3.1.0/gallery/color/named_colors.html\n",
    "# Cite: https://stackoverflow.com/questions/14432557/matplotlib-scatter-plot-with-different-text-at-each-data-point"
   ]
  },
  {
   "cell_type": "markdown",
   "metadata": {},
   "source": [
    "### Let's make it a function"
   ]
  },
  {
   "cell_type": "code",
   "execution_count": null,
   "metadata": {},
   "outputs": [],
   "source": [
    "def choropleth_and_point(gdf, pt_gdf, choro_color, pt_color, boundry_color, title = ''):\n",
    "    '''\n",
    "    Input is \n",
    "    gdf with boundry polygons (community areas) and data for polygon color \n",
    "    pt_gdf with point coordinates and names to be annotated\n",
    "    choro_color: matplotlib colorpallet for the choropleth\n",
    "    pt_color: matplotlib single color for the points\n",
    "    boundry_color: matplotlib single color for the polygon boundries (community areas)\n",
    "    '''\n",
    "    fig, ax = plt.subplots(figsize=(8,8))\n",
    "\n",
    "    divider = make_axes_locatable(ax)\n",
    "    cax = divider.append_axes(\"right\", size=\"5%\", pad=0.5)\n",
    "\n",
    "    ax = gdf.plot(ax=ax, column='Percent', cmap = choro_color, \n",
    "                  edgecolor= boundry_color, legend=True, cax=cax)\n",
    "\n",
    "\n",
    "    ax = pt_gdf.plot(ax=ax, color=pt_color)\n",
    "\n",
    "\n",
    "    for i, txt in enumerate(pt_gdf['University']):\n",
    "        ax.annotate(txt, (pt_gdf['Longitude'][i], pt_gdf['Latitude'][i]))\n",
    "\n",
    "\n",
    "    ax.axis('off')\n",
    "    ax.set_title(title)\n",
    "\n",
    "    # Cite: https://geopandas.org/mapping.html\n",
    "    # Cite: https://matplotlib.org/tutorials/colors/colormaps.html\n",
    "    # Cite: https://matplotlib.org/3.1.0/gallery/color/named_colors.html\n",
    "    # Cite: https://stackoverflow.com/questions/14432557/matplotlib-scatter-plot-with-different-text-at-each-data-point\n",
    "\n"
   ]
  },
  {
   "cell_type": "code",
   "execution_count": null,
   "metadata": {},
   "outputs": [],
   "source": [
    "choropleth_and_point(use_gdf, uni_gdf, 'YlGn', 'midnightblue', 'grey', 'Percent of Community Area Residents with a College Degree')"
   ]
  },
  {
   "cell_type": "code",
   "execution_count": null,
   "metadata": {},
   "outputs": [],
   "source": [
    "choropleth_and_point(use_gdf, uni_gdf, 'inferno', 'black', 'maroon')"
   ]
  },
  {
   "cell_type": "code",
   "execution_count": null,
   "metadata": {},
   "outputs": [],
   "source": [
    "choropleth_and_point(use_gdf, uni_gdf, 'inferno_r', 'whitesmoke', 'maroon')\n",
    "# Cite: https://stackoverflow.com/questions/3279560/reverse-colormap-in-matplotlib "
   ]
  },
  {
   "cell_type": "markdown",
   "metadata": {},
   "source": [
    "### Let's look at a new dataset"
   ]
  },
  {
   "cell_type": "code",
   "execution_count": null,
   "metadata": {},
   "outputs": [],
   "source": [
    "filename = 'Household_poverty.xlsx'\n",
    "df = read_data(path, filename)\n",
    "df = parse_chi_health_atlas_df(df, year)\n",
    "use_df = df.merge(df_shp, left_on = 'Geo_ID', right_on = 'area_num_1', how = 'inner')\n",
    "use_gdf = geopandas.GeoDataFrame(use_df)\n",
    "choropleth_and_point(use_gdf, uni_gdf, 'YlGn', 'midnightblue', 'grey')"
   ]
  },
  {
   "cell_type": "code",
   "execution_count": null,
   "metadata": {},
   "outputs": [],
   "source": [
    "filenames = [('College_Graduation_or_More.xlsx','YlGn', 'Percent of Community Area Residents with a College Degree'), \n",
    "             ('Household_poverty.xlsx', 'PuBu', 'Percent of Households in Poverty')]"
   ]
  },
  {
   "cell_type": "code",
   "execution_count": null,
   "metadata": {},
   "outputs": [],
   "source": [
    "def do_the_thing(path, filename, color, title):\n",
    "    df = read_data(path, filename)\n",
    "    df = parse_chi_health_atlas_df(df, year)\n",
    "    use_df = df.merge(df_shp, left_on = 'Geo_ID', right_on = 'area_num_1', how = 'inner')\n",
    "    use_gdf = geopandas.GeoDataFrame(use_df)\n",
    "    choropleth_and_point(use_gdf, uni_gdf, color, 'midnightblue', 'grey', title)\n",
    "\n",
    "for filename, color, title in filenames:\n",
    "    do_the_thing(path, filename, color, title)"
   ]
  },
  {
   "cell_type": "markdown",
   "metadata": {},
   "source": [
    "### More to do:\n",
    "* Write a function for parseing the shapefile (or put this step in another function\n",
    "* Clean up my full script, removing intermediary output and bundling into functions where stil needed\n",
    "* Maybe find a dataframe with all of the universities in Chicago and plot them all\n",
    "* Change my title to be more descriptive\n",
    "* Give my choropleth ledged a title\n",
    "* Maybe clean up my annotation (e.g. better spacing)\n",
    "* etc"
   ]
  }
 ],
 "metadata": {
  "kernelspec": {
   "display_name": "Python 3",
   "language": "python",
   "name": "python3"
  },
  "language_info": {
   "codemirror_mode": {
    "name": "ipython",
    "version": 3
   },
   "file_extension": ".py",
   "mimetype": "text/x-python",
   "name": "python",
   "nbconvert_exporter": "python",
   "pygments_lexer": "ipython3",
   "version": "3.7.1"
  }
 },
 "nbformat": 4,
 "nbformat_minor": 4
}
