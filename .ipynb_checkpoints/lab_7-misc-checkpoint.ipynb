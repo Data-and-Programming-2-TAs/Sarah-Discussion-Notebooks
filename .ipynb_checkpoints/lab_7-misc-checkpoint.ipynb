{
 "cells": [
  {
   "cell_type": "markdown",
   "metadata": {},
   "source": [
    "## Namespace and Regex\n",
    "\n",
    "For more basic python reminders, check out my lab notebooks from \n",
    "Data and Programming I:\n",
    "https://github.com/Data-and-Programming-2-TAs/Data_and_Programming_1_Lab_Notebooks"
   ]
  },
  {
   "cell_type": "markdown",
   "metadata": {},
   "source": [
    "#### But first, a few comments on HWs\n",
    "* HW code should go well beyond the code you see in class\n",
    "* Functions, functions, functions\n",
    "* Reduction of repetition\n",
    "* Have your user in mind\n",
    "* Run your code"
   ]
  },
  {
   "cell_type": "code",
   "execution_count": 1,
   "metadata": {},
   "outputs": [],
   "source": [
    "import re #reg ex package for py\n",
    "# Import at the top rather than when I need it\n",
    "# it is in my global namespace, so it belongs at the top (where feasable)\n"
   ]
  },
  {
   "cell_type": "markdown",
   "metadata": {},
   "source": [
    "## Global and Local Namespace\n",
    "for more on this topic: \n",
    "https://realpython.com/python-namespaces-scope/"
   ]
  },
  {
   "cell_type": "code",
   "execution_count": 2,
   "metadata": {},
   "outputs": [
    {
     "data": {
      "text/plain": [
       "8"
      ]
     },
     "execution_count": 2,
     "metadata": {},
     "output_type": "execute_result"
    }
   ],
   "source": [
    "my_var = 4\n",
    "my_soln = my_var * 2\n",
    "my_soln"
   ]
  },
  {
   "cell_type": "code",
   "execution_count": 3,
   "metadata": {},
   "outputs": [
    {
     "data": {
      "text/plain": [
       "10"
      ]
     },
     "execution_count": 3,
     "metadata": {},
     "output_type": "execute_result"
    }
   ],
   "source": [
    "my_var = 5\n",
    "my_soln = my_var * 2\n",
    "my_soln"
   ]
  },
  {
   "cell_type": "code",
   "execution_count": 4,
   "metadata": {},
   "outputs": [
    {
     "data": {
      "text/plain": [
       "'tenten'"
      ]
     },
     "execution_count": 4,
     "metadata": {},
     "output_type": "execute_result"
    }
   ],
   "source": [
    "my_var = 5\n",
    "\n",
    "# Other code\n",
    "\n",
    "my_var = 'ten'\n",
    "\n",
    "# Other code\n",
    "\n",
    "my_soln = my_var * 2 \n",
    "my_soln"
   ]
  },
  {
   "cell_type": "code",
   "execution_count": 5,
   "metadata": {},
   "outputs": [
    {
     "data": {
      "text/plain": [
       "8"
      ]
     },
     "execution_count": 5,
     "metadata": {},
     "output_type": "execute_result"
    }
   ],
   "source": [
    "def double(my_var):\n",
    "    return my_var * 2\n",
    "\n",
    "my_soln = double(4)\n",
    "my_soln"
   ]
  },
  {
   "cell_type": "code",
   "execution_count": 6,
   "metadata": {},
   "outputs": [
    {
     "data": {
      "text/plain": [
       "8"
      ]
     },
     "execution_count": 6,
     "metadata": {},
     "output_type": "execute_result"
    }
   ],
   "source": [
    "# at the top of my code\n",
    "input_var = 4\n",
    "\n",
    "# ...\n",
    "my_soln = double(input_var)\n",
    "my_soln"
   ]
  },
  {
   "cell_type": "code",
   "execution_count": 7,
   "metadata": {},
   "outputs": [
    {
     "data": {
      "text/plain": [
       "1"
      ]
     },
     "execution_count": 7,
     "metadata": {},
     "output_type": "execute_result"
    }
   ],
   "source": [
    "def do_that_math(x, y):\n",
    "    z = x * y\n",
    "    q = z - x\n",
    "    return q\n",
    "\n",
    "do_that_math(1,2)"
   ]
  },
  {
   "cell_type": "code",
   "execution_count": 8,
   "metadata": {},
   "outputs": [
    {
     "ename": "NameError",
     "evalue": "name 'z' is not defined",
     "output_type": "error",
     "traceback": [
      "\u001b[0;31m---------------------------------------------------------------------------\u001b[0m",
      "\u001b[0;31mNameError\u001b[0m                                 Traceback (most recent call last)",
      "\u001b[0;32m<ipython-input-8-c01ac3f50fdc>\u001b[0m in \u001b[0;36m<module>\u001b[0;34m\u001b[0m\n\u001b[0;32m----> 1\u001b[0;31m \u001b[0mprint\u001b[0m\u001b[0;34m(\u001b[0m\u001b[0mz\u001b[0m\u001b[0;34m)\u001b[0m\u001b[0;34m\u001b[0m\u001b[0;34m\u001b[0m\u001b[0m\n\u001b[0m",
      "\u001b[0;31mNameError\u001b[0m: name 'z' is not defined"
     ]
    }
   ],
   "source": [
    "print(z)"
   ]
  },
  {
   "cell_type": "code",
   "execution_count": 9,
   "metadata": {},
   "outputs": [
    {
     "data": {
      "text/plain": [
       "1"
      ]
     },
     "execution_count": 9,
     "metadata": {},
     "output_type": "execute_result"
    }
   ],
   "source": [
    "z = 4\n",
    "do_that_math(1,2)"
   ]
  },
  {
   "cell_type": "markdown",
   "metadata": {},
   "source": [
    "## Regular Expressions\n",
    "Robust pattern matching on text    \n",
    "To fiddle with your matching: \n",
    "https://regex101.com     \n",
    "Regex cheat sheet (one of many):https://cheatography.com/davechild/cheat-sheets/regular-expressions/  "
   ]
  },
  {
   "cell_type": "code",
   "execution_count": 16,
   "metadata": {},
   "outputs": [
    {
     "data": {
      "text/plain": [
       "<re.Match object; span=(0, 22), match='Hello my name is Jeff!'>"
      ]
     },
     "execution_count": 16,
     "metadata": {},
     "output_type": "execute_result"
    }
   ],
   "source": [
    "text = 'Hello my name is Jeff!' # create the text\n",
    "\n",
    "pattern = r'^Hello my name is ([A-Z][a-z]+)[.!?]$' # the pattern\n",
    "\n",
    "match = re.match(pattern, text) # call\n",
    "match"
   ]
  },
  {
   "cell_type": "markdown",
   "metadata": {},
   "source": [
    "^ this means this is the start of the line\n",
    "only match if starts with Hello\n",
    "\n",
    "([A-Z][a-z]+) -this part is the name, () isolates it\n",
    "says group the stuff in here\n",
    "[A-Z] -match any char that falls between A-Z upper case (eg J)\n",
    "[a-z]+ -match any char that falls between a-z lower case (eg eff)\n",
    "grabs as many lower case letters as it can \n",
    "\n",
    "[.!?] -mathc one of these three char (so mathc if . ! or ?)\n",
    "\n",
    "$ -must be end of the line"
   ]
  },
  {
   "cell_type": "code",
   "execution_count": 17,
   "metadata": {},
   "outputs": [
    {
     "data": {
      "text/plain": [
       "'Hello my name is Jeff!'"
      ]
     },
     "execution_count": 17,
     "metadata": {},
     "output_type": "execute_result"
    }
   ],
   "source": [
    "match.group(0)"
   ]
  },
  {
   "cell_type": "code",
   "execution_count": 18,
   "metadata": {},
   "outputs": [
    {
     "data": {
      "text/plain": [
       "<re.Match object; span=(0, 21), match='Hello my name is Kim!'>"
      ]
     },
     "execution_count": 18,
     "metadata": {},
     "output_type": "execute_result"
    }
   ],
   "source": [
    "text = 'Hello my name is Kim!'\n",
    "match = re.match(pattern, text) # call\n",
    "match"
   ]
  },
  {
   "cell_type": "code",
   "execution_count": 19,
   "metadata": {},
   "outputs": [
    {
     "data": {
      "text/plain": [
       "'Kim'"
      ]
     },
     "execution_count": 19,
     "metadata": {},
     "output_type": "execute_result"
    }
   ],
   "source": [
    "match.group(1)"
   ]
  },
  {
   "cell_type": "code",
   "execution_count": 20,
   "metadata": {},
   "outputs": [],
   "source": [
    "def name_finder(my_text):\n",
    "    name_pattern = r'^Hello my name is ([A-Z][a-z]+)[.!?]$' \n",
    "    match = re.match(name_pattern, my_text)\n",
    "    return match.group(1)"
   ]
  },
  {
   "cell_type": "code",
   "execution_count": 21,
   "metadata": {},
   "outputs": [
    {
     "data": {
      "text/plain": [
       "'Jeff'"
      ]
     },
     "execution_count": 21,
     "metadata": {},
     "output_type": "execute_result"
    }
   ],
   "source": [
    "# Just a reminder of the text, I would not re-define it in finished code!\n",
    "text = 'Hello my name is Jeff!' \n",
    "\n",
    "match = name_finder(text)\n",
    "match"
   ]
  },
  {
   "cell_type": "code",
   "execution_count": 22,
   "metadata": {},
   "outputs": [
    {
     "data": {
      "text/plain": [
       "['Jeff', 'Maya', 'Xi']"
      ]
     },
     "execution_count": 22,
     "metadata": {},
     "output_type": "execute_result"
    }
   ],
   "source": [
    "texts = ['Hello my name is Jeff!', \n",
    "         'Hello my name is Maya.',\n",
    "         'Hello my name is Xi.']\n",
    "\n",
    "names = []\n",
    "for text in texts:\n",
    "    names.append(name_finder(text))\n",
    "    \n",
    "names"
   ]
  },
  {
   "cell_type": "code",
   "execution_count": 23,
   "metadata": {},
   "outputs": [
    {
     "data": {
      "text/plain": [
       "['805', '314', '968', 'NA']"
      ]
     },
     "execution_count": 23,
     "metadata": {},
     "output_type": "execute_result"
    }
   ],
   "source": [
    "def area_code_finder(text):\n",
    "    return re.search(r'\\((.*?)\\)',text).group(1) \n",
    "    #cite: https://stackoverflow.com/questions/4894069/regular-expression-to-return-text-between-parenthesis\n",
    "\n",
    "# this will catch anything between ()\n",
    "\n",
    "phone_numbers =['(805)555-555',\n",
    "               '(314)545-555',\n",
    "               '+1 (968)555-432',\n",
    "               '(NA)555-555']\n",
    "\n",
    "area_codes = []\n",
    "for text in phone_numbers:\n",
    "    area_codes.append(area_code_finder(text))\n",
    "    \n",
    "area_codes"
   ]
  },
  {
   "cell_type": "code",
   "execution_count": 24,
   "metadata": {},
   "outputs": [
    {
     "ename": "AttributeError",
     "evalue": "'NoneType' object has no attribute 'group'",
     "output_type": "error",
     "traceback": [
      "\u001b[0;31m---------------------------------------------------------------------------\u001b[0m",
      "\u001b[0;31mAttributeError\u001b[0m                            Traceback (most recent call last)",
      "\u001b[0;32m<ipython-input-24-a1f92ed0b973>\u001b[0m in \u001b[0;36m<module>\u001b[0;34m\u001b[0m\n\u001b[1;32m     13\u001b[0m \u001b[0marea_codes\u001b[0m \u001b[0;34m=\u001b[0m \u001b[0;34m[\u001b[0m\u001b[0;34m]\u001b[0m\u001b[0;34m\u001b[0m\u001b[0;34m\u001b[0m\u001b[0m\n\u001b[1;32m     14\u001b[0m \u001b[0;32mfor\u001b[0m \u001b[0mtext\u001b[0m \u001b[0;32min\u001b[0m \u001b[0mphone_numbers\u001b[0m\u001b[0;34m:\u001b[0m\u001b[0;34m\u001b[0m\u001b[0;34m\u001b[0m\u001b[0m\n\u001b[0;32m---> 15\u001b[0;31m     \u001b[0marea_codes\u001b[0m\u001b[0;34m.\u001b[0m\u001b[0mappend\u001b[0m\u001b[0;34m(\u001b[0m\u001b[0marea_code_finder\u001b[0m\u001b[0;34m(\u001b[0m\u001b[0mtext\u001b[0m\u001b[0;34m)\u001b[0m\u001b[0;34m)\u001b[0m\u001b[0;34m\u001b[0m\u001b[0;34m\u001b[0m\u001b[0m\n\u001b[0m\u001b[1;32m     16\u001b[0m \u001b[0;34m\u001b[0m\u001b[0m\n\u001b[1;32m     17\u001b[0m \u001b[0;34m\u001b[0m\u001b[0m\n",
      "\u001b[0;32m<ipython-input-24-a1f92ed0b973>\u001b[0m in \u001b[0;36marea_code_finder\u001b[0;34m(text)\u001b[0m\n\u001b[1;32m      1\u001b[0m \u001b[0;32mdef\u001b[0m \u001b[0marea_code_finder\u001b[0m\u001b[0;34m(\u001b[0m\u001b[0mtext\u001b[0m\u001b[0;34m)\u001b[0m\u001b[0;34m:\u001b[0m\u001b[0;34m\u001b[0m\u001b[0;34m\u001b[0m\u001b[0m\n\u001b[0;32m----> 2\u001b[0;31m     \u001b[0;32mreturn\u001b[0m \u001b[0mre\u001b[0m\u001b[0;34m.\u001b[0m\u001b[0msearch\u001b[0m\u001b[0;34m(\u001b[0m\u001b[0;34mr'\\(([0-9][0-9][0-9])\\)'\u001b[0m\u001b[0;34m,\u001b[0m\u001b[0mtext\u001b[0m\u001b[0;34m)\u001b[0m\u001b[0;34m.\u001b[0m\u001b[0mgroup\u001b[0m\u001b[0;34m(\u001b[0m\u001b[0;36m1\u001b[0m\u001b[0;34m)\u001b[0m\u001b[0;34m\u001b[0m\u001b[0;34m\u001b[0m\u001b[0m\n\u001b[0m\u001b[1;32m      3\u001b[0m     \u001b[0;31m#cite: https://stackoverflow.com/questions/4894069/regular-expression-to-return-text-between-parenthesis\u001b[0m\u001b[0;34m\u001b[0m\u001b[0;34m\u001b[0m\u001b[0;34m\u001b[0m\u001b[0m\n\u001b[1;32m      4\u001b[0m \u001b[0;34m\u001b[0m\u001b[0m\n\u001b[1;32m      5\u001b[0m \u001b[0;31m# this is more specific, but now throws an error if I run it on\u001b[0m\u001b[0;34m\u001b[0m\u001b[0;34m\u001b[0m\u001b[0;34m\u001b[0m\u001b[0m\n",
      "\u001b[0;31mAttributeError\u001b[0m: 'NoneType' object has no attribute 'group'"
     ]
    }
   ],
   "source": [
    "def area_code_finder(text):\n",
    "    return re.search(r'\\(([0-9][0-9][0-9])\\)',text).group(1) \n",
    "    #cite: https://stackoverflow.com/questions/4894069/regular-expression-to-return-text-between-parenthesis\n",
    "\n",
    "# this is more specific, but now throws an error if I run it on \n",
    "# invalid code\n",
    "\n",
    "phone_numbers =['(805)555-555',\n",
    "               '(314)545-555',\n",
    "               '+1 (968)555-432',\n",
    "                '(NA)555-555']\n",
    "\n",
    "area_codes = []\n",
    "for text in phone_numbers:\n",
    "    area_codes.append(area_code_finder(text))\n",
    "\n",
    "    \n",
    "area_codes"
   ]
  },
  {
   "cell_type": "code",
   "execution_count": 25,
   "metadata": {},
   "outputs": [
    {
     "data": {
      "text/plain": [
       "['805', '314', '968']"
      ]
     },
     "execution_count": 25,
     "metadata": {},
     "output_type": "execute_result"
    }
   ],
   "source": [
    "area_codes = []\n",
    "for text in phone_numbers:\n",
    "    try:\n",
    "        area_codes.append(area_code_finder(text))\n",
    "    except AttributeError:\n",
    "        pass\n",
    "    # cite https://www.w3schools.com/python/python_try_except.asp\n",
    "    \n",
    "area_codes"
   ]
  },
  {
   "cell_type": "code",
   "execution_count": null,
   "metadata": {},
   "outputs": [],
   "source": [
    "# code from Prof Levy fed_nlp_example.py\n",
    "\n",
    "urls = ['https://www.federalreserve.gov/newsevents/pressreleases/monetary20081216b.htm',\n",
    "        'https://www.federalreserve.gov/newsevents/pressreleases/monetary20190918a.htm']\n",
    "\n",
    "def parse_fname(url):\n",
    "    fname = url.split('/')[-1] #takes the end of the url\n",
    "\n",
    "    pattern = r'monetary(\\d{4})(\\d{2})(\\d{2})([ab]?)\\.htm' \n",
    "    match = re.match(pattern, fname)\n",
    "\n",
    "    year  = match.group(1) #pull out each group\n",
    "    month = match.group(2)\n",
    "    day   = match.group(3)\n",
    "\n",
    "    assert(len(year) == 4 and len(month) == 2 and len(day) == 2), 'Unable to parse date from url: {}'.format(url)\n",
    "    #makes sure the len of year is 4 and the len of month and day are ea 2\n",
    "    return '-'.join([year, month, day]) + '.txt' #set file name you want\n",
    "\n",
    "parse_fname(urls[0])    "
   ]
  },
  {
   "cell_type": "code",
   "execution_count": null,
   "metadata": {},
   "outputs": [],
   "source": [
    "# A little better\n",
    "base_url ='https://www.federalreserve.gov/newsevents/pressreleases/monetary{}.htm'\n",
    "data_to_use = ['20081216b', '20190918a']\n",
    "\n",
    "def url_builder(base_url, add_on):\n",
    "    return base_url.format(add_on)\n",
    " \n",
    "                \n",
    "def main():\n",
    "    urls = []\n",
    "    for item in data_to_use:\n",
    "        urls.append(url_builder(base_url, item))\n",
    "    \n",
    "    #call download function using urls and parse_fname\n",
    "    #call read in function, adding the dfs into a list of df contents (to avoid nameing the df)\n",
    "    \n",
    "    #call the other functions\n",
    "    "
   ]
  },
  {
   "cell_type": "code",
   "execution_count": null,
   "metadata": {},
   "outputs": [],
   "source": []
  }
 ],
 "metadata": {
  "kernelspec": {
   "display_name": "Python 3",
   "language": "python",
   "name": "python3"
  },
  "language_info": {
   "codemirror_mode": {
    "name": "ipython",
    "version": 3
   },
   "file_extension": ".py",
   "mimetype": "text/x-python",
   "name": "python",
   "nbconvert_exporter": "python",
   "pygments_lexer": "ipython3",
   "version": "3.7.1"
  }
 },
 "nbformat": 4,
 "nbformat_minor": 4
}
