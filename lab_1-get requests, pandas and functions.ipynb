{
 "cells": [
  {
   "cell_type": "markdown",
   "metadata": {},
   "source": [
    "# Python Review\n",
    "   \n",
    "* Get Requests   \n",
    "* Pandas\n",
    "* Functions"
   ]
  },
  {
   "cell_type": "markdown",
   "metadata": {},
   "source": [
    "## Optional Activity\n",
    "#### If you were in Data and Programming 1 -Python sections:    \n",
    "   Take a look at some of your homeworks from Fall quarter   \n",
    "* Can you understand your own code?   \n",
    "* Refresh your memory\n",
    "-you can totally steal code from yourself for future HW\n",
    "\n",
    "#### If you were in Data and Programming 1 -R section:\n",
    "You've still got this!\n",
    "Review materials that prof Levy has recommended \n",
    "\n",
    "#### Either way:   \n",
    "Feel free to check out my Lab notebooks from Fall quarter\n",
    "https://github.com/Data-and-Programming-2-TAs/Data_and_Programming_1_Lab_Notebooks \n"
   ]
  },
  {
   "cell_type": "code",
   "execution_count": 1,
   "metadata": {},
   "outputs": [],
   "source": [
    "import os\n",
    "import requests\n",
    "import pandas as pd"
   ]
  },
  {
   "cell_type": "code",
   "execution_count": 7,
   "metadata": {},
   "outputs": [
    {
     "data": {
      "text/plain": [
       "'/Users/Sarah/Documents/GitHub/Sarah-Discussion-Notebooks'"
      ]
     },
     "execution_count": 7,
     "metadata": {},
     "output_type": "execute_result"
    }
   ],
   "source": [
    "#path = os.path.join(os.getcwd(), 'Documents', 'GitHub', 'Sarah-Discussion-Notebooks')\n",
    "path = os.getcwd()\n",
    "path"
   ]
  },
  {
   "cell_type": "code",
   "execution_count": 6,
   "metadata": {},
   "outputs": [],
   "source": [
    "os.chdir(path)  # set working directory \n",
    "# this step may not be needed, depending on how you are running your code"
   ]
  },
  {
   "cell_type": "code",
   "execution_count": 8,
   "metadata": {},
   "outputs": [
    {
     "data": {
      "text/plain": [
       "'/Users/Sarah/Documents/GitHub/Sarah-Discussion-Notebooks'"
      ]
     },
     "execution_count": 8,
     "metadata": {},
     "output_type": "execute_result"
    }
   ],
   "source": [
    "os.getcwd()"
   ]
  },
  {
   "cell_type": "markdown",
   "metadata": {},
   "source": [
    "Let's look at Chicago population Data\n",
    "Chicago Health Atlaas:\n",
    "https://www.chicagohealthatlas.org/indicators/total-population "
   ]
  },
  {
   "cell_type": "code",
   "execution_count": 9,
   "metadata": {},
   "outputs": [],
   "source": [
    "url = 'https://citytech-health-atlas-data-prod.s3.amazonaws.com/uploads/uploader/path/557/Total_population.xlsx'\n",
    "filename = 'Chi_pop.xls'"
   ]
  },
  {
   "cell_type": "code",
   "execution_count": 10,
   "metadata": {},
   "outputs": [],
   "source": [
    "response = requests.get(url)\n",
    "output = response.content\n",
    "with open(filename, 'wb') as ofile:\n",
    "    ofile.write(output)"
   ]
  },
  {
   "cell_type": "code",
   "execution_count": 11,
   "metadata": {},
   "outputs": [
    {
     "data": {
      "text/html": [
       "<div>\n",
       "<style scoped>\n",
       "    .dataframe tbody tr th:only-of-type {\n",
       "        vertical-align: middle;\n",
       "    }\n",
       "\n",
       "    .dataframe tbody tr th {\n",
       "        vertical-align: top;\n",
       "    }\n",
       "\n",
       "    .dataframe thead th {\n",
       "        text-align: right;\n",
       "    }\n",
       "</style>\n",
       "<table border=\"1\" class=\"dataframe\">\n",
       "  <thead>\n",
       "    <tr style=\"text-align: right;\">\n",
       "      <th></th>\n",
       "      <th>Category</th>\n",
       "      <th>SubCategory</th>\n",
       "      <th>Indicator</th>\n",
       "      <th>Year</th>\n",
       "      <th>Geography</th>\n",
       "      <th>Geo_Group</th>\n",
       "      <th>Geo_ID</th>\n",
       "      <th>Demography</th>\n",
       "      <th>Demo_Group</th>\n",
       "      <th>Number</th>\n",
       "      <th>...</th>\n",
       "      <th>Upper_95CI_Age_Adj_Rate</th>\n",
       "      <th>Percent</th>\n",
       "      <th>Lower_95CI_Percent</th>\n",
       "      <th>Upper_95CI_Percent</th>\n",
       "      <th>Weight_Number</th>\n",
       "      <th>Weight_Percent</th>\n",
       "      <th>Lower_95CI_Weight_Percent</th>\n",
       "      <th>Upper_95CI_Weight_Percent</th>\n",
       "      <th>Map_Key</th>\n",
       "      <th>Flag</th>\n",
       "    </tr>\n",
       "  </thead>\n",
       "  <tbody>\n",
       "    <tr>\n",
       "      <th>0</th>\n",
       "      <td>Demography</td>\n",
       "      <td>Age Group</td>\n",
       "      <td>Total population</td>\n",
       "      <td>2017</td>\n",
       "      <td>City</td>\n",
       "      <td>Chicago</td>\n",
       "      <td>606</td>\n",
       "      <td>Race-ethnicity</td>\n",
       "      <td>All race-ethnicities</td>\n",
       "      <td>2716462</td>\n",
       "      <td>...</td>\n",
       "      <td>NaN</td>\n",
       "      <td>NaN</td>\n",
       "      <td>NaN</td>\n",
       "      <td>NaN</td>\n",
       "      <td>NaN</td>\n",
       "      <td>NaN</td>\n",
       "      <td>NaN</td>\n",
       "      <td>NaN</td>\n",
       "      <td>NaN</td>\n",
       "      <td>G</td>\n",
       "    </tr>\n",
       "    <tr>\n",
       "      <th>1</th>\n",
       "      <td>Demography</td>\n",
       "      <td>Age Group</td>\n",
       "      <td>Total population</td>\n",
       "      <td>2017</td>\n",
       "      <td>City</td>\n",
       "      <td>Chicago</td>\n",
       "      <td>606</td>\n",
       "      <td>Age</td>\n",
       "      <td>0-4</td>\n",
       "      <td>172017</td>\n",
       "      <td>...</td>\n",
       "      <td>NaN</td>\n",
       "      <td>6.3</td>\n",
       "      <td>NaN</td>\n",
       "      <td>NaN</td>\n",
       "      <td>NaN</td>\n",
       "      <td>NaN</td>\n",
       "      <td>NaN</td>\n",
       "      <td>NaN</td>\n",
       "      <td>NaN</td>\n",
       "      <td>G</td>\n",
       "    </tr>\n",
       "    <tr>\n",
       "      <th>2</th>\n",
       "      <td>Demography</td>\n",
       "      <td>Age Group</td>\n",
       "      <td>Total population</td>\n",
       "      <td>2017</td>\n",
       "      <td>City</td>\n",
       "      <td>Chicago</td>\n",
       "      <td>606</td>\n",
       "      <td>Age</td>\n",
       "      <td>5-9</td>\n",
       "      <td>150373</td>\n",
       "      <td>...</td>\n",
       "      <td>NaN</td>\n",
       "      <td>5.5</td>\n",
       "      <td>NaN</td>\n",
       "      <td>NaN</td>\n",
       "      <td>NaN</td>\n",
       "      <td>NaN</td>\n",
       "      <td>NaN</td>\n",
       "      <td>NaN</td>\n",
       "      <td>NaN</td>\n",
       "      <td>G</td>\n",
       "    </tr>\n",
       "    <tr>\n",
       "      <th>3</th>\n",
       "      <td>Demography</td>\n",
       "      <td>Age Group</td>\n",
       "      <td>Total population</td>\n",
       "      <td>2017</td>\n",
       "      <td>City</td>\n",
       "      <td>Chicago</td>\n",
       "      <td>606</td>\n",
       "      <td>Age</td>\n",
       "      <td>10-14</td>\n",
       "      <td>155283</td>\n",
       "      <td>...</td>\n",
       "      <td>NaN</td>\n",
       "      <td>5.7</td>\n",
       "      <td>NaN</td>\n",
       "      <td>NaN</td>\n",
       "      <td>NaN</td>\n",
       "      <td>NaN</td>\n",
       "      <td>NaN</td>\n",
       "      <td>NaN</td>\n",
       "      <td>NaN</td>\n",
       "      <td>G</td>\n",
       "    </tr>\n",
       "    <tr>\n",
       "      <th>4</th>\n",
       "      <td>Demography</td>\n",
       "      <td>Age Group</td>\n",
       "      <td>Total population</td>\n",
       "      <td>2017</td>\n",
       "      <td>City</td>\n",
       "      <td>Chicago</td>\n",
       "      <td>606</td>\n",
       "      <td>Age</td>\n",
       "      <td>15-19</td>\n",
       "      <td>153896</td>\n",
       "      <td>...</td>\n",
       "      <td>NaN</td>\n",
       "      <td>5.7</td>\n",
       "      <td>NaN</td>\n",
       "      <td>NaN</td>\n",
       "      <td>NaN</td>\n",
       "      <td>NaN</td>\n",
       "      <td>NaN</td>\n",
       "      <td>NaN</td>\n",
       "      <td>NaN</td>\n",
       "      <td>G</td>\n",
       "    </tr>\n",
       "  </tbody>\n",
       "</table>\n",
       "<p>5 rows × 27 columns</p>\n",
       "</div>"
      ],
      "text/plain": [
       "     Category SubCategory         Indicator  Year Geography Geo_Group  Geo_ID  \\\n",
       "0  Demography   Age Group  Total population  2017      City   Chicago     606   \n",
       "1  Demography   Age Group  Total population  2017      City   Chicago     606   \n",
       "2  Demography   Age Group  Total population  2017      City   Chicago     606   \n",
       "3  Demography   Age Group  Total population  2017      City   Chicago     606   \n",
       "4  Demography   Age Group  Total population  2017      City   Chicago     606   \n",
       "\n",
       "       Demography            Demo_Group   Number  ...  \\\n",
       "0  Race-ethnicity  All race-ethnicities  2716462  ...   \n",
       "1             Age                   0-4   172017  ...   \n",
       "2             Age                   5-9   150373  ...   \n",
       "3             Age                 10-14   155283  ...   \n",
       "4             Age                15-19    153896  ...   \n",
       "\n",
       "   Upper_95CI_Age_Adj_Rate  Percent  Lower_95CI_Percent  Upper_95CI_Percent  \\\n",
       "0                      NaN      NaN                 NaN                 NaN   \n",
       "1                      NaN      6.3                 NaN                 NaN   \n",
       "2                      NaN      5.5                 NaN                 NaN   \n",
       "3                      NaN      5.7                 NaN                 NaN   \n",
       "4                      NaN      5.7                 NaN                 NaN   \n",
       "\n",
       "   Weight_Number  Weight_Percent  Lower_95CI_Weight_Percent  \\\n",
       "0            NaN             NaN                        NaN   \n",
       "1            NaN             NaN                        NaN   \n",
       "2            NaN             NaN                        NaN   \n",
       "3            NaN             NaN                        NaN   \n",
       "4            NaN             NaN                        NaN   \n",
       "\n",
       "   Upper_95CI_Weight_Percent  Map_Key  Flag  \n",
       "0                        NaN      NaN     G  \n",
       "1                        NaN      NaN     G  \n",
       "2                        NaN      NaN     G  \n",
       "3                        NaN      NaN     G  \n",
       "4                        NaN      NaN     G  \n",
       "\n",
       "[5 rows x 27 columns]"
      ]
     },
     "execution_count": 11,
     "metadata": {},
     "output_type": "execute_result"
    }
   ],
   "source": [
    "df = pd.read_excel(os.path.join(path, filename))\n",
    "df.head()"
   ]
  },
  {
   "cell_type": "code",
   "execution_count": 12,
   "metadata": {},
   "outputs": [
    {
     "data": {
      "text/plain": [
       "(383, 27)"
      ]
     },
     "execution_count": 12,
     "metadata": {},
     "output_type": "execute_result"
    }
   ],
   "source": [
    "df.shape"
   ]
  },
  {
   "cell_type": "code",
   "execution_count": 13,
   "metadata": {},
   "outputs": [
    {
     "data": {
      "text/plain": [
       "0      2716462\n",
       "1       172017\n",
       "2       150373\n",
       "3       155283\n",
       "4       153896\n",
       "        ...   \n",
       "378      27643\n",
       "379      18497\n",
       "380      27313\n",
       "381      20669\n",
       "382      56605\n",
       "Name: Number, Length: 383, dtype: int64"
      ]
     },
     "execution_count": 13,
     "metadata": {},
     "output_type": "execute_result"
    }
   ],
   "source": [
    "df['Number']"
   ]
  },
  {
   "cell_type": "code",
   "execution_count": 14,
   "metadata": {},
   "outputs": [
    {
     "data": {
      "text/plain": [
       "0           2017\n",
       "1           2017\n",
       "2           2017\n",
       "3           2017\n",
       "4           2017\n",
       "         ...    \n",
       "378    2006-2010\n",
       "379    2006-2010\n",
       "380    2006-2010\n",
       "381    2006-2010\n",
       "382    2006-2010\n",
       "Name: Year, Length: 383, dtype: object"
      ]
     },
     "execution_count": 14,
     "metadata": {},
     "output_type": "execute_result"
    }
   ],
   "source": [
    "df['Year']"
   ]
  },
  {
   "cell_type": "code",
   "execution_count": 15,
   "metadata": {},
   "outputs": [
    {
     "data": {
      "text/plain": [
       "Index(['Category', 'SubCategory', 'Indicator', 'Year', 'Geography',\n",
       "       'Geo_Group', 'Geo_ID', 'Demography', 'Demo_Group', 'Number',\n",
       "       'Cum_Number', 'Ave_Annual_Number', 'Crude_Rate',\n",
       "       'Lower_95CI_Crude_Rate', 'Upper_95CI_Crude_Rate', 'Age_Adj_Rate',\n",
       "       'Lower_95CI_Age_Adj_Rate', 'Upper_95CI_Age_Adj_Rate', 'Percent',\n",
       "       'Lower_95CI_Percent', 'Upper_95CI_Percent', 'Weight_Number',\n",
       "       'Weight_Percent', 'Lower_95CI_Weight_Percent',\n",
       "       'Upper_95CI_Weight_Percent', 'Map_Key', 'Flag'],\n",
       "      dtype='object')"
      ]
     },
     "execution_count": 15,
     "metadata": {},
     "output_type": "execute_result"
    }
   ],
   "source": [
    "df.columns"
   ]
  },
  {
   "cell_type": "code",
   "execution_count": 16,
   "metadata": {},
   "outputs": [],
   "source": [
    "# Can drop columns this way\n",
    "small_df = df.drop(columns = ['Category', 'SubCategory', 'Indicator', 'Age_Adj_Rate',\n",
    "                             'Geo_Group', 'Geo_ID', 'Demo_Group', 'Weight_Number',\n",
    "                             'Cum_Number', 'Ave_Annual_Number', 'Crude_Rate',\n",
    "                             'Lower_95CI_Crude_Rate', 'Upper_95CI_Crude_Rate', \n",
    "                             'Lower_95CI_Age_Adj_Rate', 'Upper_95CI_Age_Adj_Rate', \n",
    "                             'Lower_95CI_Percent', 'Upper_95CI_Percent', \n",
    "                             'Weight_Percent', 'Lower_95CI_Weight_Percent',\n",
    "                             'Upper_95CI_Weight_Percent', 'Map_Key', 'Flag'])\n",
    "\n",
    "\n",
    "\n",
    "# or \n",
    "\n",
    "keep_colls = ['Year','Geography', 'Demography', 'Demo_Group', 'Number', 'Percent']\n",
    "\n",
    "small_df = df[keep_colls] \n"
   ]
  },
  {
   "cell_type": "code",
   "execution_count": 17,
   "metadata": {},
   "outputs": [
    {
     "data": {
      "text/html": [
       "<div>\n",
       "<style scoped>\n",
       "    .dataframe tbody tr th:only-of-type {\n",
       "        vertical-align: middle;\n",
       "    }\n",
       "\n",
       "    .dataframe tbody tr th {\n",
       "        vertical-align: top;\n",
       "    }\n",
       "\n",
       "    .dataframe thead th {\n",
       "        text-align: right;\n",
       "    }\n",
       "</style>\n",
       "<table border=\"1\" class=\"dataframe\">\n",
       "  <thead>\n",
       "    <tr style=\"text-align: right;\">\n",
       "      <th></th>\n",
       "      <th>Year</th>\n",
       "      <th>Geography</th>\n",
       "      <th>Demography</th>\n",
       "      <th>Demo_Group</th>\n",
       "      <th>Number</th>\n",
       "      <th>Percent</th>\n",
       "    </tr>\n",
       "  </thead>\n",
       "  <tbody>\n",
       "    <tr>\n",
       "      <th>0</th>\n",
       "      <td>2017</td>\n",
       "      <td>City</td>\n",
       "      <td>Race-ethnicity</td>\n",
       "      <td>All race-ethnicities</td>\n",
       "      <td>2716462</td>\n",
       "      <td>NaN</td>\n",
       "    </tr>\n",
       "    <tr>\n",
       "      <th>1</th>\n",
       "      <td>2017</td>\n",
       "      <td>City</td>\n",
       "      <td>Age</td>\n",
       "      <td>0-4</td>\n",
       "      <td>172017</td>\n",
       "      <td>6.3</td>\n",
       "    </tr>\n",
       "    <tr>\n",
       "      <th>2</th>\n",
       "      <td>2017</td>\n",
       "      <td>City</td>\n",
       "      <td>Age</td>\n",
       "      <td>5-9</td>\n",
       "      <td>150373</td>\n",
       "      <td>5.5</td>\n",
       "    </tr>\n",
       "    <tr>\n",
       "      <th>3</th>\n",
       "      <td>2017</td>\n",
       "      <td>City</td>\n",
       "      <td>Age</td>\n",
       "      <td>10-14</td>\n",
       "      <td>155283</td>\n",
       "      <td>5.7</td>\n",
       "    </tr>\n",
       "    <tr>\n",
       "      <th>4</th>\n",
       "      <td>2017</td>\n",
       "      <td>City</td>\n",
       "      <td>Age</td>\n",
       "      <td>15-19</td>\n",
       "      <td>153896</td>\n",
       "      <td>5.7</td>\n",
       "    </tr>\n",
       "  </tbody>\n",
       "</table>\n",
       "</div>"
      ],
      "text/plain": [
       "   Year Geography      Demography            Demo_Group   Number  Percent\n",
       "0  2017      City  Race-ethnicity  All race-ethnicities  2716462      NaN\n",
       "1  2017      City             Age                   0-4   172017      6.3\n",
       "2  2017      City             Age                   5-9   150373      5.5\n",
       "3  2017      City             Age                 10-14   155283      5.7\n",
       "4  2017      City             Age                15-19    153896      5.7"
      ]
     },
     "execution_count": 17,
     "metadata": {},
     "output_type": "execute_result"
    }
   ],
   "source": [
    "small_df.head()"
   ]
  },
  {
   "cell_type": "code",
   "execution_count": 18,
   "metadata": {},
   "outputs": [
    {
     "data": {
      "text/plain": [
       "Year           object\n",
       "Geography      object\n",
       "Demography     object\n",
       "Demo_Group     object\n",
       "Number          int64\n",
       "Percent       float64\n",
       "dtype: object"
      ]
     },
     "execution_count": 18,
     "metadata": {},
     "output_type": "execute_result"
    }
   ],
   "source": [
    "small_df.dtypes"
   ]
  },
  {
   "cell_type": "code",
   "execution_count": 19,
   "metadata": {},
   "outputs": [
    {
     "data": {
      "text/plain": [
       "Year            0\n",
       "Geography       0\n",
       "Demography    231\n",
       "Demo_Group    231\n",
       "Number          0\n",
       "Percent       239\n",
       "dtype: int64"
      ]
     },
     "execution_count": 19,
     "metadata": {},
     "output_type": "execute_result"
    }
   ],
   "source": [
    "small_df.isna().sum()"
   ]
  },
  {
   "cell_type": "code",
   "execution_count": 20,
   "metadata": {},
   "outputs": [
    {
     "data": {
      "text/html": [
       "<div>\n",
       "<style scoped>\n",
       "    .dataframe tbody tr th:only-of-type {\n",
       "        vertical-align: middle;\n",
       "    }\n",
       "\n",
       "    .dataframe tbody tr th {\n",
       "        vertical-align: top;\n",
       "    }\n",
       "\n",
       "    .dataframe thead th {\n",
       "        text-align: right;\n",
       "    }\n",
       "</style>\n",
       "<table border=\"1\" class=\"dataframe\">\n",
       "  <thead>\n",
       "    <tr style=\"text-align: right;\">\n",
       "      <th></th>\n",
       "      <th>Year</th>\n",
       "      <th>Geography</th>\n",
       "      <th>Demography</th>\n",
       "      <th>Demo_Group</th>\n",
       "      <th>Number</th>\n",
       "      <th>Percent</th>\n",
       "    </tr>\n",
       "  </thead>\n",
       "  <tbody>\n",
       "    <tr>\n",
       "      <th>0</th>\n",
       "      <td>2017</td>\n",
       "      <td>City</td>\n",
       "      <td>Race-ethnicity</td>\n",
       "      <td>All race-ethnicities</td>\n",
       "      <td>2716462</td>\n",
       "      <td>NaN</td>\n",
       "    </tr>\n",
       "    <tr>\n",
       "      <th>1</th>\n",
       "      <td>2017</td>\n",
       "      <td>City</td>\n",
       "      <td>Age</td>\n",
       "      <td>0-4</td>\n",
       "      <td>172017</td>\n",
       "      <td>6.3</td>\n",
       "    </tr>\n",
       "    <tr>\n",
       "      <th>2</th>\n",
       "      <td>2017</td>\n",
       "      <td>City</td>\n",
       "      <td>Age</td>\n",
       "      <td>5-9</td>\n",
       "      <td>150373</td>\n",
       "      <td>5.5</td>\n",
       "    </tr>\n",
       "    <tr>\n",
       "      <th>3</th>\n",
       "      <td>2017</td>\n",
       "      <td>City</td>\n",
       "      <td>Age</td>\n",
       "      <td>10-14</td>\n",
       "      <td>155283</td>\n",
       "      <td>5.7</td>\n",
       "    </tr>\n",
       "    <tr>\n",
       "      <th>4</th>\n",
       "      <td>2017</td>\n",
       "      <td>City</td>\n",
       "      <td>Age</td>\n",
       "      <td>15-19</td>\n",
       "      <td>153896</td>\n",
       "      <td>5.7</td>\n",
       "    </tr>\n",
       "  </tbody>\n",
       "</table>\n",
       "</div>"
      ],
      "text/plain": [
       "   Year Geography      Demography            Demo_Group   Number  Percent\n",
       "0  2017      City  Race-ethnicity  All race-ethnicities  2716462      NaN\n",
       "1  2017      City             Age                   0-4   172017      6.3\n",
       "2  2017      City             Age                   5-9   150373      5.5\n",
       "3  2017      City             Age                 10-14   155283      5.7\n",
       "4  2017      City             Age                15-19    153896      5.7"
      ]
     },
     "execution_count": 20,
     "metadata": {},
     "output_type": "execute_result"
    }
   ],
   "source": [
    "df_2017 = small_df.loc[small_df['Year'] == 2017]\n",
    "df_2017.head()"
   ]
  },
  {
   "cell_type": "code",
   "execution_count": 21,
   "metadata": {},
   "outputs": [
    {
     "data": {
      "text/plain": [
       "Year          0\n",
       "Geography     0\n",
       "Demography    0\n",
       "Demo_Group    0\n",
       "Number        0\n",
       "Percent       1\n",
       "dtype: int64"
      ]
     },
     "execution_count": 21,
     "metadata": {},
     "output_type": "execute_result"
    }
   ],
   "source": [
    "df_2017.isna().sum()"
   ]
  },
  {
   "cell_type": "markdown",
   "metadata": {},
   "source": [
    "## Re-factor Code"
   ]
  },
  {
   "cell_type": "code",
   "execution_count": 22,
   "metadata": {},
   "outputs": [
    {
     "data": {
      "text/html": [
       "<div>\n",
       "<style scoped>\n",
       "    .dataframe tbody tr th:only-of-type {\n",
       "        vertical-align: middle;\n",
       "    }\n",
       "\n",
       "    .dataframe tbody tr th {\n",
       "        vertical-align: top;\n",
       "    }\n",
       "\n",
       "    .dataframe thead th {\n",
       "        text-align: right;\n",
       "    }\n",
       "</style>\n",
       "<table border=\"1\" class=\"dataframe\">\n",
       "  <thead>\n",
       "    <tr style=\"text-align: right;\">\n",
       "      <th></th>\n",
       "      <th>Year</th>\n",
       "      <th>Geography</th>\n",
       "      <th>Demography</th>\n",
       "      <th>Demo_Group</th>\n",
       "      <th>Number</th>\n",
       "      <th>Percent</th>\n",
       "    </tr>\n",
       "  </thead>\n",
       "  <tbody>\n",
       "    <tr>\n",
       "      <th>0</th>\n",
       "      <td>2017</td>\n",
       "      <td>City</td>\n",
       "      <td>Race-ethnicity</td>\n",
       "      <td>All race-ethnicities</td>\n",
       "      <td>2716462</td>\n",
       "      <td>NaN</td>\n",
       "    </tr>\n",
       "    <tr>\n",
       "      <th>1</th>\n",
       "      <td>2017</td>\n",
       "      <td>City</td>\n",
       "      <td>Age</td>\n",
       "      <td>0-4</td>\n",
       "      <td>172017</td>\n",
       "      <td>6.3</td>\n",
       "    </tr>\n",
       "    <tr>\n",
       "      <th>2</th>\n",
       "      <td>2017</td>\n",
       "      <td>City</td>\n",
       "      <td>Age</td>\n",
       "      <td>5-9</td>\n",
       "      <td>150373</td>\n",
       "      <td>5.5</td>\n",
       "    </tr>\n",
       "    <tr>\n",
       "      <th>3</th>\n",
       "      <td>2017</td>\n",
       "      <td>City</td>\n",
       "      <td>Age</td>\n",
       "      <td>10-14</td>\n",
       "      <td>155283</td>\n",
       "      <td>5.7</td>\n",
       "    </tr>\n",
       "    <tr>\n",
       "      <th>4</th>\n",
       "      <td>2017</td>\n",
       "      <td>City</td>\n",
       "      <td>Age</td>\n",
       "      <td>15-19</td>\n",
       "      <td>153896</td>\n",
       "      <td>5.7</td>\n",
       "    </tr>\n",
       "  </tbody>\n",
       "</table>\n",
       "</div>"
      ],
      "text/plain": [
       "   Year Geography      Demography            Demo_Group   Number  Percent\n",
       "0  2017      City  Race-ethnicity  All race-ethnicities  2716462      NaN\n",
       "1  2017      City             Age                   0-4   172017      6.3\n",
       "2  2017      City             Age                   5-9   150373      5.5\n",
       "3  2017      City             Age                 10-14   155283      5.7\n",
       "4  2017      City             Age                15-19    153896      5.7"
      ]
     },
     "execution_count": 22,
     "metadata": {},
     "output_type": "execute_result"
    }
   ],
   "source": [
    "# ...\n",
    "\n",
    "def parse_df(df, year):\n",
    "    small_df = df[['Year','Geography', 'Demography', 'Demo_Group', 'Number', 'Percent']]\n",
    "    df_year = small_df.loc[small_df['Year'] == year]\n",
    "    return df_year\n",
    "\n",
    "df_2017 = parse_df(df, 2017)\n",
    "df_2017.head()"
   ]
  },
  {
   "cell_type": "code",
   "execution_count": 23,
   "metadata": {},
   "outputs": [
    {
     "data": {
      "text/html": [
       "<div>\n",
       "<style scoped>\n",
       "    .dataframe tbody tr th:only-of-type {\n",
       "        vertical-align: middle;\n",
       "    }\n",
       "\n",
       "    .dataframe tbody tr th {\n",
       "        vertical-align: top;\n",
       "    }\n",
       "\n",
       "    .dataframe thead th {\n",
       "        text-align: right;\n",
       "    }\n",
       "</style>\n",
       "<table border=\"1\" class=\"dataframe\">\n",
       "  <thead>\n",
       "    <tr style=\"text-align: right;\">\n",
       "      <th></th>\n",
       "      <th>Year</th>\n",
       "      <th>Geography</th>\n",
       "      <th>Demography</th>\n",
       "      <th>Demo_Group</th>\n",
       "      <th>Number</th>\n",
       "      <th>Percent</th>\n",
       "    </tr>\n",
       "  </thead>\n",
       "  <tbody>\n",
       "    <tr>\n",
       "      <th>0</th>\n",
       "      <td>2017</td>\n",
       "      <td>City</td>\n",
       "      <td>Race-ethnicity</td>\n",
       "      <td>All race-ethnicities</td>\n",
       "      <td>2716462</td>\n",
       "      <td>NaN</td>\n",
       "    </tr>\n",
       "    <tr>\n",
       "      <th>1</th>\n",
       "      <td>2017</td>\n",
       "      <td>City</td>\n",
       "      <td>Age</td>\n",
       "      <td>0-4</td>\n",
       "      <td>172017</td>\n",
       "      <td>6.3</td>\n",
       "    </tr>\n",
       "    <tr>\n",
       "      <th>2</th>\n",
       "      <td>2017</td>\n",
       "      <td>City</td>\n",
       "      <td>Age</td>\n",
       "      <td>5-9</td>\n",
       "      <td>150373</td>\n",
       "      <td>5.5</td>\n",
       "    </tr>\n",
       "    <tr>\n",
       "      <th>3</th>\n",
       "      <td>2017</td>\n",
       "      <td>City</td>\n",
       "      <td>Age</td>\n",
       "      <td>10-14</td>\n",
       "      <td>155283</td>\n",
       "      <td>5.7</td>\n",
       "    </tr>\n",
       "    <tr>\n",
       "      <th>4</th>\n",
       "      <td>2017</td>\n",
       "      <td>City</td>\n",
       "      <td>Age</td>\n",
       "      <td>15-19</td>\n",
       "      <td>153896</td>\n",
       "      <td>5.7</td>\n",
       "    </tr>\n",
       "  </tbody>\n",
       "</table>\n",
       "</div>"
      ],
      "text/plain": [
       "   Year Geography      Demography            Demo_Group   Number  Percent\n",
       "0  2017      City  Race-ethnicity  All race-ethnicities  2716462      NaN\n",
       "1  2017      City             Age                   0-4   172017      6.3\n",
       "2  2017      City             Age                   5-9   150373      5.5\n",
       "3  2017      City             Age                 10-14   155283      5.7\n",
       "4  2017      City             Age                15-19    153896      5.7"
      ]
     },
     "execution_count": 23,
     "metadata": {},
     "output_type": "execute_result"
    }
   ],
   "source": [
    "# or even more general:\n",
    "\n",
    "def parse_df(df, year, columns):\n",
    "    small_df = df[columns]\n",
    "    df_year = small_df.loc[small_df['Year'] == year]\n",
    "    return df_year\n",
    "\n",
    "keep_cols = ['Year','Geography', 'Demography', 'Demo_Group', 'Number', 'Percent']\n",
    "df_2017 = parse_df(df, 2017, keep_cols)\n",
    "df_2017.head()"
   ]
  },
  {
   "cell_type": "code",
   "execution_count": 24,
   "metadata": {},
   "outputs": [
    {
     "data": {
      "text/html": [
       "<div>\n",
       "<style scoped>\n",
       "    .dataframe tbody tr th:only-of-type {\n",
       "        vertical-align: middle;\n",
       "    }\n",
       "\n",
       "    .dataframe tbody tr th {\n",
       "        vertical-align: top;\n",
       "    }\n",
       "\n",
       "    .dataframe thead th {\n",
       "        text-align: right;\n",
       "    }\n",
       "</style>\n",
       "<table border=\"1\" class=\"dataframe\">\n",
       "  <thead>\n",
       "    <tr style=\"text-align: right;\">\n",
       "      <th></th>\n",
       "      <th>Indicator</th>\n",
       "      <th>Year</th>\n",
       "      <th>Geo_ID</th>\n",
       "      <th>Number</th>\n",
       "      <th>Age_Adj_Rate</th>\n",
       "    </tr>\n",
       "  </thead>\n",
       "  <tbody>\n",
       "    <tr>\n",
       "      <th>19</th>\n",
       "      <td>Total population</td>\n",
       "      <td>2016</td>\n",
       "      <td>606</td>\n",
       "      <td>2704965</td>\n",
       "      <td>NaN</td>\n",
       "    </tr>\n",
       "    <tr>\n",
       "      <th>20</th>\n",
       "      <td>Total population</td>\n",
       "      <td>2016</td>\n",
       "      <td>606</td>\n",
       "      <td>173118</td>\n",
       "      <td>NaN</td>\n",
       "    </tr>\n",
       "    <tr>\n",
       "      <th>21</th>\n",
       "      <td>Total population</td>\n",
       "      <td>2016</td>\n",
       "      <td>606</td>\n",
       "      <td>156888</td>\n",
       "      <td>NaN</td>\n",
       "    </tr>\n",
       "    <tr>\n",
       "      <th>22</th>\n",
       "      <td>Total population</td>\n",
       "      <td>2016</td>\n",
       "      <td>606</td>\n",
       "      <td>154183</td>\n",
       "      <td>NaN</td>\n",
       "    </tr>\n",
       "    <tr>\n",
       "      <th>23</th>\n",
       "      <td>Total population</td>\n",
       "      <td>2016</td>\n",
       "      <td>606</td>\n",
       "      <td>159593</td>\n",
       "      <td>NaN</td>\n",
       "    </tr>\n",
       "  </tbody>\n",
       "</table>\n",
       "</div>"
      ],
      "text/plain": [
       "           Indicator  Year  Geo_ID   Number  Age_Adj_Rate\n",
       "19  Total population  2016     606  2704965           NaN\n",
       "20  Total population  2016     606   173118           NaN\n",
       "21  Total population  2016     606   156888           NaN\n",
       "22  Total population  2016     606   154183           NaN\n",
       "23  Total population  2016     606   159593           NaN"
      ]
     },
     "execution_count": 24,
     "metadata": {},
     "output_type": "execute_result"
    }
   ],
   "source": [
    "keep_cols = ['Indicator','Year','Geo_ID','Number', 'Age_Adj_Rate']\n",
    "alt_df_2016 = parse_df(df, 2016, keep_cols)\n",
    "alt_df_2016.head()"
   ]
  },
  {
   "cell_type": "code",
   "execution_count": null,
   "metadata": {},
   "outputs": [],
   "source": [
    "# Now add comments (not necessary, but PEP8 recomended) -this is helpful for \n",
    "# remembering what your code does\n",
    "# Only do this if the code is not super obvious -this code may be too obvious \n",
    "# to merit a comment\n",
    "\n",
    "def parse_df(df, year, columns):\n",
    "    \"\"\"Input: the full df, year (integer or string depending on if you are\n",
    "    working with City or Community Area), and which columns you are using\n",
    "    note- columns must contain \"Year\"\n",
    "    Output: df with only selected columns and year\n",
    "    \"\"\"\n",
    "    small_df = df[columns]\n",
    "    df_year = small_df.loc[small_df['Year'] == year]\n",
    "    return df_year"
   ]
  },
  {
   "cell_type": "markdown",
   "metadata": {},
   "source": [
    "### From a student question I used my function to prepare two dfs to be merged\n",
    "#### but first I had to investigate my df more"
   ]
  },
  {
   "cell_type": "code",
   "execution_count": 26,
   "metadata": {},
   "outputs": [
    {
     "data": {
      "text/plain": [
       "array([2017, 2016, 2015, 2014, 2013, 2012, 2011, 2010, '2012-2016',\n",
       "       '2011-2015', '2006-2010'], dtype=object)"
      ]
     },
     "execution_count": 26,
     "metadata": {},
     "output_type": "execute_result"
    }
   ],
   "source": [
    "df[\"Year\"].unique()"
   ]
  },
  {
   "cell_type": "code",
   "execution_count": 27,
   "metadata": {},
   "outputs": [
    {
     "data": {
      "text/plain": [
       "Index(['Category', 'SubCategory', 'Indicator', 'Year', 'Geography',\n",
       "       'Geo_Group', 'Geo_ID', 'Demography', 'Demo_Group', 'Number',\n",
       "       'Cum_Number', 'Ave_Annual_Number', 'Crude_Rate',\n",
       "       'Lower_95CI_Crude_Rate', 'Upper_95CI_Crude_Rate', 'Age_Adj_Rate',\n",
       "       'Lower_95CI_Age_Adj_Rate', 'Upper_95CI_Age_Adj_Rate', 'Percent',\n",
       "       'Lower_95CI_Percent', 'Upper_95CI_Percent', 'Weight_Number',\n",
       "       'Weight_Percent', 'Lower_95CI_Weight_Percent',\n",
       "       'Upper_95CI_Weight_Percent', 'Map_Key', 'Flag'],\n",
       "      dtype='object')"
      ]
     },
     "execution_count": 27,
     "metadata": {},
     "output_type": "execute_result"
    }
   ],
   "source": [
    "df.columns"
   ]
  },
  {
   "cell_type": "code",
   "execution_count": 29,
   "metadata": {},
   "outputs": [
    {
     "data": {
      "text/plain": [
       "array(['Chicago', '1-Rogers Park', '2-West Ridge', '3-Uptown',\n",
       "       '4-Lincoln Square', '5-North Center', '6-Lakeview',\n",
       "       '7-Lincoln Park', '8-Near North Side', '9-Edison Park',\n",
       "       '10-Norwood Park', '11-Jefferson Park', '12-Forest Glen',\n",
       "       '13-North Park', '14-Albany Park', '15-Portage Park',\n",
       "       '16-Irving Park', '17-Dunning', '18-Montclare',\n",
       "       '19-Belmont Cragin', '20-Hermosa', '21-Avondale',\n",
       "       '22-Logan Square', '23-Humboldt Park', '24-West Town', '25-Austin',\n",
       "       '26-West Garfield Park', '27-East Garfield Park',\n",
       "       '28-Near West Side', '29-North Lawndale', '30-South Lawndale',\n",
       "       '31-Lower West Side', '32-Loop', '33-Near South Side',\n",
       "       '34-Armour Square', '35-Douglas', '36-Oakland', '37-Fuller Park',\n",
       "       '38-Grand Boulevard', '39-Kenwood', '40-Washington Park',\n",
       "       '41-Hyde Park', '42-Woodlawn', '43-South Shore', '44-Chatham',\n",
       "       '45-Avalon Park', '46-South Chicago', '47-Burnside',\n",
       "       '48-Calumet Heights', '49-Roseland', '50-Pullman',\n",
       "       '51-South Deering', '52-East Side', '53-West Pullman',\n",
       "       '54-Riverdale', '55-Hegewisch', '56-Garfield Ridge',\n",
       "       '57-Archer Heights', '58-Brighton Park', '59-McKinley Park',\n",
       "       '60-Bridgeport', '61-New City', '62-West Elsdon', '63-Gage Park',\n",
       "       '64-Clearing', '65-West Lawn', '66-Chicago Lawn',\n",
       "       '67-West Englewood', '68-Englewood', '69-Greater Grand Crossing',\n",
       "       '70-Ashburn', '71-Auburn Gresham', '72-Beverly',\n",
       "       '73-Washington Heights', '74-Mount Greenwood', '75-Morgan Park',\n",
       "       \"76-O'Hare\", '77-Edgewater'], dtype=object)"
      ]
     },
     "execution_count": 29,
     "metadata": {},
     "output_type": "execute_result"
    }
   ],
   "source": [
    "df['Geo_Group'].unique()"
   ]
  },
  {
   "cell_type": "code",
   "execution_count": 35,
   "metadata": {},
   "outputs": [],
   "source": [
    "# two more function calls to get 2 dfs\n",
    "df_12_16 = parse_df(df,'2012-2016', \n",
    "                    ['Year','Geo_Group', 'Demography', \n",
    "                     'Demo_Group', 'Number', 'Percent'])\n",
    "df_11_15 = parse_df(df,'2011-2015', \n",
    "                    ['Year','Geo_Group', 'Demography', \n",
    "                     'Demo_Group', 'Number', 'Percent'])"
   ]
  },
  {
   "cell_type": "code",
   "execution_count": 36,
   "metadata": {},
   "outputs": [
    {
     "data": {
      "text/html": [
       "<div>\n",
       "<style scoped>\n",
       "    .dataframe tbody tr th:only-of-type {\n",
       "        vertical-align: middle;\n",
       "    }\n",
       "\n",
       "    .dataframe tbody tr th {\n",
       "        vertical-align: top;\n",
       "    }\n",
       "\n",
       "    .dataframe thead th {\n",
       "        text-align: right;\n",
       "    }\n",
       "</style>\n",
       "<table border=\"1\" class=\"dataframe\">\n",
       "  <thead>\n",
       "    <tr style=\"text-align: right;\">\n",
       "      <th></th>\n",
       "      <th>Year_x</th>\n",
       "      <th>Geo_Group</th>\n",
       "      <th>Demography_x</th>\n",
       "      <th>Demo_Group_x</th>\n",
       "      <th>Number_x</th>\n",
       "      <th>Percent_x</th>\n",
       "      <th>Year_y</th>\n",
       "      <th>Demography_y</th>\n",
       "      <th>Demo_Group_y</th>\n",
       "      <th>Number_y</th>\n",
       "      <th>Percent_y</th>\n",
       "    </tr>\n",
       "  </thead>\n",
       "  <tbody>\n",
       "    <tr>\n",
       "      <th>0</th>\n",
       "      <td>2012-2016</td>\n",
       "      <td>1-Rogers Park</td>\n",
       "      <td>NaN</td>\n",
       "      <td>NaN</td>\n",
       "      <td>55500</td>\n",
       "      <td>NaN</td>\n",
       "      <td>2011-2015</td>\n",
       "      <td>NaN</td>\n",
       "      <td>NaN</td>\n",
       "      <td>54402</td>\n",
       "      <td>NaN</td>\n",
       "    </tr>\n",
       "    <tr>\n",
       "      <th>1</th>\n",
       "      <td>2012-2016</td>\n",
       "      <td>2-West Ridge</td>\n",
       "      <td>NaN</td>\n",
       "      <td>NaN</td>\n",
       "      <td>73723</td>\n",
       "      <td>NaN</td>\n",
       "      <td>2011-2015</td>\n",
       "      <td>NaN</td>\n",
       "      <td>NaN</td>\n",
       "      <td>72211</td>\n",
       "      <td>NaN</td>\n",
       "    </tr>\n",
       "    <tr>\n",
       "      <th>2</th>\n",
       "      <td>2012-2016</td>\n",
       "      <td>3-Uptown</td>\n",
       "      <td>NaN</td>\n",
       "      <td>NaN</td>\n",
       "      <td>56296</td>\n",
       "      <td>NaN</td>\n",
       "      <td>2011-2015</td>\n",
       "      <td>NaN</td>\n",
       "      <td>NaN</td>\n",
       "      <td>55137</td>\n",
       "      <td>NaN</td>\n",
       "    </tr>\n",
       "    <tr>\n",
       "      <th>3</th>\n",
       "      <td>2012-2016</td>\n",
       "      <td>4-Lincoln Square</td>\n",
       "      <td>NaN</td>\n",
       "      <td>NaN</td>\n",
       "      <td>41483</td>\n",
       "      <td>NaN</td>\n",
       "      <td>2011-2015</td>\n",
       "      <td>NaN</td>\n",
       "      <td>NaN</td>\n",
       "      <td>40761</td>\n",
       "      <td>NaN</td>\n",
       "    </tr>\n",
       "    <tr>\n",
       "      <th>4</th>\n",
       "      <td>2012-2016</td>\n",
       "      <td>5-North Center</td>\n",
       "      <td>NaN</td>\n",
       "      <td>NaN</td>\n",
       "      <td>34942</td>\n",
       "      <td>NaN</td>\n",
       "      <td>2011-2015</td>\n",
       "      <td>NaN</td>\n",
       "      <td>NaN</td>\n",
       "      <td>34623</td>\n",
       "      <td>NaN</td>\n",
       "    </tr>\n",
       "    <tr>\n",
       "      <th>...</th>\n",
       "      <td>...</td>\n",
       "      <td>...</td>\n",
       "      <td>...</td>\n",
       "      <td>...</td>\n",
       "      <td>...</td>\n",
       "      <td>...</td>\n",
       "      <td>...</td>\n",
       "      <td>...</td>\n",
       "      <td>...</td>\n",
       "      <td>...</td>\n",
       "      <td>...</td>\n",
       "    </tr>\n",
       "    <tr>\n",
       "      <th>72</th>\n",
       "      <td>2012-2016</td>\n",
       "      <td>73-Washington Heights</td>\n",
       "      <td>NaN</td>\n",
       "      <td>NaN</td>\n",
       "      <td>27055</td>\n",
       "      <td>NaN</td>\n",
       "      <td>2011-2015</td>\n",
       "      <td>NaN</td>\n",
       "      <td>NaN</td>\n",
       "      <td>27116</td>\n",
       "      <td>NaN</td>\n",
       "    </tr>\n",
       "    <tr>\n",
       "      <th>73</th>\n",
       "      <td>2012-2016</td>\n",
       "      <td>74-Mount Greenwood</td>\n",
       "      <td>NaN</td>\n",
       "      <td>NaN</td>\n",
       "      <td>19029</td>\n",
       "      <td>NaN</td>\n",
       "      <td>2011-2015</td>\n",
       "      <td>NaN</td>\n",
       "      <td>NaN</td>\n",
       "      <td>18783</td>\n",
       "      <td>NaN</td>\n",
       "    </tr>\n",
       "    <tr>\n",
       "      <th>74</th>\n",
       "      <td>2012-2016</td>\n",
       "      <td>75-Morgan Park</td>\n",
       "      <td>NaN</td>\n",
       "      <td>NaN</td>\n",
       "      <td>28919</td>\n",
       "      <td>NaN</td>\n",
       "      <td>2011-2015</td>\n",
       "      <td>NaN</td>\n",
       "      <td>NaN</td>\n",
       "      <td>29113</td>\n",
       "      <td>NaN</td>\n",
       "    </tr>\n",
       "    <tr>\n",
       "      <th>75</th>\n",
       "      <td>2012-2016</td>\n",
       "      <td>76-O'Hare</td>\n",
       "      <td>NaN</td>\n",
       "      <td>NaN</td>\n",
       "      <td>21756</td>\n",
       "      <td>NaN</td>\n",
       "      <td>2011-2015</td>\n",
       "      <td>NaN</td>\n",
       "      <td>NaN</td>\n",
       "      <td>22015</td>\n",
       "      <td>NaN</td>\n",
       "    </tr>\n",
       "    <tr>\n",
       "      <th>76</th>\n",
       "      <td>2012-2016</td>\n",
       "      <td>77-Edgewater</td>\n",
       "      <td>NaN</td>\n",
       "      <td>NaN</td>\n",
       "      <td>55430</td>\n",
       "      <td>NaN</td>\n",
       "      <td>2011-2015</td>\n",
       "      <td>NaN</td>\n",
       "      <td>NaN</td>\n",
       "      <td>54873</td>\n",
       "      <td>NaN</td>\n",
       "    </tr>\n",
       "  </tbody>\n",
       "</table>\n",
       "<p>77 rows × 11 columns</p>\n",
       "</div>"
      ],
      "text/plain": [
       "       Year_x              Geo_Group Demography_x Demo_Group_x  Number_x  \\\n",
       "0   2012-2016          1-Rogers Park          NaN          NaN     55500   \n",
       "1   2012-2016           2-West Ridge          NaN          NaN     73723   \n",
       "2   2012-2016               3-Uptown          NaN          NaN     56296   \n",
       "3   2012-2016       4-Lincoln Square          NaN          NaN     41483   \n",
       "4   2012-2016         5-North Center          NaN          NaN     34942   \n",
       "..        ...                    ...          ...          ...       ...   \n",
       "72  2012-2016  73-Washington Heights          NaN          NaN     27055   \n",
       "73  2012-2016     74-Mount Greenwood          NaN          NaN     19029   \n",
       "74  2012-2016         75-Morgan Park          NaN          NaN     28919   \n",
       "75  2012-2016              76-O'Hare          NaN          NaN     21756   \n",
       "76  2012-2016           77-Edgewater          NaN          NaN     55430   \n",
       "\n",
       "    Percent_x     Year_y Demography_y Demo_Group_y  Number_y  Percent_y  \n",
       "0         NaN  2011-2015          NaN          NaN     54402        NaN  \n",
       "1         NaN  2011-2015          NaN          NaN     72211        NaN  \n",
       "2         NaN  2011-2015          NaN          NaN     55137        NaN  \n",
       "3         NaN  2011-2015          NaN          NaN     40761        NaN  \n",
       "4         NaN  2011-2015          NaN          NaN     34623        NaN  \n",
       "..        ...        ...          ...          ...       ...        ...  \n",
       "72        NaN  2011-2015          NaN          NaN     27116        NaN  \n",
       "73        NaN  2011-2015          NaN          NaN     18783        NaN  \n",
       "74        NaN  2011-2015          NaN          NaN     29113        NaN  \n",
       "75        NaN  2011-2015          NaN          NaN     22015        NaN  \n",
       "76        NaN  2011-2015          NaN          NaN     54873        NaN  \n",
       "\n",
       "[77 rows x 11 columns]"
      ]
     },
     "execution_count": 36,
     "metadata": {},
     "output_type": "execute_result"
    }
   ],
   "source": [
    "# merged dfs\n",
    "df_12_16.merge(df_11_15, on = 'Geo_Group', how = 'inner')"
   ]
  },
  {
   "cell_type": "markdown",
   "metadata": {},
   "source": [
    "This is a pretty messy df, after seeing this I would likely either alter my function call or alter my function/write a new function to generate dfs that had exactly (and only) the information that I am looking for from the larger df"
   ]
  },
  {
   "cell_type": "code",
   "execution_count": null,
   "metadata": {},
   "outputs": [],
   "source": []
  }
 ],
 "metadata": {
  "kernelspec": {
   "display_name": "Python 3",
   "language": "python",
   "name": "python3"
  },
  "language_info": {
   "codemirror_mode": {
    "name": "ipython",
    "version": 3
   },
   "file_extension": ".py",
   "mimetype": "text/x-python",
   "name": "python",
   "nbconvert_exporter": "python",
   "pygments_lexer": "ipython3",
   "version": "3.7.1"
  }
 },
 "nbformat": 4,
 "nbformat_minor": 2
}
